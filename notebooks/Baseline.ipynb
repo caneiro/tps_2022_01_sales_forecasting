{
 "cells": [
  {
   "cell_type": "markdown",
   "metadata": {},
   "source": [
    "# Libraries"
   ]
  },
  {
   "cell_type": "code",
   "execution_count": 20,
   "metadata": {
    "_cell_guid": "b1076dfc-b9ad-4769-8c92-a6c4dae69d19",
    "_uuid": "8f2839f25d086af736a60e9eeb907d3b93b6e0e5",
    "execution": {
     "iopub.execute_input": "2022-01-23T22:48:14.425690Z",
     "iopub.status.busy": "2022-01-23T22:48:14.425337Z",
     "iopub.status.idle": "2022-01-23T22:48:14.431040Z",
     "shell.execute_reply": "2022-01-23T22:48:14.430171Z",
     "shell.execute_reply.started": "2022-01-23T22:48:14.425654Z"
    }
   },
   "outputs": [],
   "source": [
    "import numpy as np\n",
    "import pandas as pd\n",
    "\n",
    "pd.set_option('display.max_colwidth', None)\n",
    "pd.set_option('display.max_rows', 999)\n",
    "\n",
    "import matplotlib.pyplot as plt\n",
    "import seaborn as sns\n",
    "\n",
    "import itertools\n",
    "from pathlib import Path\n"
   ]
  },
  {
   "cell_type": "code",
   "execution_count": 21,
   "metadata": {
    "_cell_guid": "b1076dfc-b9ad-4769-8c92-a6c4dae69d19",
    "_uuid": "8f2839f25d086af736a60e9eeb907d3b93b6e0e5",
    "execution": {
     "iopub.execute_input": "2022-01-23T22:20:09.105352Z",
     "iopub.status.busy": "2022-01-23T22:20:09.105046Z",
     "iopub.status.idle": "2022-01-23T22:20:26.780305Z",
     "shell.execute_reply": "2022-01-23T22:20:26.779164Z",
     "shell.execute_reply.started": "2022-01-23T22:20:09.105321Z"
    }
   },
   "outputs": [],
   "source": [
    "# !pip install pystan==2.19.1.1\n",
    "# !pip install prophet\n",
    "\n",
    "from prophet import Prophet"
   ]
  },
  {
   "cell_type": "markdown",
   "metadata": {},
   "source": [
    "# Load the data"
   ]
  },
  {
   "cell_type": "code",
   "execution_count": 22,
   "metadata": {},
   "outputs": [],
   "source": [
    "PATH = Path.cwd().parent\n",
    "RAW_PATH = Path(PATH, \"./data/raw/\") "
   ]
  },
  {
   "cell_type": "code",
   "execution_count": 23,
   "metadata": {
    "_cell_guid": "b1076dfc-b9ad-4769-8c92-a6c4dae69d19",
    "_uuid": "8f2839f25d086af736a60e9eeb907d3b93b6e0e5",
    "execution": {
     "iopub.execute_input": "2022-01-23T22:20:26.782386Z",
     "iopub.status.busy": "2022-01-23T22:20:26.782037Z",
     "iopub.status.idle": "2022-01-23T22:20:26.856239Z",
     "shell.execute_reply": "2022-01-23T22:20:26.855316Z",
     "shell.execute_reply.started": "2022-01-23T22:20:26.782348Z"
    }
   },
   "outputs": [
    {
     "name": "stdout",
     "output_type": "stream",
     "text": [
      "<class 'pandas.core.frame.DataFrame'>\n",
      "RangeIndex: 26298 entries, 0 to 26297\n",
      "Data columns (total 6 columns):\n",
      " #   Column    Non-Null Count  Dtype         \n",
      "---  ------    --------------  -----         \n",
      " 0   row_id    26298 non-null  int64         \n",
      " 1   date      26298 non-null  datetime64[ns]\n",
      " 2   country   26298 non-null  object        \n",
      " 3   store     26298 non-null  object        \n",
      " 4   product   26298 non-null  object        \n",
      " 5   num_sold  26298 non-null  int64         \n",
      "dtypes: datetime64[ns](1), int64(2), object(3)\n",
      "memory usage: 1.2+ MB\n",
      "None\n"
     ]
    },
    {
     "data": {
      "text/html": [
       "<div>\n",
       "<style scoped>\n",
       "    .dataframe tbody tr th:only-of-type {\n",
       "        vertical-align: middle;\n",
       "    }\n",
       "\n",
       "    .dataframe tbody tr th {\n",
       "        vertical-align: top;\n",
       "    }\n",
       "\n",
       "    .dataframe thead th {\n",
       "        text-align: right;\n",
       "    }\n",
       "</style>\n",
       "<table border=\"1\" class=\"dataframe\">\n",
       "  <thead>\n",
       "    <tr style=\"text-align: right;\">\n",
       "      <th></th>\n",
       "      <th>row_id</th>\n",
       "      <th>date</th>\n",
       "      <th>country</th>\n",
       "      <th>store</th>\n",
       "      <th>product</th>\n",
       "      <th>num_sold</th>\n",
       "    </tr>\n",
       "  </thead>\n",
       "  <tbody>\n",
       "    <tr>\n",
       "      <th>0</th>\n",
       "      <td>0</td>\n",
       "      <td>2015-01-01</td>\n",
       "      <td>Finland</td>\n",
       "      <td>KaggleMart</td>\n",
       "      <td>Kaggle Mug</td>\n",
       "      <td>329</td>\n",
       "    </tr>\n",
       "    <tr>\n",
       "      <th>1</th>\n",
       "      <td>1</td>\n",
       "      <td>2015-01-01</td>\n",
       "      <td>Finland</td>\n",
       "      <td>KaggleMart</td>\n",
       "      <td>Kaggle Hat</td>\n",
       "      <td>520</td>\n",
       "    </tr>\n",
       "    <tr>\n",
       "      <th>2</th>\n",
       "      <td>2</td>\n",
       "      <td>2015-01-01</td>\n",
       "      <td>Finland</td>\n",
       "      <td>KaggleMart</td>\n",
       "      <td>Kaggle Sticker</td>\n",
       "      <td>146</td>\n",
       "    </tr>\n",
       "    <tr>\n",
       "      <th>3</th>\n",
       "      <td>3</td>\n",
       "      <td>2015-01-01</td>\n",
       "      <td>Finland</td>\n",
       "      <td>KaggleRama</td>\n",
       "      <td>Kaggle Mug</td>\n",
       "      <td>572</td>\n",
       "    </tr>\n",
       "    <tr>\n",
       "      <th>4</th>\n",
       "      <td>4</td>\n",
       "      <td>2015-01-01</td>\n",
       "      <td>Finland</td>\n",
       "      <td>KaggleRama</td>\n",
       "      <td>Kaggle Hat</td>\n",
       "      <td>911</td>\n",
       "    </tr>\n",
       "  </tbody>\n",
       "</table>\n",
       "</div>"
      ],
      "text/plain": [
       "   row_id       date  country       store         product  num_sold\n",
       "0       0 2015-01-01  Finland  KaggleMart      Kaggle Mug       329\n",
       "1       1 2015-01-01  Finland  KaggleMart      Kaggle Hat       520\n",
       "2       2 2015-01-01  Finland  KaggleMart  Kaggle Sticker       146\n",
       "3       3 2015-01-01  Finland  KaggleRama      Kaggle Mug       572\n",
       "4       4 2015-01-01  Finland  KaggleRama      Kaggle Hat       911"
      ]
     },
     "execution_count": 23,
     "metadata": {},
     "output_type": "execute_result"
    }
   ],
   "source": [
    "train = pd.read_csv(Path(RAW_PATH, 'train.csv'))\n",
    "train['date'] = pd.to_datetime(train.date)\n",
    "print(train.info())\n",
    "train.head()"
   ]
  },
  {
   "cell_type": "code",
   "execution_count": 24,
   "metadata": {
    "_cell_guid": "b1076dfc-b9ad-4769-8c92-a6c4dae69d19",
    "_uuid": "8f2839f25d086af736a60e9eeb907d3b93b6e0e5",
    "execution": {
     "iopub.execute_input": "2022-01-23T22:20:26.858496Z",
     "iopub.status.busy": "2022-01-23T22:20:26.858164Z",
     "iopub.status.idle": "2022-01-23T22:20:26.900059Z",
     "shell.execute_reply": "2022-01-23T22:20:26.899301Z",
     "shell.execute_reply.started": "2022-01-23T22:20:26.858451Z"
    }
   },
   "outputs": [
    {
     "name": "stdout",
     "output_type": "stream",
     "text": [
      "<class 'pandas.core.frame.DataFrame'>\n",
      "RangeIndex: 6570 entries, 0 to 6569\n",
      "Data columns (total 5 columns):\n",
      " #   Column   Non-Null Count  Dtype         \n",
      "---  ------   --------------  -----         \n",
      " 0   row_id   6570 non-null   int64         \n",
      " 1   date     6570 non-null   datetime64[ns]\n",
      " 2   country  6570 non-null   object        \n",
      " 3   store    6570 non-null   object        \n",
      " 4   product  6570 non-null   object        \n",
      "dtypes: datetime64[ns](1), int64(1), object(3)\n",
      "memory usage: 256.8+ KB\n",
      "None\n"
     ]
    },
    {
     "data": {
      "text/html": [
       "<div>\n",
       "<style scoped>\n",
       "    .dataframe tbody tr th:only-of-type {\n",
       "        vertical-align: middle;\n",
       "    }\n",
       "\n",
       "    .dataframe tbody tr th {\n",
       "        vertical-align: top;\n",
       "    }\n",
       "\n",
       "    .dataframe thead th {\n",
       "        text-align: right;\n",
       "    }\n",
       "</style>\n",
       "<table border=\"1\" class=\"dataframe\">\n",
       "  <thead>\n",
       "    <tr style=\"text-align: right;\">\n",
       "      <th></th>\n",
       "      <th>row_id</th>\n",
       "      <th>date</th>\n",
       "      <th>country</th>\n",
       "      <th>store</th>\n",
       "      <th>product</th>\n",
       "    </tr>\n",
       "  </thead>\n",
       "  <tbody>\n",
       "    <tr>\n",
       "      <th>0</th>\n",
       "      <td>26298</td>\n",
       "      <td>2019-01-01</td>\n",
       "      <td>Finland</td>\n",
       "      <td>KaggleMart</td>\n",
       "      <td>Kaggle Mug</td>\n",
       "    </tr>\n",
       "    <tr>\n",
       "      <th>1</th>\n",
       "      <td>26299</td>\n",
       "      <td>2019-01-01</td>\n",
       "      <td>Finland</td>\n",
       "      <td>KaggleMart</td>\n",
       "      <td>Kaggle Hat</td>\n",
       "    </tr>\n",
       "    <tr>\n",
       "      <th>2</th>\n",
       "      <td>26300</td>\n",
       "      <td>2019-01-01</td>\n",
       "      <td>Finland</td>\n",
       "      <td>KaggleMart</td>\n",
       "      <td>Kaggle Sticker</td>\n",
       "    </tr>\n",
       "    <tr>\n",
       "      <th>3</th>\n",
       "      <td>26301</td>\n",
       "      <td>2019-01-01</td>\n",
       "      <td>Finland</td>\n",
       "      <td>KaggleRama</td>\n",
       "      <td>Kaggle Mug</td>\n",
       "    </tr>\n",
       "    <tr>\n",
       "      <th>4</th>\n",
       "      <td>26302</td>\n",
       "      <td>2019-01-01</td>\n",
       "      <td>Finland</td>\n",
       "      <td>KaggleRama</td>\n",
       "      <td>Kaggle Hat</td>\n",
       "    </tr>\n",
       "  </tbody>\n",
       "</table>\n",
       "</div>"
      ],
      "text/plain": [
       "   row_id       date  country       store         product\n",
       "0   26298 2019-01-01  Finland  KaggleMart      Kaggle Mug\n",
       "1   26299 2019-01-01  Finland  KaggleMart      Kaggle Hat\n",
       "2   26300 2019-01-01  Finland  KaggleMart  Kaggle Sticker\n",
       "3   26301 2019-01-01  Finland  KaggleRama      Kaggle Mug\n",
       "4   26302 2019-01-01  Finland  KaggleRama      Kaggle Hat"
      ]
     },
     "execution_count": 24,
     "metadata": {},
     "output_type": "execute_result"
    }
   ],
   "source": [
    "test = pd.read_csv(Path(RAW_PATH, 'test.csv'))\n",
    "test['date'] = pd.to_datetime(test.date)\n",
    "print(test.info())\n",
    "test.head()"
   ]
  },
  {
   "cell_type": "markdown",
   "metadata": {},
   "source": [
    "# Competition Metric\n",
    "https://www.kaggle.com/cpmpml/smape-weirdness"
   ]
  },
  {
   "cell_type": "code",
   "execution_count": 25,
   "metadata": {
    "execution": {
     "iopub.execute_input": "2022-01-23T22:20:26.902326Z",
     "iopub.status.busy": "2022-01-23T22:20:26.902036Z",
     "iopub.status.idle": "2022-01-23T22:20:26.908304Z",
     "shell.execute_reply": "2022-01-23T22:20:26.907518Z",
     "shell.execute_reply.started": "2022-01-23T22:20:26.902297Z"
    }
   },
   "outputs": [],
   "source": [
    "def SMAPE(y_true, y_pred):\n",
    "    denominator = (y_true + np.abs(y_pred)) / 200.0\n",
    "    diff = np.abs(y_true - y_pred) / denominator\n",
    "    diff[denominator == 0] = 0.0\n",
    "    return np.mean(diff)"
   ]
  },
  {
   "cell_type": "markdown",
   "metadata": {},
   "source": [
    "# Summary"
   ]
  },
  {
   "cell_type": "code",
   "execution_count": 26,
   "metadata": {
    "execution": {
     "iopub.execute_input": "2022-01-23T22:20:26.910249Z",
     "iopub.status.busy": "2022-01-23T22:20:26.909599Z",
     "iopub.status.idle": "2022-01-23T22:20:31.198362Z",
     "shell.execute_reply": "2022-01-23T22:20:31.197491Z",
     "shell.execute_reply.started": "2022-01-23T22:20:26.910204Z"
    }
   },
   "outputs": [
    {
     "data": {
      "text/plain": [
       "<seaborn.axisgrid.FacetGrid at 0x1a22e7fa0>"
      ]
     },
     "execution_count": 26,
     "metadata": {},
     "output_type": "execute_result"
    },
    {
     "data": {
      "image/png": "[encoded data removed]",
      "text/plain": [
       "<Figure size 1187.5x540 with 6 Axes>"
      ]
     },
     "metadata": {
      "needs_background": "light"
     },
     "output_type": "display_data"
    }
   ],
   "source": [
    "sns.relplot(data=train, x='date', y='num_sold', row='country', col='store', hue='product',\n",
    "            aspect=3, height=2.5, kind='line')"
   ]
  },
  {
   "cell_type": "markdown",
   "metadata": {},
   "source": [
    "# Train Test Val Split"
   ]
  },
  {
   "cell_type": "code",
   "execution_count": 27,
   "metadata": {
    "execution": {
     "iopub.execute_input": "2022-01-23T22:20:31.199908Z",
     "iopub.status.busy": "2022-01-23T22:20:31.199666Z",
     "iopub.status.idle": "2022-01-23T22:20:31.218718Z",
     "shell.execute_reply": "2022-01-23T22:20:31.217818Z",
     "shell.execute_reply.started": "2022-01-23T22:20:31.199877Z"
    }
   },
   "outputs": [
    {
     "name": "stdout",
     "output_type": "stream",
     "text": [
      "Train (19728, 6) | Start 2015-01-01 00:00:00 | End 2017-12-31 00:00:00\n",
      "Val (6570, 6) | Start 2018-01-01 00:00:00 | End 2018-12-31 00:00:00\n",
      "Test (6570, 5) | Start 2019-01-01 00:00:00 | End 2019-12-31 00:00:00\n"
     ]
    }
   ],
   "source": [
    "val = train[train.date >= '2018-01-01'].copy()\n",
    "val.reset_index(drop=True, inplace=True)\n",
    "train = train[train.date < '2018-01-01'].copy()\n",
    "train.reset_index(drop=True, inplace=True)\n",
    "train.rename({'date':'ds', 'num_sold':'y'}, axis=1, inplace=True)\n",
    "val.rename({'date':'ds', 'num_sold':'y'}, axis=1, inplace=True)\n",
    "test.rename({'date':'ds'}, axis=1, inplace=True)\n",
    "\n",
    "print('Train', train.shape, '| Start', train.ds.min(), '| End', train.ds.max())\n",
    "print('Val', val.shape, '| Start', val.ds.min(), '| End', val.ds.max())\n",
    "print('Test', test.shape, '| Start', test.ds.min(), '| End', test.ds.max())"
   ]
  },
  {
   "cell_type": "markdown",
   "metadata": {},
   "source": [
    "# Base Prophet"
   ]
  },
  {
   "cell_type": "code",
   "execution_count": 29,
   "metadata": {
    "execution": {
     "iopub.execute_input": "2022-01-23T22:35:58.851126Z",
     "iopub.status.busy": "2022-01-23T22:35:58.850574Z",
     "iopub.status.idle": "2022-01-23T22:38:20.493959Z",
     "shell.execute_reply": "2022-01-23T22:38:20.493143Z",
     "shell.execute_reply.started": "2022-01-23T22:35:58.851062Z"
    }
   },
   "outputs": [
    {
     "name": "stdout",
     "output_type": "stream",
     "text": [
      "Finland KaggleMart Kaggle Mug\n"
     ]
    },
    {
     "name": "stderr",
     "output_type": "stream",
     "text": [
      "INFO:prophet:Disabling daily seasonality. Run prophet with daily_seasonality=True to override this.\n",
      "/Users/rco/opt/anaconda3/envs/tps/lib/python3.9/site-packages/prophet/forecaster.py:896: FutureWarning: The frame.append method is deprecated and will be removed from pandas in a future version. Use pandas.concat instead.\n",
      "  components = components.append(new_comp)\n",
      "/Users/rco/opt/anaconda3/envs/tps/lib/python3.9/site-packages/prophet/forecaster.py:896: FutureWarning: The frame.append method is deprecated and will be removed from pandas in a future version. Use pandas.concat instead.\n",
      "  components = components.append(new_comp)\n"
     ]
    },
    {
     "name": "stdout",
     "output_type": "stream",
     "text": [
      "Initial log joint probability = -84.0379\n",
      "    Iter      log prob        ||dx||      ||grad||       alpha      alpha0  # evals  Notes \n",
      "      99       2983.39    0.00065573       59.5362           1           1      122   \n",
      "    Iter      log prob        ||dx||      ||grad||       alpha      alpha0  # evals  Notes \n",
      "     144       2984.51    0.00030595       88.0228   5.428e-06       0.001      209  LS failed, Hessian reset \n",
      "     196       2984.55    2.3867e-05       56.7392    2.84e-07       0.001      327  LS failed, Hessian reset \n",
      "     199       2984.55   6.17895e-06       46.1193           1           1      330   \n",
      "    Iter      log prob        ||dx||      ||grad||       alpha      alpha0  # evals  Notes \n",
      "     213       2984.55      5.82e-06       62.2411   9.645e-08       0.001      389  LS failed, Hessian reset \n",
      "     234       2984.55   4.60333e-07       57.6919      0.2396           1      419   \n",
      "Optimization terminated normally: \n",
      "  Convergence detected: relative gradient magnitude is below tolerance\n"
     ]
    },
    {
     "name": "stderr",
     "output_type": "stream",
     "text": [
      "/Users/rco/opt/anaconda3/envs/tps/lib/python3.9/site-packages/prophet/forecaster.py:896: FutureWarning: The frame.append method is deprecated and will be removed from pandas in a future version. Use pandas.concat instead.\n",
      "  components = components.append(new_comp)\n",
      "/Users/rco/opt/anaconda3/envs/tps/lib/python3.9/site-packages/prophet/forecaster.py:896: FutureWarning: The frame.append method is deprecated and will be removed from pandas in a future version. Use pandas.concat instead.\n",
      "  components = components.append(new_comp)\n",
      "/Users/rco/opt/anaconda3/envs/tps/lib/python3.9/site-packages/prophet/forecaster.py:896: FutureWarning: The frame.append method is deprecated and will be removed from pandas in a future version. Use pandas.concat instead.\n",
      "  components = components.append(new_comp)\n",
      "INFO:prophet:Disabling daily seasonality. Run prophet with daily_seasonality=True to override this.\n"
     ]
    },
    {
     "name": "stdout",
     "output_type": "stream",
     "text": [
      "\n",
      "--------------------------------------------------------------------------\n",
      "Train Score Finland KaggleMart Kaggle Mug SMAPE: 7.317973\n",
      "Val Score Finland KaggleMart Kaggle Mug SMAPE: 10.750975\n",
      "--------------------------------------------------------------------------\n",
      "\n",
      "Finland KaggleMart Kaggle Hat\n"
     ]
    },
    {
     "name": "stderr",
     "output_type": "stream",
     "text": [
      "/Users/rco/opt/anaconda3/envs/tps/lib/python3.9/site-packages/prophet/forecaster.py:896: FutureWarning: The frame.append method is deprecated and will be removed from pandas in a future version. Use pandas.concat instead.\n",
      "  components = components.append(new_comp)\n"
     ]
    },
    {
     "name": "stdout",
     "output_type": "stream",
     "text": [
      "Initial log joint probability = -71.1528\n",
      "    Iter      log prob        ||dx||      ||grad||       alpha      alpha0  # evals  Notes \n",
      "      99       2946.03     0.0109787       261.213           1           1      136   \n",
      "    Iter      log prob        ||dx||      ||grad||       alpha      alpha0  # evals  Notes \n",
      "     128       2947.03   0.000251438        213.04   1.854e-06       0.001      202  LS failed, Hessian reset \n",
      "     171       2947.27   0.000124654       97.4375   1.619e-06       0.001      303  LS failed, Hessian reset \n",
      "     199       2947.28     4.988e-06        57.189      0.6792      0.6792      343   \n",
      "    Iter      log prob        ||dx||      ||grad||       alpha      alpha0  # evals  Notes \n",
      "     210       2947.28   5.31298e-07       58.9951   1.045e-08       0.001      404  LS failed, Hessian reset \n",
      "     211       2947.28     1.806e-07       35.2315      0.9565      0.9565      405   \n",
      "Optimization terminated normally: \n",
      "  Convergence detected: relative gradient magnitude is below tolerance\n"
     ]
    },
    {
     "name": "stderr",
     "output_type": "stream",
     "text": [
      "/Users/rco/opt/anaconda3/envs/tps/lib/python3.9/site-packages/prophet/forecaster.py:896: FutureWarning: The frame.append method is deprecated and will be removed from pandas in a future version. Use pandas.concat instead.\n",
      "  components = components.append(new_comp)\n",
      "/Users/rco/opt/anaconda3/envs/tps/lib/python3.9/site-packages/prophet/forecaster.py:896: FutureWarning: The frame.append method is deprecated and will be removed from pandas in a future version. Use pandas.concat instead.\n",
      "  components = components.append(new_comp)\n",
      "/Users/rco/opt/anaconda3/envs/tps/lib/python3.9/site-packages/prophet/forecaster.py:896: FutureWarning: The frame.append method is deprecated and will be removed from pandas in a future version. Use pandas.concat instead.\n",
      "  components = components.append(new_comp)\n",
      "/Users/rco/opt/anaconda3/envs/tps/lib/python3.9/site-packages/prophet/forecaster.py:896: FutureWarning: The frame.append method is deprecated and will be removed from pandas in a future version. Use pandas.concat instead.\n",
      "  components = components.append(new_comp)\n",
      "INFO:prophet:Disabling daily seasonality. Run prophet with daily_seasonality=True to override this.\n"
     ]
    },
    {
     "name": "stdout",
     "output_type": "stream",
     "text": [
      "\n",
      "--------------------------------------------------------------------------\n",
      "Train Score Finland KaggleMart Kaggle Hat SMAPE: 7.290507\n",
      "Val Score Finland KaggleMart Kaggle Hat SMAPE: 9.115974\n",
      "--------------------------------------------------------------------------\n",
      "\n",
      "Finland KaggleMart Kaggle Sticker\n"
     ]
    },
    {
     "name": "stderr",
     "output_type": "stream",
     "text": [
      "/Users/rco/opt/anaconda3/envs/tps/lib/python3.9/site-packages/prophet/forecaster.py:896: FutureWarning: The frame.append method is deprecated and will be removed from pandas in a future version. Use pandas.concat instead.\n",
      "  components = components.append(new_comp)\n"
     ]
    },
    {
     "name": "stdout",
     "output_type": "stream",
     "text": [
      "Initial log joint probability = -95.8314\n",
      "    Iter      log prob        ||dx||      ||grad||       alpha      alpha0  # evals  Notes \n",
      "      99       2848.04   0.000776344       80.5693           1           1      126   \n",
      "    Iter      log prob        ||dx||      ||grad||       alpha      alpha0  # evals  Notes \n",
      "     162       2849.54   0.000299752        178.86   2.317e-06       0.001      246  LS failed, Hessian reset \n",
      "     199       2849.78   1.96866e-06       42.0684           1           1      298   \n",
      "    Iter      log prob        ||dx||      ||grad||       alpha      alpha0  # evals  Notes \n",
      "     224       2849.78    6.9625e-05       59.2803   1.238e-06       0.001      365  LS failed, Hessian reset \n",
      "     291       2849.86   0.000107686       105.754   1.443e-06       0.001      495  LS failed, Hessian reset \n",
      "     299       2849.88   0.000206188       86.3699      0.8134      0.8134      505   \n",
      "    Iter      log prob        ||dx||      ||grad||       alpha      alpha0  # evals  Notes \n",
      "     357       2849.91   1.23584e-05       32.9708   2.066e-07       0.001      622  LS failed, Hessian reset \n",
      "     399       2849.92   9.22257e-06       78.2326      0.1068      0.1068      674   \n",
      "    Iter      log prob        ||dx||      ||grad||       alpha      alpha0  # evals  Notes \n",
      "     433       2849.94   9.48831e-05       69.7363   1.098e-06       0.001      758  LS failed, Hessian reset \n",
      "     499       2849.95   9.91185e-06       63.3832        2.42       0.242      847   \n",
      "    Iter      log prob        ||dx||      ||grad||       alpha      alpha0  # evals  Notes \n",
      "     559       2850.06   0.000497671       133.479   5.144e-06       0.001      993  LS failed, Hessian reset \n",
      "     579       2850.16   3.90756e-05       42.3153   7.458e-07       0.001     1060  LS failed, Hessian reset \n",
      "     599       2850.16   1.46041e-06       31.6406      0.7269      0.7269     1093   \n",
      "    Iter      log prob        ||dx||      ||grad||       alpha      alpha0  # evals  Notes \n",
      "     699       2850.19   5.55787e-05       61.1567           1           1     1229   \n",
      "    Iter      log prob        ||dx||      ||grad||       alpha      alpha0  # evals  Notes \n",
      "     714        2850.2   2.07696e-05        45.195    3.88e-07       0.001     1309  LS failed, Hessian reset \n",
      "     733        2850.2   7.00406e-07        52.869     0.01583    0.001583     1341   \n",
      "Optimization terminated normally: \n",
      "  Convergence detected: relative gradient magnitude is below tolerance\n"
     ]
    },
    {
     "name": "stderr",
     "output_type": "stream",
     "text": [
      "/Users/rco/opt/anaconda3/envs/tps/lib/python3.9/site-packages/prophet/forecaster.py:896: FutureWarning: The frame.append method is deprecated and will be removed from pandas in a future version. Use pandas.concat instead.\n",
      "  components = components.append(new_comp)\n",
      "/Users/rco/opt/anaconda3/envs/tps/lib/python3.9/site-packages/prophet/forecaster.py:896: FutureWarning: The frame.append method is deprecated and will be removed from pandas in a future version. Use pandas.concat instead.\n",
      "  components = components.append(new_comp)\n",
      "/Users/rco/opt/anaconda3/envs/tps/lib/python3.9/site-packages/prophet/forecaster.py:896: FutureWarning: The frame.append method is deprecated and will be removed from pandas in a future version. Use pandas.concat instead.\n",
      "  components = components.append(new_comp)\n",
      "/Users/rco/opt/anaconda3/envs/tps/lib/python3.9/site-packages/prophet/forecaster.py:896: FutureWarning: The frame.append method is deprecated and will be removed from pandas in a future version. Use pandas.concat instead.\n",
      "  components = components.append(new_comp)\n",
      "INFO:prophet:Disabling daily seasonality. Run prophet with daily_seasonality=True to override this.\n"
     ]
    },
    {
     "name": "stdout",
     "output_type": "stream",
     "text": [
      "\n",
      "--------------------------------------------------------------------------\n",
      "Train Score Finland KaggleMart Kaggle Sticker SMAPE: 7.013853\n",
      "Val Score Finland KaggleMart Kaggle Sticker SMAPE: 8.646450\n",
      "--------------------------------------------------------------------------\n",
      "\n",
      "Finland KaggleRama Kaggle Mug\n"
     ]
    },
    {
     "name": "stderr",
     "output_type": "stream",
     "text": [
      "/Users/rco/opt/anaconda3/envs/tps/lib/python3.9/site-packages/prophet/forecaster.py:896: FutureWarning: The frame.append method is deprecated and will be removed from pandas in a future version. Use pandas.concat instead.\n",
      "  components = components.append(new_comp)\n"
     ]
    },
    {
     "name": "stdout",
     "output_type": "stream",
     "text": [
      "Initial log joint probability = -76.9178\n",
      "    Iter      log prob        ||dx||      ||grad||       alpha      alpha0  # evals  Notes \n",
      "      53       2990.97   0.000321872       115.036    4.18e-06       0.001      107  LS failed, Hessian reset \n",
      "      73       2991.11   5.13485e-05       56.4278   5.677e-07       0.001      165  LS failed, Hessian reset \n",
      "      99       2991.44   0.000726708       181.989      0.1287           1      199   \n",
      "    Iter      log prob        ||dx||      ||grad||       alpha      alpha0  # evals  Notes \n",
      "     143       2992.36   7.30116e-05       80.1367   5.906e-07       0.001      308  LS failed, Hessian reset \n",
      "     199       2992.63   0.000157405       75.5182      0.8684      0.8684      388   \n",
      "    Iter      log prob        ||dx||      ||grad||       alpha      alpha0  # evals  Notes \n",
      "     299        2992.8   0.000115148       57.2758      0.3756      0.3756      514   \n",
      "    Iter      log prob        ||dx||      ||grad||       alpha      alpha0  # evals  Notes \n",
      "     317       2992.89   0.000553487       244.597   6.016e-06       0.001      575  LS failed, Hessian reset \n",
      "     399       2993.14   0.000136837       62.1606   1.947e-06       0.001      729  LS failed, Hessian reset \n",
      "    Iter      log prob        ||dx||      ||grad||       alpha      alpha0  # evals  Notes \n",
      "     452       2993.17   5.31334e-05       74.5198   5.793e-07       0.001      842  LS failed, Hessian reset \n",
      "     499       2993.17   3.03922e-06       60.2325      0.8359      0.8359      908   \n",
      "    Iter      log prob        ||dx||      ||grad||       alpha      alpha0  # evals  Notes \n",
      "     502       2993.17   5.07871e-06       61.8576   6.746e-08       0.001      950  LS failed, Hessian reset \n",
      "     507       2993.17   2.35427e-07       32.6584      0.2247      0.2247      958   \n",
      "Optimization terminated normally: \n",
      "  Convergence detected: relative gradient magnitude is below tolerance\n"
     ]
    },
    {
     "name": "stderr",
     "output_type": "stream",
     "text": [
      "/Users/rco/opt/anaconda3/envs/tps/lib/python3.9/site-packages/prophet/forecaster.py:896: FutureWarning: The frame.append method is deprecated and will be removed from pandas in a future version. Use pandas.concat instead.\n",
      "  components = components.append(new_comp)\n",
      "/Users/rco/opt/anaconda3/envs/tps/lib/python3.9/site-packages/prophet/forecaster.py:896: FutureWarning: The frame.append method is deprecated and will be removed from pandas in a future version. Use pandas.concat instead.\n",
      "  components = components.append(new_comp)\n",
      "/Users/rco/opt/anaconda3/envs/tps/lib/python3.9/site-packages/prophet/forecaster.py:896: FutureWarning: The frame.append method is deprecated and will be removed from pandas in a future version. Use pandas.concat instead.\n",
      "  components = components.append(new_comp)\n",
      "/Users/rco/opt/anaconda3/envs/tps/lib/python3.9/site-packages/prophet/forecaster.py:896: FutureWarning: The frame.append method is deprecated and will be removed from pandas in a future version. Use pandas.concat instead.\n",
      "  components = components.append(new_comp)\n",
      "INFO:prophet:Disabling daily seasonality. Run prophet with daily_seasonality=True to override this.\n"
     ]
    },
    {
     "name": "stdout",
     "output_type": "stream",
     "text": [
      "\n",
      "--------------------------------------------------------------------------\n",
      "Train Score Finland KaggleRama Kaggle Mug SMAPE: 7.119870\n",
      "Val Score Finland KaggleRama Kaggle Mug SMAPE: 13.294866\n",
      "--------------------------------------------------------------------------\n",
      "\n",
      "Finland KaggleRama Kaggle Hat\n"
     ]
    },
    {
     "name": "stderr",
     "output_type": "stream",
     "text": [
      "/Users/rco/opt/anaconda3/envs/tps/lib/python3.9/site-packages/prophet/forecaster.py:896: FutureWarning: The frame.append method is deprecated and will be removed from pandas in a future version. Use pandas.concat instead.\n",
      "  components = components.append(new_comp)\n"
     ]
    },
    {
     "name": "stdout",
     "output_type": "stream",
     "text": [
      "Initial log joint probability = -73.2437\n",
      "    Iter      log prob        ||dx||      ||grad||       alpha      alpha0  # evals  Notes \n",
      "      99       2876.58    0.00110425       130.114      0.5991      0.5991      129   \n",
      "    Iter      log prob        ||dx||      ||grad||       alpha      alpha0  # evals  Notes \n",
      "     104       2876.81   0.000399156       253.962   2.126e-06       0.001      170  LS failed, Hessian reset \n",
      "     152       2877.07   7.28322e-05        67.665   1.139e-06       0.001      273  LS failed, Hessian reset \n",
      "     199       2877.13    0.00208932       130.557       5.573      0.5573      334   \n",
      "    Iter      log prob        ||dx||      ||grad||       alpha      alpha0  # evals  Notes \n",
      "     208       2877.26   0.000597768       268.917   7.947e-06       0.001      395  LS failed, Hessian reset \n",
      "     230       2877.38   1.02062e-05       55.8355     1.9e-07       0.001      462  LS failed, Hessian reset \n",
      "     260       2877.39    4.5328e-06       50.8437    8.23e-08       0.001      537  LS failed, Hessian reset \n",
      "     271       2877.39   2.22333e-07       56.1426      0.3119           1      554   \n",
      "Optimization terminated normally: \n",
      "  Convergence detected: relative gradient magnitude is below tolerance\n"
     ]
    },
    {
     "name": "stderr",
     "output_type": "stream",
     "text": [
      "/Users/rco/opt/anaconda3/envs/tps/lib/python3.9/site-packages/prophet/forecaster.py:896: FutureWarning: The frame.append method is deprecated and will be removed from pandas in a future version. Use pandas.concat instead.\n",
      "  components = components.append(new_comp)\n",
      "/Users/rco/opt/anaconda3/envs/tps/lib/python3.9/site-packages/prophet/forecaster.py:896: FutureWarning: The frame.append method is deprecated and will be removed from pandas in a future version. Use pandas.concat instead.\n",
      "  components = components.append(new_comp)\n",
      "/Users/rco/opt/anaconda3/envs/tps/lib/python3.9/site-packages/prophet/forecaster.py:896: FutureWarning: The frame.append method is deprecated and will be removed from pandas in a future version. Use pandas.concat instead.\n",
      "  components = components.append(new_comp)\n",
      "/Users/rco/opt/anaconda3/envs/tps/lib/python3.9/site-packages/prophet/forecaster.py:896: FutureWarning: The frame.append method is deprecated and will be removed from pandas in a future version. Use pandas.concat instead.\n",
      "  components = components.append(new_comp)\n",
      "INFO:prophet:Disabling daily seasonality. Run prophet with daily_seasonality=True to override this.\n"
     ]
    },
    {
     "name": "stdout",
     "output_type": "stream",
     "text": [
      "\n",
      "--------------------------------------------------------------------------\n",
      "Train Score Finland KaggleRama Kaggle Hat SMAPE: 7.208954\n",
      "Val Score Finland KaggleRama Kaggle Hat SMAPE: 8.262654\n",
      "--------------------------------------------------------------------------\n",
      "\n",
      "Finland KaggleRama Kaggle Sticker\n"
     ]
    },
    {
     "name": "stderr",
     "output_type": "stream",
     "text": [
      "/Users/rco/opt/anaconda3/envs/tps/lib/python3.9/site-packages/prophet/forecaster.py:896: FutureWarning: The frame.append method is deprecated and will be removed from pandas in a future version. Use pandas.concat instead.\n",
      "  components = components.append(new_comp)\n"
     ]
    },
    {
     "name": "stdout",
     "output_type": "stream",
     "text": [
      "Initial log joint probability = -77.9697\n",
      "    Iter      log prob        ||dx||      ||grad||       alpha      alpha0  # evals  Notes \n",
      "      46       2895.68   9.93581e-05       85.9923   1.167e-06       0.001      100  LS failed, Hessian reset \n",
      "      99       2896.31    0.00158316       76.0283           1           1      161   \n",
      "    Iter      log prob        ||dx||      ||grad||       alpha      alpha0  # evals  Notes \n",
      "     109       2896.56   9.91135e-05       98.6798   7.953e-07       0.001      248  LS failed, Hessian reset \n",
      "     117       2896.89   0.000200883       156.918   1.978e-06       0.001      292  LS failed, Hessian reset \n",
      "     171       2897.18   0.000152345       124.071   1.859e-06       0.001      394  LS failed, Hessian reset \n",
      "     199       2897.27    2.5761e-05       69.0607      0.3249           1      435   \n",
      "    Iter      log prob        ||dx||      ||grad||       alpha      alpha0  # evals  Notes \n",
      "     261       2897.34   1.48349e-05       49.7411   3.208e-07       0.001      564  LS failed, Hessian reset \n",
      "     298       2897.34   4.26063e-07       40.8114      0.7933      0.7933      623   \n",
      "Optimization terminated normally: \n",
      "  Convergence detected: relative gradient magnitude is below tolerance\n"
     ]
    },
    {
     "name": "stderr",
     "output_type": "stream",
     "text": [
      "/Users/rco/opt/anaconda3/envs/tps/lib/python3.9/site-packages/prophet/forecaster.py:896: FutureWarning: The frame.append method is deprecated and will be removed from pandas in a future version. Use pandas.concat instead.\n",
      "  components = components.append(new_comp)\n",
      "/Users/rco/opt/anaconda3/envs/tps/lib/python3.9/site-packages/prophet/forecaster.py:896: FutureWarning: The frame.append method is deprecated and will be removed from pandas in a future version. Use pandas.concat instead.\n",
      "  components = components.append(new_comp)\n",
      "/Users/rco/opt/anaconda3/envs/tps/lib/python3.9/site-packages/prophet/forecaster.py:896: FutureWarning: The frame.append method is deprecated and will be removed from pandas in a future version. Use pandas.concat instead.\n",
      "  components = components.append(new_comp)\n",
      "/Users/rco/opt/anaconda3/envs/tps/lib/python3.9/site-packages/prophet/forecaster.py:896: FutureWarning: The frame.append method is deprecated and will be removed from pandas in a future version. Use pandas.concat instead.\n",
      "  components = components.append(new_comp)\n",
      "INFO:prophet:Disabling daily seasonality. Run prophet with daily_seasonality=True to override this.\n"
     ]
    },
    {
     "name": "stdout",
     "output_type": "stream",
     "text": [
      "\n",
      "--------------------------------------------------------------------------\n",
      "Train Score Finland KaggleRama Kaggle Sticker SMAPE: 7.184473\n",
      "Val Score Finland KaggleRama Kaggle Sticker SMAPE: 8.293167\n",
      "--------------------------------------------------------------------------\n",
      "\n",
      "Norway KaggleMart Kaggle Mug\n"
     ]
    },
    {
     "name": "stderr",
     "output_type": "stream",
     "text": [
      "/Users/rco/opt/anaconda3/envs/tps/lib/python3.9/site-packages/prophet/forecaster.py:896: FutureWarning: The frame.append method is deprecated and will be removed from pandas in a future version. Use pandas.concat instead.\n",
      "  components = components.append(new_comp)\n"
     ]
    },
    {
     "name": "stdout",
     "output_type": "stream",
     "text": [
      "Initial log joint probability = -74.8958\n",
      "    Iter      log prob        ||dx||      ||grad||       alpha      alpha0  # evals  Notes \n",
      "      91       2895.93   0.000121173       87.5965   5.797e-07       0.001      165  LS failed, Hessian reset \n",
      "      99       2896.33   0.000712994       85.9392        0.39        0.39      175   \n",
      "    Iter      log prob        ||dx||      ||grad||       alpha      alpha0  # evals  Notes \n",
      "     199        2897.3   1.41903e-05       71.6914      0.1204      0.1204      305   \n",
      "    Iter      log prob        ||dx||      ||grad||       alpha      alpha0  # evals  Notes \n",
      "     218       2897.44   9.85465e-05       83.5659   6.301e-07       0.001      383  LS failed, Hessian reset \n",
      "     257       2897.58   3.83338e-05       71.1146   6.431e-07       0.001      474  LS failed, Hessian reset \n",
      "     266       2897.58   1.73161e-06        57.905   4.853e-08       0.001      529  LS failed, Hessian reset \n",
      "     299       2897.58    4.8165e-06       54.7722           1           1      575   \n",
      "    Iter      log prob        ||dx||      ||grad||       alpha      alpha0  # evals  Notes \n",
      "     308       2897.59    2.0886e-06       46.5571   3.158e-08       0.001      624  LS failed, Hessian reset \n",
      "     329       2897.59   2.53207e-07       49.9578      0.9741      0.9741      650   \n",
      "Optimization terminated normally: \n",
      "  Convergence detected: relative gradient magnitude is below tolerance\n"
     ]
    },
    {
     "name": "stderr",
     "output_type": "stream",
     "text": [
      "/Users/rco/opt/anaconda3/envs/tps/lib/python3.9/site-packages/prophet/forecaster.py:896: FutureWarning: The frame.append method is deprecated and will be removed from pandas in a future version. Use pandas.concat instead.\n",
      "  components = components.append(new_comp)\n",
      "/Users/rco/opt/anaconda3/envs/tps/lib/python3.9/site-packages/prophet/forecaster.py:896: FutureWarning: The frame.append method is deprecated and will be removed from pandas in a future version. Use pandas.concat instead.\n",
      "  components = components.append(new_comp)\n",
      "/Users/rco/opt/anaconda3/envs/tps/lib/python3.9/site-packages/prophet/forecaster.py:896: FutureWarning: The frame.append method is deprecated and will be removed from pandas in a future version. Use pandas.concat instead.\n",
      "  components = components.append(new_comp)\n",
      "/Users/rco/opt/anaconda3/envs/tps/lib/python3.9/site-packages/prophet/forecaster.py:896: FutureWarning: The frame.append method is deprecated and will be removed from pandas in a future version. Use pandas.concat instead.\n",
      "  components = components.append(new_comp)\n",
      "INFO:prophet:Disabling daily seasonality. Run prophet with daily_seasonality=True to override this.\n"
     ]
    },
    {
     "name": "stdout",
     "output_type": "stream",
     "text": [
      "\n",
      "--------------------------------------------------------------------------\n",
      "Train Score Norway KaggleMart Kaggle Mug SMAPE: 7.340309\n",
      "Val Score Norway KaggleMart Kaggle Mug SMAPE: 7.558333\n",
      "--------------------------------------------------------------------------\n",
      "\n",
      "Norway KaggleMart Kaggle Hat\n"
     ]
    },
    {
     "name": "stderr",
     "output_type": "stream",
     "text": [
      "/Users/rco/opt/anaconda3/envs/tps/lib/python3.9/site-packages/prophet/forecaster.py:896: FutureWarning: The frame.append method is deprecated and will be removed from pandas in a future version. Use pandas.concat instead.\n",
      "  components = components.append(new_comp)\n"
     ]
    },
    {
     "name": "stdout",
     "output_type": "stream",
     "text": [
      "Initial log joint probability = -87.255\n",
      "    Iter      log prob        ||dx||      ||grad||       alpha      alpha0  # evals  Notes \n",
      "      99       2830.16    0.00166828       132.993      0.2045           1      129   \n",
      "    Iter      log prob        ||dx||      ||grad||       alpha      alpha0  # evals  Notes \n",
      "     104        2830.6   0.000163381       118.433   6.754e-07       0.001      184  LS failed, Hessian reset \n",
      "     199       2831.75     0.0016544       144.422           1           1      304   \n",
      "    Iter      log prob        ||dx||      ||grad||       alpha      alpha0  # evals  Notes \n",
      "     299       2831.88   1.06041e-05       80.9632           1           1      436   \n",
      "    Iter      log prob        ||dx||      ||grad||       alpha      alpha0  # evals  Notes \n",
      "     357        2831.9   7.91986e-08       57.5521     0.06841           1      520   \n",
      "Optimization terminated normally: \n",
      "  Convergence detected: relative gradient magnitude is below tolerance\n"
     ]
    },
    {
     "name": "stderr",
     "output_type": "stream",
     "text": [
      "/Users/rco/opt/anaconda3/envs/tps/lib/python3.9/site-packages/prophet/forecaster.py:896: FutureWarning: The frame.append method is deprecated and will be removed from pandas in a future version. Use pandas.concat instead.\n",
      "  components = components.append(new_comp)\n",
      "/Users/rco/opt/anaconda3/envs/tps/lib/python3.9/site-packages/prophet/forecaster.py:896: FutureWarning: The frame.append method is deprecated and will be removed from pandas in a future version. Use pandas.concat instead.\n",
      "  components = components.append(new_comp)\n",
      "/Users/rco/opt/anaconda3/envs/tps/lib/python3.9/site-packages/prophet/forecaster.py:896: FutureWarning: The frame.append method is deprecated and will be removed from pandas in a future version. Use pandas.concat instead.\n",
      "  components = components.append(new_comp)\n",
      "/Users/rco/opt/anaconda3/envs/tps/lib/python3.9/site-packages/prophet/forecaster.py:896: FutureWarning: The frame.append method is deprecated and will be removed from pandas in a future version. Use pandas.concat instead.\n",
      "  components = components.append(new_comp)\n",
      "INFO:prophet:Disabling daily seasonality. Run prophet with daily_seasonality=True to override this.\n"
     ]
    },
    {
     "name": "stdout",
     "output_type": "stream",
     "text": [
      "\n",
      "--------------------------------------------------------------------------\n",
      "Train Score Norway KaggleMart Kaggle Hat SMAPE: 7.373325\n",
      "Val Score Norway KaggleMart Kaggle Hat SMAPE: 7.263781\n",
      "--------------------------------------------------------------------------\n",
      "\n",
      "Norway KaggleMart Kaggle Sticker\n"
     ]
    },
    {
     "name": "stderr",
     "output_type": "stream",
     "text": [
      "/Users/rco/opt/anaconda3/envs/tps/lib/python3.9/site-packages/prophet/forecaster.py:896: FutureWarning: The frame.append method is deprecated and will be removed from pandas in a future version. Use pandas.concat instead.\n",
      "  components = components.append(new_comp)\n"
     ]
    },
    {
     "name": "stdout",
     "output_type": "stream",
     "text": [
      "Initial log joint probability = -96.2714\n",
      "    Iter      log prob        ||dx||      ||grad||       alpha      alpha0  # evals  Notes \n",
      "      99       2779.24    0.00142056        115.35           1           1      133   \n",
      "    Iter      log prob        ||dx||      ||grad||       alpha      alpha0  # evals  Notes \n",
      "     141       2780.89   0.000209868       89.5206   3.258e-06       0.001      217  LS failed, Hessian reset \n",
      "     199        2781.1   0.000460215       52.6294           1           1      293   \n",
      "    Iter      log prob        ||dx||      ||grad||       alpha      alpha0  # evals  Notes \n",
      "     243       2781.45   9.30286e-05       93.7633   1.124e-06       0.001      398  LS failed, Hessian reset \n",
      "     299       2781.49   1.69711e-06       72.3964      0.2534      0.9509      475   \n",
      "    Iter      log prob        ||dx||      ||grad||       alpha      alpha0  # evals  Notes \n",
      "     312       2781.49   5.01528e-08       53.9087      0.0938           1      494   \n",
      "Optimization terminated normally: \n",
      "  Convergence detected: relative gradient magnitude is below tolerance\n"
     ]
    },
    {
     "name": "stderr",
     "output_type": "stream",
     "text": [
      "/Users/rco/opt/anaconda3/envs/tps/lib/python3.9/site-packages/prophet/forecaster.py:896: FutureWarning: The frame.append method is deprecated and will be removed from pandas in a future version. Use pandas.concat instead.\n",
      "  components = components.append(new_comp)\n",
      "/Users/rco/opt/anaconda3/envs/tps/lib/python3.9/site-packages/prophet/forecaster.py:896: FutureWarning: The frame.append method is deprecated and will be removed from pandas in a future version. Use pandas.concat instead.\n",
      "  components = components.append(new_comp)\n",
      "/Users/rco/opt/anaconda3/envs/tps/lib/python3.9/site-packages/prophet/forecaster.py:896: FutureWarning: The frame.append method is deprecated and will be removed from pandas in a future version. Use pandas.concat instead.\n",
      "  components = components.append(new_comp)\n",
      "/Users/rco/opt/anaconda3/envs/tps/lib/python3.9/site-packages/prophet/forecaster.py:896: FutureWarning: The frame.append method is deprecated and will be removed from pandas in a future version. Use pandas.concat instead.\n",
      "  components = components.append(new_comp)\n",
      "INFO:prophet:Disabling daily seasonality. Run prophet with daily_seasonality=True to override this.\n"
     ]
    },
    {
     "name": "stdout",
     "output_type": "stream",
     "text": [
      "\n",
      "--------------------------------------------------------------------------\n",
      "Train Score Norway KaggleMart Kaggle Sticker SMAPE: 7.121451\n",
      "Val Score Norway KaggleMart Kaggle Sticker SMAPE: 7.378853\n",
      "--------------------------------------------------------------------------\n",
      "\n",
      "Norway KaggleRama Kaggle Mug\n"
     ]
    },
    {
     "name": "stderr",
     "output_type": "stream",
     "text": [
      "/Users/rco/opt/anaconda3/envs/tps/lib/python3.9/site-packages/prophet/forecaster.py:896: FutureWarning: The frame.append method is deprecated and will be removed from pandas in a future version. Use pandas.concat instead.\n",
      "  components = components.append(new_comp)\n"
     ]
    },
    {
     "name": "stdout",
     "output_type": "stream",
     "text": [
      "Initial log joint probability = -103.301\n",
      "    Iter      log prob        ||dx||      ||grad||       alpha      alpha0  # evals  Notes \n",
      "      99       2890.73     0.0035743       90.0672           1           1      131   \n",
      "    Iter      log prob        ||dx||      ||grad||       alpha      alpha0  # evals  Notes \n",
      "     123       2891.43   0.000366826       154.306   4.175e-06       0.001      201  LS failed, Hessian reset \n",
      "     194       2891.81   0.000413054       54.6002   9.608e-06       0.001      337  LS failed, Hessian reset \n",
      "     199       2891.82    1.7444e-05       32.9721      0.5674     0.05674      345   \n",
      "    Iter      log prob        ||dx||      ||grad||       alpha      alpha0  # evals  Notes \n",
      "     299       2891.88   0.000114878       80.2773           1           1      497   \n",
      "    Iter      log prob        ||dx||      ||grad||       alpha      alpha0  # evals  Notes \n",
      "     338       2891.99   0.000200959       67.9596   4.598e-06       0.001      595  LS failed, Hessian reset \n",
      "     399       2892.08   4.92097e-05        55.112           1           1      690   \n",
      "    Iter      log prob        ||dx||      ||grad||       alpha      alpha0  # evals  Notes \n",
      "     403       2892.09   9.91857e-06       57.6921   2.221e-07       0.001      746  LS failed, Hessian reset \n",
      "     447       2892.09   5.58185e-06       54.3899   1.411e-07       0.001      860  LS failed, Hessian reset \n",
      "     492       2892.09   1.02973e-06       59.0617      0.3205           1      918   \n",
      "Optimization terminated normally: \n",
      "  Convergence detected: relative gradient magnitude is below tolerance\n"
     ]
    },
    {
     "name": "stderr",
     "output_type": "stream",
     "text": [
      "/Users/rco/opt/anaconda3/envs/tps/lib/python3.9/site-packages/prophet/forecaster.py:896: FutureWarning: The frame.append method is deprecated and will be removed from pandas in a future version. Use pandas.concat instead.\n",
      "  components = components.append(new_comp)\n",
      "/Users/rco/opt/anaconda3/envs/tps/lib/python3.9/site-packages/prophet/forecaster.py:896: FutureWarning: The frame.append method is deprecated and will be removed from pandas in a future version. Use pandas.concat instead.\n",
      "  components = components.append(new_comp)\n",
      "/Users/rco/opt/anaconda3/envs/tps/lib/python3.9/site-packages/prophet/forecaster.py:896: FutureWarning: The frame.append method is deprecated and will be removed from pandas in a future version. Use pandas.concat instead.\n",
      "  components = components.append(new_comp)\n",
      "/Users/rco/opt/anaconda3/envs/tps/lib/python3.9/site-packages/prophet/forecaster.py:896: FutureWarning: The frame.append method is deprecated and will be removed from pandas in a future version. Use pandas.concat instead.\n",
      "  components = components.append(new_comp)\n",
      "INFO:prophet:Disabling daily seasonality. Run prophet with daily_seasonality=True to override this.\n"
     ]
    },
    {
     "name": "stdout",
     "output_type": "stream",
     "text": [
      "\n",
      "--------------------------------------------------------------------------\n",
      "Train Score Norway KaggleRama Kaggle Mug SMAPE: 7.148693\n",
      "Val Score Norway KaggleRama Kaggle Mug SMAPE: 8.633012\n",
      "--------------------------------------------------------------------------\n",
      "\n",
      "Norway KaggleRama Kaggle Hat\n"
     ]
    },
    {
     "name": "stderr",
     "output_type": "stream",
     "text": [
      "/Users/rco/opt/anaconda3/envs/tps/lib/python3.9/site-packages/prophet/forecaster.py:896: FutureWarning: The frame.append method is deprecated and will be removed from pandas in a future version. Use pandas.concat instead.\n",
      "  components = components.append(new_comp)\n"
     ]
    },
    {
     "name": "stdout",
     "output_type": "stream",
     "text": [
      "Initial log joint probability = -81.9126\n",
      "    Iter      log prob        ||dx||      ||grad||       alpha      alpha0  # evals  Notes \n",
      "      99       2817.01    0.00418553       106.126      0.5961      0.5961      124   \n",
      "    Iter      log prob        ||dx||      ||grad||       alpha      alpha0  # evals  Notes \n",
      "     199       2819.65    0.00202681       87.1747       0.197           1      256   \n",
      "    Iter      log prob        ||dx||      ||grad||       alpha      alpha0  # evals  Notes \n",
      "     233       2819.79   0.000236743       36.8226   4.358e-06       0.001      346  LS failed, Hessian reset \n",
      "     295       2819.88   0.000174057        81.306   2.244e-06       0.001      465  LS failed, Hessian reset \n",
      "     299       2819.89   9.72622e-05       82.6635           1           1      469   \n",
      "    Iter      log prob        ||dx||      ||grad||       alpha      alpha0  # evals  Notes \n",
      "     340        2819.9   2.25733e-07        45.091      0.8527      0.8527      530   \n",
      "Optimization terminated normally: \n",
      "  Convergence detected: relative gradient magnitude is below tolerance\n"
     ]
    },
    {
     "name": "stderr",
     "output_type": "stream",
     "text": [
      "/Users/rco/opt/anaconda3/envs/tps/lib/python3.9/site-packages/prophet/forecaster.py:896: FutureWarning: The frame.append method is deprecated and will be removed from pandas in a future version. Use pandas.concat instead.\n",
      "  components = components.append(new_comp)\n",
      "/Users/rco/opt/anaconda3/envs/tps/lib/python3.9/site-packages/prophet/forecaster.py:896: FutureWarning: The frame.append method is deprecated and will be removed from pandas in a future version. Use pandas.concat instead.\n",
      "  components = components.append(new_comp)\n",
      "/Users/rco/opt/anaconda3/envs/tps/lib/python3.9/site-packages/prophet/forecaster.py:896: FutureWarning: The frame.append method is deprecated and will be removed from pandas in a future version. Use pandas.concat instead.\n",
      "  components = components.append(new_comp)\n",
      "/Users/rco/opt/anaconda3/envs/tps/lib/python3.9/site-packages/prophet/forecaster.py:896: FutureWarning: The frame.append method is deprecated and will be removed from pandas in a future version. Use pandas.concat instead.\n",
      "  components = components.append(new_comp)\n",
      "INFO:prophet:Disabling daily seasonality. Run prophet with daily_seasonality=True to override this.\n"
     ]
    },
    {
     "name": "stdout",
     "output_type": "stream",
     "text": [
      "\n",
      "--------------------------------------------------------------------------\n",
      "Train Score Norway KaggleRama Kaggle Hat SMAPE: 7.430798\n",
      "Val Score Norway KaggleRama Kaggle Hat SMAPE: 7.341258\n",
      "--------------------------------------------------------------------------\n",
      "\n",
      "Norway KaggleRama Kaggle Sticker\n"
     ]
    },
    {
     "name": "stderr",
     "output_type": "stream",
     "text": [
      "/Users/rco/opt/anaconda3/envs/tps/lib/python3.9/site-packages/prophet/forecaster.py:896: FutureWarning: The frame.append method is deprecated and will be removed from pandas in a future version. Use pandas.concat instead.\n",
      "  components = components.append(new_comp)\n"
     ]
    },
    {
     "name": "stdout",
     "output_type": "stream",
     "text": [
      "Initial log joint probability = -67.9817\n",
      "    Iter      log prob        ||dx||      ||grad||       alpha      alpha0  # evals  Notes \n",
      "      99       2892.22   0.000859044       185.808      0.4632           1      128   \n",
      "    Iter      log prob        ||dx||      ||grad||       alpha      alpha0  # evals  Notes \n",
      "     166       2894.34   0.000306884       197.761   2.597e-06       0.001      242  LS failed, Hessian reset \n",
      "     199       2894.51   0.000642224       44.9911      0.3271           1      287   \n",
      "    Iter      log prob        ||dx||      ||grad||       alpha      alpha0  # evals  Notes \n",
      "     202       2894.53   0.000139902        110.85   1.538e-06       0.001      332  LS failed, Hessian reset \n",
      "     247       2894.62   0.000194157       170.103   2.187e-06       0.001      426  LS failed, Hessian reset \n",
      "     296       2894.67   6.60878e-05        89.503   9.594e-07       0.001      523  LS failed, Hessian reset \n",
      "     299       2894.67   4.43818e-06       53.8703      0.4939      0.4939      526   \n",
      "    Iter      log prob        ||dx||      ||grad||       alpha      alpha0  # evals  Notes \n",
      "     342       2894.67    1.4545e-06       59.9061   2.133e-08       0.001      631  LS failed, Hessian reset \n",
      "     343       2894.67   4.22488e-07       31.4255       0.851       0.851      632   \n",
      "Optimization terminated normally: \n",
      "  Convergence detected: relative gradient magnitude is below tolerance\n"
     ]
    },
    {
     "name": "stderr",
     "output_type": "stream",
     "text": [
      "/Users/rco/opt/anaconda3/envs/tps/lib/python3.9/site-packages/prophet/forecaster.py:896: FutureWarning: The frame.append method is deprecated and will be removed from pandas in a future version. Use pandas.concat instead.\n",
      "  components = components.append(new_comp)\n",
      "/Users/rco/opt/anaconda3/envs/tps/lib/python3.9/site-packages/prophet/forecaster.py:896: FutureWarning: The frame.append method is deprecated and will be removed from pandas in a future version. Use pandas.concat instead.\n",
      "  components = components.append(new_comp)\n",
      "/Users/rco/opt/anaconda3/envs/tps/lib/python3.9/site-packages/prophet/forecaster.py:896: FutureWarning: The frame.append method is deprecated and will be removed from pandas in a future version. Use pandas.concat instead.\n",
      "  components = components.append(new_comp)\n",
      "/Users/rco/opt/anaconda3/envs/tps/lib/python3.9/site-packages/prophet/forecaster.py:896: FutureWarning: The frame.append method is deprecated and will be removed from pandas in a future version. Use pandas.concat instead.\n",
      "  components = components.append(new_comp)\n",
      "INFO:prophet:Disabling daily seasonality. Run prophet with daily_seasonality=True to override this.\n"
     ]
    },
    {
     "name": "stdout",
     "output_type": "stream",
     "text": [
      "\n",
      "--------------------------------------------------------------------------\n",
      "Train Score Norway KaggleRama Kaggle Sticker SMAPE: 7.045706\n",
      "Val Score Norway KaggleRama Kaggle Sticker SMAPE: 7.518062\n",
      "--------------------------------------------------------------------------\n",
      "\n",
      "Sweden KaggleMart Kaggle Mug\n"
     ]
    },
    {
     "name": "stderr",
     "output_type": "stream",
     "text": [
      "/Users/rco/opt/anaconda3/envs/tps/lib/python3.9/site-packages/prophet/forecaster.py:896: FutureWarning: The frame.append method is deprecated and will be removed from pandas in a future version. Use pandas.concat instead.\n",
      "  components = components.append(new_comp)\n"
     ]
    },
    {
     "name": "stdout",
     "output_type": "stream",
     "text": [
      "Initial log joint probability = -121.684\n",
      "    Iter      log prob        ||dx||      ||grad||       alpha      alpha0  # evals  Notes \n",
      "      99       2863.58   0.000216185       63.4052           1           1      129   \n",
      "    Iter      log prob        ||dx||      ||grad||       alpha      alpha0  # evals  Notes \n",
      "     199       2864.51   5.20436e-05       86.9294     0.04963           1      256   \n",
      "    Iter      log prob        ||dx||      ||grad||       alpha      alpha0  # evals  Notes \n",
      "     234       2864.75   0.000140904       147.238   1.401e-06       0.001      345  LS failed, Hessian reset \n",
      "     269       2864.79   2.67897e-05       68.6926   4.287e-07       0.001      428  LS failed, Hessian reset \n",
      "     299       2864.79   0.000153242       57.0201           1           1      470   \n",
      "    Iter      log prob        ||dx||      ||grad||       alpha      alpha0  # evals  Notes \n",
      "     357       2864.79   1.31447e-07       41.3024     0.06916      0.4655      553   \n",
      "Optimization terminated normally: \n",
      "  Convergence detected: relative gradient magnitude is below tolerance\n"
     ]
    },
    {
     "name": "stderr",
     "output_type": "stream",
     "text": [
      "/Users/rco/opt/anaconda3/envs/tps/lib/python3.9/site-packages/prophet/forecaster.py:896: FutureWarning: The frame.append method is deprecated and will be removed from pandas in a future version. Use pandas.concat instead.\n",
      "  components = components.append(new_comp)\n",
      "/Users/rco/opt/anaconda3/envs/tps/lib/python3.9/site-packages/prophet/forecaster.py:896: FutureWarning: The frame.append method is deprecated and will be removed from pandas in a future version. Use pandas.concat instead.\n",
      "  components = components.append(new_comp)\n",
      "/Users/rco/opt/anaconda3/envs/tps/lib/python3.9/site-packages/prophet/forecaster.py:896: FutureWarning: The frame.append method is deprecated and will be removed from pandas in a future version. Use pandas.concat instead.\n",
      "  components = components.append(new_comp)\n",
      "/Users/rco/opt/anaconda3/envs/tps/lib/python3.9/site-packages/prophet/forecaster.py:896: FutureWarning: The frame.append method is deprecated and will be removed from pandas in a future version. Use pandas.concat instead.\n",
      "  components = components.append(new_comp)\n",
      "INFO:prophet:Disabling daily seasonality. Run prophet with daily_seasonality=True to override this.\n"
     ]
    },
    {
     "name": "stdout",
     "output_type": "stream",
     "text": [
      "\n",
      "--------------------------------------------------------------------------\n",
      "Train Score Sweden KaggleMart Kaggle Mug SMAPE: 7.212554\n",
      "Val Score Sweden KaggleMart Kaggle Mug SMAPE: 14.748835\n",
      "--------------------------------------------------------------------------\n",
      "\n",
      "Sweden KaggleMart Kaggle Hat\n"
     ]
    },
    {
     "name": "stderr",
     "output_type": "stream",
     "text": [
      "/Users/rco/opt/anaconda3/envs/tps/lib/python3.9/site-packages/prophet/forecaster.py:896: FutureWarning: The frame.append method is deprecated and will be removed from pandas in a future version. Use pandas.concat instead.\n",
      "  components = components.append(new_comp)\n"
     ]
    },
    {
     "name": "stdout",
     "output_type": "stream",
     "text": [
      "Initial log joint probability = -77.54\n",
      "    Iter      log prob        ||dx||      ||grad||       alpha      alpha0  # evals  Notes \n",
      "      99       2839.35    0.00127042       96.8543           1           1      122   \n",
      "    Iter      log prob        ||dx||      ||grad||       alpha      alpha0  # evals  Notes \n",
      "     132       2839.94   0.000390266       172.664   4.349e-06       0.001      199  LS failed, Hessian reset \n",
      "     178       2840.12   4.55462e-05       44.5865   7.328e-07       0.001      305  LS failed, Hessian reset \n",
      "     199       2840.12   2.96251e-06       59.7721       7.016      0.7016      339   \n",
      "    Iter      log prob        ||dx||      ||grad||       alpha      alpha0  # evals  Notes \n",
      "     229       2840.19   0.000109124       103.613   1.427e-06       0.001      410  LS failed, Hessian reset \n",
      "     299       2840.28    1.3311e-05       52.8552      0.4099      0.4099      497   \n",
      "    Iter      log prob        ||dx||      ||grad||       alpha      alpha0  # evals  Notes \n",
      "     320       2840.36   0.000640188       245.836   9.196e-06       0.001      576  LS failed, Hessian reset \n",
      "     373       2840.48   4.21965e-06       72.7947   1.163e-07       0.001      700  LS failed, Hessian reset \n",
      "     388       2840.49   5.06324e-05       43.9148   7.993e-07       0.001      768  LS failed, Hessian reset \n",
      "     399       2840.49   3.29906e-06       30.9196      0.3661      0.3661      785   \n",
      "    Iter      log prob        ||dx||      ||grad||       alpha      alpha0  # evals  Notes \n",
      "     438       2840.49   3.55672e-06       53.7459    7.99e-08       0.001      870  LS failed, Hessian reset \n",
      "     457       2840.49   1.50173e-06        35.683   3.164e-08       0.001      937  LS failed, Hessian reset \n",
      "     464       2840.49   1.31359e-07       54.1476      0.2087           1      951   \n",
      "Optimization terminated normally: \n",
      "  Convergence detected: relative gradient magnitude is below tolerance\n"
     ]
    },
    {
     "name": "stderr",
     "output_type": "stream",
     "text": [
      "/Users/rco/opt/anaconda3/envs/tps/lib/python3.9/site-packages/prophet/forecaster.py:896: FutureWarning: The frame.append method is deprecated and will be removed from pandas in a future version. Use pandas.concat instead.\n",
      "  components = components.append(new_comp)\n",
      "/Users/rco/opt/anaconda3/envs/tps/lib/python3.9/site-packages/prophet/forecaster.py:896: FutureWarning: The frame.append method is deprecated and will be removed from pandas in a future version. Use pandas.concat instead.\n",
      "  components = components.append(new_comp)\n",
      "/Users/rco/opt/anaconda3/envs/tps/lib/python3.9/site-packages/prophet/forecaster.py:896: FutureWarning: The frame.append method is deprecated and will be removed from pandas in a future version. Use pandas.concat instead.\n",
      "  components = components.append(new_comp)\n",
      "/Users/rco/opt/anaconda3/envs/tps/lib/python3.9/site-packages/prophet/forecaster.py:896: FutureWarning: The frame.append method is deprecated and will be removed from pandas in a future version. Use pandas.concat instead.\n",
      "  components = components.append(new_comp)\n",
      "INFO:prophet:Disabling daily seasonality. Run prophet with daily_seasonality=True to override this.\n"
     ]
    },
    {
     "name": "stdout",
     "output_type": "stream",
     "text": [
      "\n",
      "--------------------------------------------------------------------------\n",
      "Train Score Sweden KaggleMart Kaggle Hat SMAPE: 7.622585\n",
      "Val Score Sweden KaggleMart Kaggle Hat SMAPE: 10.388654\n",
      "--------------------------------------------------------------------------\n",
      "\n",
      "Sweden KaggleMart Kaggle Sticker\n"
     ]
    },
    {
     "name": "stderr",
     "output_type": "stream",
     "text": [
      "/Users/rco/opt/anaconda3/envs/tps/lib/python3.9/site-packages/prophet/forecaster.py:896: FutureWarning: The frame.append method is deprecated and will be removed from pandas in a future version. Use pandas.concat instead.\n",
      "  components = components.append(new_comp)\n"
     ]
    },
    {
     "name": "stdout",
     "output_type": "stream",
     "text": [
      "Initial log joint probability = -65.272\n",
      "    Iter      log prob        ||dx||      ||grad||       alpha      alpha0  # evals  Notes \n",
      "      72       2922.47   0.000103391       102.654   1.281e-06       0.001      133  LS failed, Hessian reset \n",
      "      99       2922.57   0.000302505       85.3073      0.1874      0.5943      170   \n",
      "    Iter      log prob        ||dx||      ||grad||       alpha      alpha0  # evals  Notes \n",
      "     140       2922.88   0.000309529       227.138   3.361e-06       0.001      259  LS failed, Hessian reset \n",
      "     199       2923.03   0.000214635       55.8604      0.8691      0.8691      327   \n",
      "    Iter      log prob        ||dx||      ||grad||       alpha      alpha0  # evals  Notes \n",
      "     225       2923.11   0.000320867       194.507   3.826e-06       0.001      401  LS failed, Hessian reset \n",
      "     299       2923.27   0.000387026       102.368           1           1      495   \n",
      "    Iter      log prob        ||dx||      ||grad||       alpha      alpha0  # evals  Notes \n",
      "     327       2923.44   0.000106763       93.0136   5.664e-07       0.001      602  LS failed, Hessian reset \n",
      "     399       2923.63   2.54446e-06       55.9856           1           1      690   \n",
      "    Iter      log prob        ||dx||      ||grad||       alpha      alpha0  # evals  Notes \n",
      "     414       2923.63   5.98719e-06       70.9616   1.183e-07       0.001      745  LS failed, Hessian reset \n",
      "     432       2923.63   1.24259e-07       69.0583       0.215           1      772   \n",
      "Optimization terminated normally: \n",
      "  Convergence detected: relative gradient magnitude is below tolerance\n"
     ]
    },
    {
     "name": "stderr",
     "output_type": "stream",
     "text": [
      "/Users/rco/opt/anaconda3/envs/tps/lib/python3.9/site-packages/prophet/forecaster.py:896: FutureWarning: The frame.append method is deprecated and will be removed from pandas in a future version. Use pandas.concat instead.\n",
      "  components = components.append(new_comp)\n",
      "/Users/rco/opt/anaconda3/envs/tps/lib/python3.9/site-packages/prophet/forecaster.py:896: FutureWarning: The frame.append method is deprecated and will be removed from pandas in a future version. Use pandas.concat instead.\n",
      "  components = components.append(new_comp)\n",
      "/Users/rco/opt/anaconda3/envs/tps/lib/python3.9/site-packages/prophet/forecaster.py:896: FutureWarning: The frame.append method is deprecated and will be removed from pandas in a future version. Use pandas.concat instead.\n",
      "  components = components.append(new_comp)\n",
      "/Users/rco/opt/anaconda3/envs/tps/lib/python3.9/site-packages/prophet/forecaster.py:896: FutureWarning: The frame.append method is deprecated and will be removed from pandas in a future version. Use pandas.concat instead.\n",
      "  components = components.append(new_comp)\n",
      "INFO:prophet:Disabling daily seasonality. Run prophet with daily_seasonality=True to override this.\n"
     ]
    },
    {
     "name": "stdout",
     "output_type": "stream",
     "text": [
      "\n",
      "--------------------------------------------------------------------------\n",
      "Train Score Sweden KaggleMart Kaggle Sticker SMAPE: 7.455095\n",
      "Val Score Sweden KaggleMart Kaggle Sticker SMAPE: 11.521415\n",
      "--------------------------------------------------------------------------\n",
      "\n",
      "Sweden KaggleRama Kaggle Mug\n"
     ]
    },
    {
     "name": "stderr",
     "output_type": "stream",
     "text": [
      "/Users/rco/opt/anaconda3/envs/tps/lib/python3.9/site-packages/prophet/forecaster.py:896: FutureWarning: The frame.append method is deprecated and will be removed from pandas in a future version. Use pandas.concat instead.\n",
      "  components = components.append(new_comp)\n"
     ]
    },
    {
     "name": "stdout",
     "output_type": "stream",
     "text": [
      "Initial log joint probability = -93.1938\n",
      "    Iter      log prob        ||dx||      ||grad||       alpha      alpha0  # evals  Notes \n",
      "      90       2995.34   0.000818794       196.172   1.245e-05       0.001      167  LS failed, Hessian reset \n",
      "      99       2995.39   0.000138524       70.2012      0.1588           1      179   \n",
      "    Iter      log prob        ||dx||      ||grad||       alpha      alpha0  # evals  Notes \n",
      "     132       2995.49   0.000167408         171.9    1.62e-06       0.001      261  LS failed, Hessian reset \n",
      "     199        2995.7    0.00145467       59.0823           1           1      361   \n",
      "    Iter      log prob        ||dx||      ||grad||       alpha      alpha0  # evals  Notes \n",
      "     238       2996.13    0.00168758       240.264   1.891e-05       0.001      461  LS failed, Hessian reset \n",
      "     258       2996.24   0.000119042       75.5173   1.764e-06       0.001      522  LS failed, Hessian reset \n",
      "     299       2996.27   1.20068e-05       43.6976           1           1      590   \n",
      "    Iter      log prob        ||dx||      ||grad||       alpha      alpha0  # evals  Notes \n",
      "     368       2996.29   1.15674e-05       51.1559   3.506e-07       0.001      761  LS failed, Hessian reset \n",
      "     399        2996.3   3.94552e-05        64.634           1           1      803   \n",
      "    Iter      log prob        ||dx||      ||grad||       alpha      alpha0  # evals  Notes \n",
      "     404        2996.3   5.15502e-06        32.448   1.037e-07       0.001      847  LS failed, Hessian reset \n",
      "     410        2996.3   2.75551e-08       44.1038     0.05361     0.05361      858   \n",
      "Optimization terminated normally: \n",
      "  Convergence detected: relative gradient magnitude is below tolerance\n"
     ]
    },
    {
     "name": "stderr",
     "output_type": "stream",
     "text": [
      "/Users/rco/opt/anaconda3/envs/tps/lib/python3.9/site-packages/prophet/forecaster.py:896: FutureWarning: The frame.append method is deprecated and will be removed from pandas in a future version. Use pandas.concat instead.\n",
      "  components = components.append(new_comp)\n",
      "/Users/rco/opt/anaconda3/envs/tps/lib/python3.9/site-packages/prophet/forecaster.py:896: FutureWarning: The frame.append method is deprecated and will be removed from pandas in a future version. Use pandas.concat instead.\n",
      "  components = components.append(new_comp)\n",
      "/Users/rco/opt/anaconda3/envs/tps/lib/python3.9/site-packages/prophet/forecaster.py:896: FutureWarning: The frame.append method is deprecated and will be removed from pandas in a future version. Use pandas.concat instead.\n",
      "  components = components.append(new_comp)\n",
      "/Users/rco/opt/anaconda3/envs/tps/lib/python3.9/site-packages/prophet/forecaster.py:896: FutureWarning: The frame.append method is deprecated and will be removed from pandas in a future version. Use pandas.concat instead.\n",
      "  components = components.append(new_comp)\n",
      "INFO:prophet:Disabling daily seasonality. Run prophet with daily_seasonality=True to override this.\n"
     ]
    },
    {
     "name": "stdout",
     "output_type": "stream",
     "text": [
      "\n",
      "--------------------------------------------------------------------------\n",
      "Train Score Sweden KaggleRama Kaggle Mug SMAPE: 7.180188\n",
      "Val Score Sweden KaggleRama Kaggle Mug SMAPE: 12.761314\n",
      "--------------------------------------------------------------------------\n",
      "\n",
      "Sweden KaggleRama Kaggle Hat\n"
     ]
    },
    {
     "name": "stderr",
     "output_type": "stream",
     "text": [
      "/Users/rco/opt/anaconda3/envs/tps/lib/python3.9/site-packages/prophet/forecaster.py:896: FutureWarning: The frame.append method is deprecated and will be removed from pandas in a future version. Use pandas.concat instead.\n",
      "  components = components.append(new_comp)\n"
     ]
    },
    {
     "name": "stdout",
     "output_type": "stream",
     "text": [
      "Initial log joint probability = -95.8503\n",
      "    Iter      log prob        ||dx||      ||grad||       alpha      alpha0  # evals  Notes \n",
      "      98       2835.41    0.00021122       179.782   1.087e-06       0.001      169  LS failed, Hessian reset \n",
      "      99       2835.43   0.000148611       158.483           1           1      170   \n",
      "    Iter      log prob        ||dx||      ||grad||       alpha      alpha0  # evals  Notes \n",
      "     163       2835.89   6.24108e-05       51.8897   9.123e-07       0.001      297  LS failed, Hessian reset \n",
      "     199       2836.01   0.000489719       53.0114           1           1      340   \n",
      "    Iter      log prob        ||dx||      ||grad||       alpha      alpha0  # evals  Notes \n",
      "     202       2836.02   8.12141e-05       89.8676   1.328e-06       0.001      390  LS failed, Hessian reset \n",
      "     265        2836.1   6.60246e-05       66.1734   1.093e-06       0.001      546  LS failed, Hessian reset \n",
      "     299       2836.13   1.00057e-05       47.2032     0.05471           1      589   \n",
      "    Iter      log prob        ||dx||      ||grad||       alpha      alpha0  # evals  Notes \n",
      "     325       2836.15   3.47097e-05       73.6806   6.663e-07       0.001      671  LS failed, Hessian reset \n",
      "     366       2836.16   2.76416e-05       69.0654   4.803e-07       0.001      761  LS failed, Hessian reset \n",
      "     379       2836.16   1.05484e-07       43.1265     0.08077     0.08077      784   \n",
      "Optimization terminated normally: \n",
      "  Convergence detected: relative gradient magnitude is below tolerance\n"
     ]
    },
    {
     "name": "stderr",
     "output_type": "stream",
     "text": [
      "/Users/rco/opt/anaconda3/envs/tps/lib/python3.9/site-packages/prophet/forecaster.py:896: FutureWarning: The frame.append method is deprecated and will be removed from pandas in a future version. Use pandas.concat instead.\n",
      "  components = components.append(new_comp)\n",
      "/Users/rco/opt/anaconda3/envs/tps/lib/python3.9/site-packages/prophet/forecaster.py:896: FutureWarning: The frame.append method is deprecated and will be removed from pandas in a future version. Use pandas.concat instead.\n",
      "  components = components.append(new_comp)\n",
      "/Users/rco/opt/anaconda3/envs/tps/lib/python3.9/site-packages/prophet/forecaster.py:896: FutureWarning: The frame.append method is deprecated and will be removed from pandas in a future version. Use pandas.concat instead.\n",
      "  components = components.append(new_comp)\n",
      "/Users/rco/opt/anaconda3/envs/tps/lib/python3.9/site-packages/prophet/forecaster.py:896: FutureWarning: The frame.append method is deprecated and will be removed from pandas in a future version. Use pandas.concat instead.\n",
      "  components = components.append(new_comp)\n",
      "INFO:prophet:Disabling daily seasonality. Run prophet with daily_seasonality=True to override this.\n"
     ]
    },
    {
     "name": "stdout",
     "output_type": "stream",
     "text": [
      "\n",
      "--------------------------------------------------------------------------\n",
      "Train Score Sweden KaggleRama Kaggle Hat SMAPE: 7.389483\n",
      "Val Score Sweden KaggleRama Kaggle Hat SMAPE: 9.352018\n",
      "--------------------------------------------------------------------------\n",
      "\n",
      "Sweden KaggleRama Kaggle Sticker\n"
     ]
    },
    {
     "name": "stderr",
     "output_type": "stream",
     "text": [
      "/Users/rco/opt/anaconda3/envs/tps/lib/python3.9/site-packages/prophet/forecaster.py:896: FutureWarning: The frame.append method is deprecated and will be removed from pandas in a future version. Use pandas.concat instead.\n",
      "  components = components.append(new_comp)\n"
     ]
    },
    {
     "name": "stdout",
     "output_type": "stream",
     "text": [
      "Initial log joint probability = -74.6211\n",
      "    Iter      log prob        ||dx||      ||grad||       alpha      alpha0  # evals  Notes \n",
      "      99       2974.55   3.36826e-05       83.5819      0.2129      0.2129      143   \n",
      "    Iter      log prob        ||dx||      ||grad||       alpha      alpha0  # evals  Notes \n",
      "     107       2974.61   0.000402545       248.246   4.759e-06       0.001      189  LS failed, Hessian reset \n",
      "     193       2975.38   6.35992e-05       68.3049   6.204e-07       0.001      338  LS failed, Hessian reset \n",
      "     199       2975.42   0.000245974       85.4933      0.6627      0.6627      346   \n",
      "    Iter      log prob        ||dx||      ||grad||       alpha      alpha0  # evals  Notes \n",
      "     299        2975.5   1.82333e-07       58.2844      0.3321           1      475   \n",
      "    Iter      log prob        ||dx||      ||grad||       alpha      alpha0  # evals  Notes \n",
      "     303        2975.5   3.56229e-07        68.212      0.4873      0.4873      480   \n",
      "Optimization terminated normally: \n",
      "  Convergence detected: relative gradient magnitude is below tolerance\n"
     ]
    },
    {
     "name": "stderr",
     "output_type": "stream",
     "text": [
      "/Users/rco/opt/anaconda3/envs/tps/lib/python3.9/site-packages/prophet/forecaster.py:896: FutureWarning: The frame.append method is deprecated and will be removed from pandas in a future version. Use pandas.concat instead.\n",
      "  components = components.append(new_comp)\n",
      "/Users/rco/opt/anaconda3/envs/tps/lib/python3.9/site-packages/prophet/forecaster.py:896: FutureWarning: The frame.append method is deprecated and will be removed from pandas in a future version. Use pandas.concat instead.\n",
      "  components = components.append(new_comp)\n",
      "/Users/rco/opt/anaconda3/envs/tps/lib/python3.9/site-packages/prophet/forecaster.py:896: FutureWarning: The frame.append method is deprecated and will be removed from pandas in a future version. Use pandas.concat instead.\n",
      "  components = components.append(new_comp)\n",
      "/Users/rco/opt/anaconda3/envs/tps/lib/python3.9/site-packages/prophet/forecaster.py:896: FutureWarning: The frame.append method is deprecated and will be removed from pandas in a future version. Use pandas.concat instead.\n",
      "  components = components.append(new_comp)\n"
     ]
    },
    {
     "name": "stdout",
     "output_type": "stream",
     "text": [
      "\n",
      "--------------------------------------------------------------------------\n",
      "Train Score Sweden KaggleRama Kaggle Sticker SMAPE: 7.131967\n",
      "Val Score Sweden KaggleRama Kaggle Sticker SMAPE: 12.299793\n",
      "--------------------------------------------------------------------------\n",
      "\n",
      "\n",
      "--------------------------------------------------------------------------\n",
      "Train Score SMAPE: 7.254877\n",
      "Val Score SMAPE: 9.729412\n",
      "--------------------------------------------------------------------------\n",
      "\n"
     ]
    }
   ],
   "source": [
    "for country in train.country.unique():\n",
    "    for store in train.store.unique():\n",
    "        for product in train['product'].unique():    \n",
    "            print(country, store, product)\n",
    "            \n",
    "            # Subsets for current country, stores and product\n",
    "            train_idx = train[(train.country==country) & \n",
    "                              (train.store==store) &\n",
    "                              (train['product']==product)].index\n",
    "            \n",
    "            train_sub = train.loc[train_idx].copy()\n",
    "            \n",
    "            val_idx = val[(val.country==country) & \n",
    "                          (val.store==store) &\n",
    "                          (val['product']==product)].index\n",
    "            \n",
    "            val_sub = val.loc[val_idx].copy()\n",
    "            \n",
    "            # Define the model and fit it on the train subset of data\n",
    "            model = Prophet()\n",
    "            model.fit(train_sub)\n",
    "            \n",
    "            # Predict for train e validation datasets\n",
    "            train_preds = model.predict(train_sub)\n",
    "            val_preds = model.predict(val_sub)\n",
    "            \n",
    "            # Calculate scores base on comp metric SMAPE\n",
    "            train_score = SMAPE(train_sub.y.values, train_preds.yhat.values)\n",
    "            val_score = SMAPE(val_sub.y.values, val_preds.yhat.values)\n",
    "            \n",
    "            print()\n",
    "            print('--------------------------------------------------------------------------')\n",
    "            print('Train Score', country, store, product, 'SMAPE: {:f}'.format(train_score))\n",
    "            print('Val Score', country, store, product, 'SMAPE: {:f}'.format(val_score))\n",
    "            print('--------------------------------------------------------------------------')\n",
    "            print()            \n",
    "            \n",
    "            # Add predictions to train and validation datasets\n",
    "            train.loc[train_idx, 'yhat'] = train_preds.yhat.values\n",
    "            val.loc[val_idx, 'yhat'] = val_preds.yhat.values\n",
    "\n",
    "print()\n",
    "print('--------------------------------------------------------------------------')\n",
    "print('Train Score', 'SMAPE: {:f}'.format(SMAPE(train.y.values, train.yhat.values)))\n",
    "print('Val Score', 'SMAPE: {:f}'.format(SMAPE(val.y.values, val.yhat.values)))\n",
    "print('--------------------------------------------------------------------------')\n",
    "print()"
   ]
  },
  {
   "cell_type": "markdown",
   "metadata": {},
   "source": [
    "## Add Holidays\n",
    "https://www.kaggle.com/gunesevitan/tabular-playground-series-jan-2022-prophet"
   ]
  },
  {
   "cell_type": "code",
   "execution_count": 30,
   "metadata": {
    "execution": {
     "iopub.execute_input": "2022-01-23T22:38:57.107686Z",
     "iopub.status.busy": "2022-01-23T22:38:57.107094Z",
     "iopub.status.idle": "2022-01-23T22:38:57.129228Z",
     "shell.execute_reply": "2022-01-23T22:38:57.128382Z",
     "shell.execute_reply.started": "2022-01-23T22:38:57.107640Z"
    }
   },
   "outputs": [
    {
     "data": {
      "text/html": [
       "<div>\n",
       "<style scoped>\n",
       "    .dataframe tbody tr th:only-of-type {\n",
       "        vertical-align: middle;\n",
       "    }\n",
       "\n",
       "    .dataframe tbody tr th {\n",
       "        vertical-align: top;\n",
       "    }\n",
       "\n",
       "    .dataframe thead th {\n",
       "        text-align: right;\n",
       "    }\n",
       "</style>\n",
       "<table border=\"1\" class=\"dataframe\">\n",
       "  <thead>\n",
       "    <tr style=\"text-align: right;\">\n",
       "      <th></th>\n",
       "      <th>holiday</th>\n",
       "      <th>ds</th>\n",
       "      <th>lower_window</th>\n",
       "      <th>upper_window</th>\n",
       "    </tr>\n",
       "  </thead>\n",
       "  <tbody>\n",
       "    <tr>\n",
       "      <th>0</th>\n",
       "      <td>new_year</td>\n",
       "      <td>2015-01-01</td>\n",
       "      <td>-1</td>\n",
       "      <td>0</td>\n",
       "    </tr>\n",
       "    <tr>\n",
       "      <th>1</th>\n",
       "      <td>new_year</td>\n",
       "      <td>2016-01-01</td>\n",
       "      <td>-1</td>\n",
       "      <td>0</td>\n",
       "    </tr>\n",
       "    <tr>\n",
       "      <th>2</th>\n",
       "      <td>new_year</td>\n",
       "      <td>2017-01-01</td>\n",
       "      <td>-1</td>\n",
       "      <td>0</td>\n",
       "    </tr>\n",
       "    <tr>\n",
       "      <th>3</th>\n",
       "      <td>new_year</td>\n",
       "      <td>2018-01-01</td>\n",
       "      <td>-1</td>\n",
       "      <td>0</td>\n",
       "    </tr>\n",
       "    <tr>\n",
       "      <th>4</th>\n",
       "      <td>new_year</td>\n",
       "      <td>2019-01-01</td>\n",
       "      <td>-1</td>\n",
       "      <td>0</td>\n",
       "    </tr>\n",
       "    <tr>\n",
       "      <th>0</th>\n",
       "      <td>easter</td>\n",
       "      <td>2015-04-05</td>\n",
       "      <td>0</td>\n",
       "      <td>7</td>\n",
       "    </tr>\n",
       "    <tr>\n",
       "      <th>1</th>\n",
       "      <td>easter</td>\n",
       "      <td>2016-03-27</td>\n",
       "      <td>0</td>\n",
       "      <td>7</td>\n",
       "    </tr>\n",
       "    <tr>\n",
       "      <th>2</th>\n",
       "      <td>easter</td>\n",
       "      <td>2017-04-16</td>\n",
       "      <td>0</td>\n",
       "      <td>7</td>\n",
       "    </tr>\n",
       "    <tr>\n",
       "      <th>3</th>\n",
       "      <td>easter</td>\n",
       "      <td>2018-04-01</td>\n",
       "      <td>0</td>\n",
       "      <td>7</td>\n",
       "    </tr>\n",
       "    <tr>\n",
       "      <th>4</th>\n",
       "      <td>easter</td>\n",
       "      <td>2019-04-21</td>\n",
       "      <td>0</td>\n",
       "      <td>7</td>\n",
       "    </tr>\n",
       "  </tbody>\n",
       "</table>\n",
       "</div>"
      ],
      "text/plain": [
       "    holiday         ds  lower_window  upper_window\n",
       "0  new_year 2015-01-01            -1             0\n",
       "1  new_year 2016-01-01            -1             0\n",
       "2  new_year 2017-01-01            -1             0\n",
       "3  new_year 2018-01-01            -1             0\n",
       "4  new_year 2019-01-01            -1             0\n",
       "0    easter 2015-04-05             0             7\n",
       "1    easter 2016-03-27             0             7\n",
       "2    easter 2017-04-16             0             7\n",
       "3    easter 2018-04-01             0             7\n",
       "4    easter 2019-04-21             0             7"
      ]
     },
     "execution_count": 30,
     "metadata": {},
     "output_type": "execute_result"
    }
   ],
   "source": [
    "new_year = pd.DataFrame({\n",
    "  'holiday': 'new_year',\n",
    "  'ds': pd.to_datetime(['2015-01-01', '2016-01-01', '2017-01-01', '2018-01-01', '2019-01-01']),\n",
    "  'lower_window': -1,\n",
    "  'upper_window': 0,\n",
    "})\n",
    "\n",
    "easter = pd.DataFrame({\n",
    "  'holiday': 'easter',\n",
    "  'ds': pd.to_datetime(['2015-04-05', '2016-03-27', '2017-04-16', '2018-04-01', '2019-04-21']),\n",
    "  'lower_window': 0,\n",
    "  'upper_window': 7,\n",
    "})\n",
    "\n",
    "holidays = pd.concat((new_year, easter))\n",
    "holidays"
   ]
  },
  {
   "cell_type": "code",
   "execution_count": 31,
   "metadata": {
    "execution": {
     "iopub.execute_input": "2022-01-23T22:38:58.231813Z",
     "iopub.status.busy": "2022-01-23T22:38:58.231517Z",
     "iopub.status.idle": "2022-01-23T22:41:21.737103Z",
     "shell.execute_reply": "2022-01-23T22:41:21.736102Z",
     "shell.execute_reply.started": "2022-01-23T22:38:58.231784Z"
    }
   },
   "outputs": [
    {
     "name": "stderr",
     "output_type": "stream",
     "text": [
      "INFO:prophet:Disabling daily seasonality. Run prophet with daily_seasonality=True to override this.\n"
     ]
    },
    {
     "name": "stdout",
     "output_type": "stream",
     "text": [
      "Finland KaggleMart Kaggle Mug\n"
     ]
    },
    {
     "name": "stderr",
     "output_type": "stream",
     "text": [
      "/Users/rco/opt/anaconda3/envs/tps/lib/python3.9/site-packages/prophet/forecaster.py:896: FutureWarning: The frame.append method is deprecated and will be removed from pandas in a future version. Use pandas.concat instead.\n",
      "  components = components.append(new_comp)\n"
     ]
    },
    {
     "name": "stdout",
     "output_type": "stream",
     "text": [
      "Initial log joint probability = -84.0379\n",
      "    Iter      log prob        ||dx||      ||grad||       alpha      alpha0  # evals  Notes \n",
      "      78       3086.96   6.23192e-05       85.3126   8.162e-07       0.001      139  LS failed, Hessian reset \n",
      "      99       3087.17    0.00114649       67.5695      0.6205      0.6205      163   \n",
      "    Iter      log prob        ||dx||      ||grad||       alpha      alpha0  # evals  Notes \n",
      "     107       3087.24   6.29545e-05       83.8582   5.205e-07       0.001      212  LS failed, Hessian reset \n",
      "     199       3088.06    0.00816735       245.268           1           1      330   \n",
      "    Iter      log prob        ||dx||      ||grad||       alpha      alpha0  # evals  Notes \n",
      "     291       3088.39   2.89681e-05       69.0784   3.968e-07       0.001      496  LS failed, Hessian reset \n",
      "     299        3088.4   5.03864e-06       77.5819      0.1337      0.7761      506   \n",
      "    Iter      log prob        ||dx||      ||grad||       alpha      alpha0  # evals  Notes \n",
      "     399       3088.76   0.000592681       142.453           1           1      634   \n",
      "    Iter      log prob        ||dx||      ||grad||       alpha      alpha0  # evals  Notes \n",
      "     461       3088.87   5.31144e-06       72.5652   8.635e-08       0.001      755  LS failed, Hessian reset \n",
      "     479       3088.87   1.19795e-07       51.0535      0.6404      0.6404      781   \n",
      "Optimization terminated normally: \n",
      "  Convergence detected: relative gradient magnitude is below tolerance\n"
     ]
    },
    {
     "name": "stderr",
     "output_type": "stream",
     "text": [
      "/Users/rco/opt/anaconda3/envs/tps/lib/python3.9/site-packages/prophet/forecaster.py:896: FutureWarning: The frame.append method is deprecated and will be removed from pandas in a future version. Use pandas.concat instead.\n",
      "  components = components.append(new_comp)\n",
      "/Users/rco/opt/anaconda3/envs/tps/lib/python3.9/site-packages/prophet/forecaster.py:896: FutureWarning: The frame.append method is deprecated and will be removed from pandas in a future version. Use pandas.concat instead.\n",
      "  components = components.append(new_comp)\n",
      "/Users/rco/opt/anaconda3/envs/tps/lib/python3.9/site-packages/prophet/forecaster.py:896: FutureWarning: The frame.append method is deprecated and will be removed from pandas in a future version. Use pandas.concat instead.\n",
      "  components = components.append(new_comp)\n",
      "/Users/rco/opt/anaconda3/envs/tps/lib/python3.9/site-packages/prophet/forecaster.py:896: FutureWarning: The frame.append method is deprecated and will be removed from pandas in a future version. Use pandas.concat instead.\n",
      "  components = components.append(new_comp)\n",
      "INFO:prophet:Disabling daily seasonality. Run prophet with daily_seasonality=True to override this.\n"
     ]
    },
    {
     "name": "stdout",
     "output_type": "stream",
     "text": [
      "\n",
      "--------------------------------------------------------------------------\n",
      "Train Score Finland KaggleMart Kaggle Mug SMAPE: 6.411502\n",
      "Val Score Finland KaggleMart Kaggle Mug SMAPE: 10.127322\n",
      "--------------------------------------------------------------------------\n",
      "\n",
      "Finland KaggleMart Kaggle Hat\n"
     ]
    },
    {
     "name": "stderr",
     "output_type": "stream",
     "text": [
      "/Users/rco/opt/anaconda3/envs/tps/lib/python3.9/site-packages/prophet/forecaster.py:896: FutureWarning: The frame.append method is deprecated and will be removed from pandas in a future version. Use pandas.concat instead.\n",
      "  components = components.append(new_comp)\n"
     ]
    },
    {
     "name": "stdout",
     "output_type": "stream",
     "text": [
      "Initial log joint probability = -71.1528\n",
      "    Iter      log prob        ||dx||      ||grad||       alpha      alpha0  # evals  Notes \n",
      "      99        3071.5   0.000920003       238.424      0.6412      0.6412      117   \n",
      "    Iter      log prob        ||dx||      ||grad||       alpha      alpha0  # evals  Notes \n",
      "     199       3073.77   0.000183691       57.2605      0.9679      0.9679      244   \n",
      "    Iter      log prob        ||dx||      ||grad||       alpha      alpha0  # evals  Notes \n",
      "     216       3073.82   5.59985e-05       57.3785   4.379e-07       0.001      304  LS failed, Hessian reset \n",
      "     265       3073.86   1.85736e-05       51.5007   3.768e-07       0.001      411  LS failed, Hessian reset \n",
      "     299       3073.87   1.23245e-06       43.2487     0.05909     0.05909      460   \n",
      "    Iter      log prob        ||dx||      ||grad||       alpha      alpha0  # evals  Notes \n",
      "     310       3073.87   2.53959e-07       46.7067      0.2239           1      479   \n",
      "Optimization terminated normally: \n",
      "  Convergence detected: relative gradient magnitude is below tolerance\n"
     ]
    },
    {
     "name": "stderr",
     "output_type": "stream",
     "text": [
      "/Users/rco/opt/anaconda3/envs/tps/lib/python3.9/site-packages/prophet/forecaster.py:896: FutureWarning: The frame.append method is deprecated and will be removed from pandas in a future version. Use pandas.concat instead.\n",
      "  components = components.append(new_comp)\n",
      "/Users/rco/opt/anaconda3/envs/tps/lib/python3.9/site-packages/prophet/forecaster.py:896: FutureWarning: The frame.append method is deprecated and will be removed from pandas in a future version. Use pandas.concat instead.\n",
      "  components = components.append(new_comp)\n",
      "/Users/rco/opt/anaconda3/envs/tps/lib/python3.9/site-packages/prophet/forecaster.py:896: FutureWarning: The frame.append method is deprecated and will be removed from pandas in a future version. Use pandas.concat instead.\n",
      "  components = components.append(new_comp)\n",
      "/Users/rco/opt/anaconda3/envs/tps/lib/python3.9/site-packages/prophet/forecaster.py:896: FutureWarning: The frame.append method is deprecated and will be removed from pandas in a future version. Use pandas.concat instead.\n",
      "  components = components.append(new_comp)\n",
      "INFO:prophet:Disabling daily seasonality. Run prophet with daily_seasonality=True to override this.\n"
     ]
    },
    {
     "name": "stdout",
     "output_type": "stream",
     "text": [
      "\n",
      "--------------------------------------------------------------------------\n",
      "Train Score Finland KaggleMart Kaggle Hat SMAPE: 6.422434\n",
      "Val Score Finland KaggleMart Kaggle Hat SMAPE: 8.367805\n",
      "--------------------------------------------------------------------------\n",
      "\n",
      "Finland KaggleMart Kaggle Sticker\n"
     ]
    },
    {
     "name": "stderr",
     "output_type": "stream",
     "text": [
      "/Users/rco/opt/anaconda3/envs/tps/lib/python3.9/site-packages/prophet/forecaster.py:896: FutureWarning: The frame.append method is deprecated and will be removed from pandas in a future version. Use pandas.concat instead.\n",
      "  components = components.append(new_comp)\n"
     ]
    },
    {
     "name": "stdout",
     "output_type": "stream",
     "text": [
      "Initial log joint probability = -95.8314\n",
      "    Iter      log prob        ||dx||      ||grad||       alpha      alpha0  # evals  Notes \n",
      "      69       2957.12   0.000150934       149.041   7.093e-07       0.001      125  LS failed, Hessian reset \n",
      "      99       2957.43    0.00287499       102.135           1           1      160   \n",
      "    Iter      log prob        ||dx||      ||grad||       alpha      alpha0  # evals  Notes \n",
      "     193       2959.19   0.000652054        285.58    8.37e-06       0.001      314  LS failed, Hessian reset \n",
      "     199       2959.25   0.000423604       54.7982           1           1      320   \n",
      "    Iter      log prob        ||dx||      ||grad||       alpha      alpha0  # evals  Notes \n",
      "     245       2959.51      6.98e-05       57.8272   1.459e-06       0.001      411  LS failed, Hessian reset \n",
      "     279       2959.53   3.19861e-06       55.2174   4.703e-08       0.001      497  LS failed, Hessian reset \n",
      "     290       2959.53   1.72077e-07       64.9459      0.3938      0.2746      518   \n",
      "Optimization terminated normally: \n",
      "  Convergence detected: relative gradient magnitude is below tolerance\n"
     ]
    },
    {
     "name": "stderr",
     "output_type": "stream",
     "text": [
      "/Users/rco/opt/anaconda3/envs/tps/lib/python3.9/site-packages/prophet/forecaster.py:896: FutureWarning: The frame.append method is deprecated and will be removed from pandas in a future version. Use pandas.concat instead.\n",
      "  components = components.append(new_comp)\n",
      "/Users/rco/opt/anaconda3/envs/tps/lib/python3.9/site-packages/prophet/forecaster.py:896: FutureWarning: The frame.append method is deprecated and will be removed from pandas in a future version. Use pandas.concat instead.\n",
      "  components = components.append(new_comp)\n",
      "/Users/rco/opt/anaconda3/envs/tps/lib/python3.9/site-packages/prophet/forecaster.py:896: FutureWarning: The frame.append method is deprecated and will be removed from pandas in a future version. Use pandas.concat instead.\n",
      "  components = components.append(new_comp)\n",
      "/Users/rco/opt/anaconda3/envs/tps/lib/python3.9/site-packages/prophet/forecaster.py:896: FutureWarning: The frame.append method is deprecated and will be removed from pandas in a future version. Use pandas.concat instead.\n",
      "  components = components.append(new_comp)\n",
      "INFO:prophet:Disabling daily seasonality. Run prophet with daily_seasonality=True to override this.\n"
     ]
    },
    {
     "name": "stdout",
     "output_type": "stream",
     "text": [
      "\n",
      "--------------------------------------------------------------------------\n",
      "Train Score Finland KaggleMart Kaggle Sticker SMAPE: 6.170903\n",
      "Val Score Finland KaggleMart Kaggle Sticker SMAPE: 7.720994\n",
      "--------------------------------------------------------------------------\n",
      "\n",
      "Finland KaggleRama Kaggle Mug\n"
     ]
    },
    {
     "name": "stderr",
     "output_type": "stream",
     "text": [
      "/Users/rco/opt/anaconda3/envs/tps/lib/python3.9/site-packages/prophet/forecaster.py:896: FutureWarning: The frame.append method is deprecated and will be removed from pandas in a future version. Use pandas.concat instead.\n",
      "  components = components.append(new_comp)\n"
     ]
    },
    {
     "name": "stdout",
     "output_type": "stream",
     "text": [
      "Initial log joint probability = -76.9178\n",
      "    Iter      log prob        ||dx||      ||grad||       alpha      alpha0  # evals  Notes \n",
      "      73        3080.1   8.59118e-05       106.764   5.622e-07       0.001      137  LS failed, Hessian reset \n",
      "      99       3080.45   9.28455e-05       78.9265      0.1258      0.8833      170   \n",
      "    Iter      log prob        ||dx||      ||grad||       alpha      alpha0  # evals  Notes \n",
      "     147       3081.35   6.85497e-05       96.6396   6.136e-07       0.001      293  LS failed, Hessian reset \n",
      "     199       3081.77   0.000537365       88.2553           1           1      359   \n",
      "    Iter      log prob        ||dx||      ||grad||       alpha      alpha0  # evals  Notes \n",
      "     299       3082.36   0.000100263        93.471      0.6631           1      482   \n",
      "    Iter      log prob        ||dx||      ||grad||       alpha      alpha0  # evals  Notes \n",
      "     353       3082.41   3.33579e-05       84.2692   4.311e-07       0.001      587  LS failed, Hessian reset \n",
      "     399       3082.43   2.87344e-05       41.9436      0.7813      0.7813      642   \n",
      "    Iter      log prob        ||dx||      ||grad||       alpha      alpha0  # evals  Notes \n",
      "     429       3082.43   5.95984e-06        45.444   1.118e-07       0.001      715  LS failed, Hessian reset \n",
      "     451       3082.43   4.37832e-07       58.1103      0.3045           1      750   \n",
      "Optimization terminated normally: \n",
      "  Convergence detected: relative gradient magnitude is below tolerance\n"
     ]
    },
    {
     "name": "stderr",
     "output_type": "stream",
     "text": [
      "/Users/rco/opt/anaconda3/envs/tps/lib/python3.9/site-packages/prophet/forecaster.py:896: FutureWarning: The frame.append method is deprecated and will be removed from pandas in a future version. Use pandas.concat instead.\n",
      "  components = components.append(new_comp)\n",
      "/Users/rco/opt/anaconda3/envs/tps/lib/python3.9/site-packages/prophet/forecaster.py:896: FutureWarning: The frame.append method is deprecated and will be removed from pandas in a future version. Use pandas.concat instead.\n",
      "  components = components.append(new_comp)\n",
      "/Users/rco/opt/anaconda3/envs/tps/lib/python3.9/site-packages/prophet/forecaster.py:896: FutureWarning: The frame.append method is deprecated and will be removed from pandas in a future version. Use pandas.concat instead.\n",
      "  components = components.append(new_comp)\n",
      "/Users/rco/opt/anaconda3/envs/tps/lib/python3.9/site-packages/prophet/forecaster.py:896: FutureWarning: The frame.append method is deprecated and will be removed from pandas in a future version. Use pandas.concat instead.\n",
      "  components = components.append(new_comp)\n",
      "INFO:prophet:Disabling daily seasonality. Run prophet with daily_seasonality=True to override this.\n"
     ]
    },
    {
     "name": "stdout",
     "output_type": "stream",
     "text": [
      "\n",
      "--------------------------------------------------------------------------\n",
      "Train Score Finland KaggleRama Kaggle Mug SMAPE: 6.264472\n",
      "Val Score Finland KaggleRama Kaggle Mug SMAPE: 12.744765\n",
      "--------------------------------------------------------------------------\n",
      "\n",
      "Finland KaggleRama Kaggle Hat\n"
     ]
    },
    {
     "name": "stderr",
     "output_type": "stream",
     "text": [
      "/Users/rco/opt/anaconda3/envs/tps/lib/python3.9/site-packages/prophet/forecaster.py:896: FutureWarning: The frame.append method is deprecated and will be removed from pandas in a future version. Use pandas.concat instead.\n",
      "  components = components.append(new_comp)\n"
     ]
    },
    {
     "name": "stdout",
     "output_type": "stream",
     "text": [
      "Initial log joint probability = -73.2437\n",
      "    Iter      log prob        ||dx||      ||grad||       alpha      alpha0  # evals  Notes \n",
      "      99       3017.39   0.000489968       100.079           1           1      132   \n",
      "    Iter      log prob        ||dx||      ||grad||       alpha      alpha0  # evals  Notes \n",
      "     133       3018.37   0.000133261       149.958   6.785e-07       0.001      223  LS failed, Hessian reset \n",
      "     199       3018.67   0.000387679       64.7983      0.7956      0.7956      318   \n",
      "    Iter      log prob        ||dx||      ||grad||       alpha      alpha0  # evals  Notes \n",
      "     251       3018.91   0.000445183        188.81   5.075e-06       0.001      439  LS failed, Hessian reset \n",
      "     299       3018.94    4.4717e-05       61.4257      0.1898           1      506   \n",
      "    Iter      log prob        ||dx||      ||grad||       alpha      alpha0  # evals  Notes \n",
      "     320       3018.94   2.60214e-05       70.3582   4.183e-07       0.001      577  LS failed, Hessian reset \n",
      "     327       3018.94   7.61771e-06       57.4817    2.21e-07       0.001      626  LS failed, Hessian reset \n",
      "     365       3018.94   1.78912e-07       47.9582      0.5032      0.5032      686   \n",
      "Optimization terminated normally: \n",
      "  Convergence detected: relative gradient magnitude is below tolerance\n"
     ]
    },
    {
     "name": "stderr",
     "output_type": "stream",
     "text": [
      "/Users/rco/opt/anaconda3/envs/tps/lib/python3.9/site-packages/prophet/forecaster.py:896: FutureWarning: The frame.append method is deprecated and will be removed from pandas in a future version. Use pandas.concat instead.\n",
      "  components = components.append(new_comp)\n",
      "/Users/rco/opt/anaconda3/envs/tps/lib/python3.9/site-packages/prophet/forecaster.py:896: FutureWarning: The frame.append method is deprecated and will be removed from pandas in a future version. Use pandas.concat instead.\n",
      "  components = components.append(new_comp)\n",
      "/Users/rco/opt/anaconda3/envs/tps/lib/python3.9/site-packages/prophet/forecaster.py:896: FutureWarning: The frame.append method is deprecated and will be removed from pandas in a future version. Use pandas.concat instead.\n",
      "  components = components.append(new_comp)\n",
      "/Users/rco/opt/anaconda3/envs/tps/lib/python3.9/site-packages/prophet/forecaster.py:896: FutureWarning: The frame.append method is deprecated and will be removed from pandas in a future version. Use pandas.concat instead.\n",
      "  components = components.append(new_comp)\n",
      "INFO:prophet:Disabling daily seasonality. Run prophet with daily_seasonality=True to override this.\n"
     ]
    },
    {
     "name": "stdout",
     "output_type": "stream",
     "text": [
      "\n",
      "--------------------------------------------------------------------------\n",
      "Train Score Finland KaggleRama Kaggle Hat SMAPE: 6.280392\n",
      "Val Score Finland KaggleRama Kaggle Hat SMAPE: 8.063755\n",
      "--------------------------------------------------------------------------\n",
      "\n",
      "Finland KaggleRama Kaggle Sticker\n"
     ]
    },
    {
     "name": "stderr",
     "output_type": "stream",
     "text": [
      "/Users/rco/opt/anaconda3/envs/tps/lib/python3.9/site-packages/prophet/forecaster.py:896: FutureWarning: The frame.append method is deprecated and will be removed from pandas in a future version. Use pandas.concat instead.\n",
      "  components = components.append(new_comp)\n"
     ]
    },
    {
     "name": "stdout",
     "output_type": "stream",
     "text": [
      "Initial log joint probability = -77.9697\n",
      "    Iter      log prob        ||dx||      ||grad||       alpha      alpha0  # evals  Notes \n",
      "      99        2996.5     0.0011244       64.2197           1           1      127   \n",
      "    Iter      log prob        ||dx||      ||grad||       alpha      alpha0  # evals  Notes \n",
      "     122       2997.08   7.72072e-05       68.1375   4.897e-07       0.001      198  LS failed, Hessian reset \n",
      "     194       2997.55   0.000288589       185.232    3.99e-06       0.001      336  LS failed, Hessian reset \n",
      "     199       2997.58   0.000132461       55.1177           1           1      341   \n",
      "    Iter      log prob        ||dx||      ||grad||       alpha      alpha0  # evals  Notes \n",
      "     263       2997.66   2.24792e-05       31.0476   2.971e-07       0.001      464  LS failed, Hessian reset \n",
      "     275       2997.66   4.02586e-06       53.1546    1.27e-07       0.001      518  LS failed, Hessian reset \n",
      "     287       2997.66   1.51565e-07       30.1204      0.3343           1      533   \n",
      "Optimization terminated normally: \n",
      "  Convergence detected: relative gradient magnitude is below tolerance\n"
     ]
    },
    {
     "name": "stderr",
     "output_type": "stream",
     "text": [
      "/Users/rco/opt/anaconda3/envs/tps/lib/python3.9/site-packages/prophet/forecaster.py:896: FutureWarning: The frame.append method is deprecated and will be removed from pandas in a future version. Use pandas.concat instead.\n",
      "  components = components.append(new_comp)\n",
      "/Users/rco/opt/anaconda3/envs/tps/lib/python3.9/site-packages/prophet/forecaster.py:896: FutureWarning: The frame.append method is deprecated and will be removed from pandas in a future version. Use pandas.concat instead.\n",
      "  components = components.append(new_comp)\n",
      "/Users/rco/opt/anaconda3/envs/tps/lib/python3.9/site-packages/prophet/forecaster.py:896: FutureWarning: The frame.append method is deprecated and will be removed from pandas in a future version. Use pandas.concat instead.\n",
      "  components = components.append(new_comp)\n",
      "/Users/rco/opt/anaconda3/envs/tps/lib/python3.9/site-packages/prophet/forecaster.py:896: FutureWarning: The frame.append method is deprecated and will be removed from pandas in a future version. Use pandas.concat instead.\n",
      "  components = components.append(new_comp)\n",
      "INFO:prophet:Disabling daily seasonality. Run prophet with daily_seasonality=True to override this.\n"
     ]
    },
    {
     "name": "stdout",
     "output_type": "stream",
     "text": [
      "\n",
      "--------------------------------------------------------------------------\n",
      "Train Score Finland KaggleRama Kaggle Sticker SMAPE: 6.311609\n",
      "Val Score Finland KaggleRama Kaggle Sticker SMAPE: 7.510693\n",
      "--------------------------------------------------------------------------\n",
      "\n",
      "Norway KaggleMart Kaggle Mug\n"
     ]
    },
    {
     "name": "stderr",
     "output_type": "stream",
     "text": [
      "/Users/rco/opt/anaconda3/envs/tps/lib/python3.9/site-packages/prophet/forecaster.py:896: FutureWarning: The frame.append method is deprecated and will be removed from pandas in a future version. Use pandas.concat instead.\n",
      "  components = components.append(new_comp)\n"
     ]
    },
    {
     "name": "stdout",
     "output_type": "stream",
     "text": [
      "Initial log joint probability = -74.8958\n",
      "    Iter      log prob        ||dx||      ||grad||       alpha      alpha0  # evals  Notes \n",
      "      99       3031.12    0.00616092        89.404           1           1      127   \n",
      "    Iter      log prob        ||dx||      ||grad||       alpha      alpha0  # evals  Notes \n",
      "     192       3033.04   0.000146648       152.667   1.354e-06       0.001      281  LS failed, Hessian reset \n",
      "     199        3033.1   0.000221423       107.043           1           1      289   \n",
      "    Iter      log prob        ||dx||      ||grad||       alpha      alpha0  # evals  Notes \n",
      "     243       3033.14   3.87348e-05        63.963   8.868e-07       0.001      384  LS failed, Hessian reset \n",
      "     299       3033.16   4.84115e-05       46.3544       3.978           1      462   \n",
      "    Iter      log prob        ||dx||      ||grad||       alpha      alpha0  # evals  Notes \n",
      "     326       3033.16   5.11545e-05       62.4188   1.035e-06       0.001      538  LS failed, Hessian reset \n",
      "     388       3033.17   4.87149e-07       64.3144      0.4885           1      629   \n",
      "Optimization terminated normally: \n",
      "  Convergence detected: relative gradient magnitude is below tolerance\n"
     ]
    },
    {
     "name": "stderr",
     "output_type": "stream",
     "text": [
      "/Users/rco/opt/anaconda3/envs/tps/lib/python3.9/site-packages/prophet/forecaster.py:896: FutureWarning: The frame.append method is deprecated and will be removed from pandas in a future version. Use pandas.concat instead.\n",
      "  components = components.append(new_comp)\n",
      "/Users/rco/opt/anaconda3/envs/tps/lib/python3.9/site-packages/prophet/forecaster.py:896: FutureWarning: The frame.append method is deprecated and will be removed from pandas in a future version. Use pandas.concat instead.\n",
      "  components = components.append(new_comp)\n",
      "/Users/rco/opt/anaconda3/envs/tps/lib/python3.9/site-packages/prophet/forecaster.py:896: FutureWarning: The frame.append method is deprecated and will be removed from pandas in a future version. Use pandas.concat instead.\n",
      "  components = components.append(new_comp)\n",
      "/Users/rco/opt/anaconda3/envs/tps/lib/python3.9/site-packages/prophet/forecaster.py:896: FutureWarning: The frame.append method is deprecated and will be removed from pandas in a future version. Use pandas.concat instead.\n",
      "  components = components.append(new_comp)\n",
      "INFO:prophet:Disabling daily seasonality. Run prophet with daily_seasonality=True to override this.\n"
     ]
    },
    {
     "name": "stdout",
     "output_type": "stream",
     "text": [
      "\n",
      "--------------------------------------------------------------------------\n",
      "Train Score Norway KaggleMart Kaggle Mug SMAPE: 6.257631\n",
      "Val Score Norway KaggleMart Kaggle Mug SMAPE: 6.594419\n",
      "--------------------------------------------------------------------------\n",
      "\n",
      "Norway KaggleMart Kaggle Hat\n"
     ]
    },
    {
     "name": "stderr",
     "output_type": "stream",
     "text": [
      "/Users/rco/opt/anaconda3/envs/tps/lib/python3.9/site-packages/prophet/forecaster.py:896: FutureWarning: The frame.append method is deprecated and will be removed from pandas in a future version. Use pandas.concat instead.\n",
      "  components = components.append(new_comp)\n"
     ]
    },
    {
     "name": "stdout",
     "output_type": "stream",
     "text": [
      "Initial log joint probability = -87.255\n",
      "    Iter      log prob        ||dx||      ||grad||       alpha      alpha0  # evals  Notes \n",
      "      99        3008.9   0.000519653       200.542           1           1      126   \n",
      "    Iter      log prob        ||dx||      ||grad||       alpha      alpha0  # evals  Notes \n",
      "     199       3011.07    0.00158435       91.2814           1           1      247   \n",
      "    Iter      log prob        ||dx||      ||grad||       alpha      alpha0  # evals  Notes \n",
      "     299       3011.69   5.72892e-07        71.561      0.2264      0.2264      376   \n",
      "    Iter      log prob        ||dx||      ||grad||       alpha      alpha0  # evals  Notes \n",
      "     308       3011.69   1.63749e-06        69.666    2.04e-08       0.001      425  LS failed, Hessian reset \n",
      "     316       3011.69   1.62858e-07       65.6456      0.3338           1      436   \n",
      "Optimization terminated normally: \n",
      "  Convergence detected: relative gradient magnitude is below tolerance\n"
     ]
    },
    {
     "name": "stderr",
     "output_type": "stream",
     "text": [
      "/Users/rco/opt/anaconda3/envs/tps/lib/python3.9/site-packages/prophet/forecaster.py:896: FutureWarning: The frame.append method is deprecated and will be removed from pandas in a future version. Use pandas.concat instead.\n",
      "  components = components.append(new_comp)\n",
      "/Users/rco/opt/anaconda3/envs/tps/lib/python3.9/site-packages/prophet/forecaster.py:896: FutureWarning: The frame.append method is deprecated and will be removed from pandas in a future version. Use pandas.concat instead.\n",
      "  components = components.append(new_comp)\n",
      "/Users/rco/opt/anaconda3/envs/tps/lib/python3.9/site-packages/prophet/forecaster.py:896: FutureWarning: The frame.append method is deprecated and will be removed from pandas in a future version. Use pandas.concat instead.\n",
      "  components = components.append(new_comp)\n",
      "/Users/rco/opt/anaconda3/envs/tps/lib/python3.9/site-packages/prophet/forecaster.py:896: FutureWarning: The frame.append method is deprecated and will be removed from pandas in a future version. Use pandas.concat instead.\n",
      "  components = components.append(new_comp)\n",
      "INFO:prophet:Disabling daily seasonality. Run prophet with daily_seasonality=True to override this.\n"
     ]
    },
    {
     "name": "stdout",
     "output_type": "stream",
     "text": [
      "\n",
      "--------------------------------------------------------------------------\n",
      "Train Score Norway KaggleMart Kaggle Hat SMAPE: 6.256876\n",
      "Val Score Norway KaggleMart Kaggle Hat SMAPE: 6.512337\n",
      "--------------------------------------------------------------------------\n",
      "\n",
      "Norway KaggleMart Kaggle Sticker\n"
     ]
    },
    {
     "name": "stderr",
     "output_type": "stream",
     "text": [
      "/Users/rco/opt/anaconda3/envs/tps/lib/python3.9/site-packages/prophet/forecaster.py:896: FutureWarning: The frame.append method is deprecated and will be removed from pandas in a future version. Use pandas.concat instead.\n",
      "  components = components.append(new_comp)\n"
     ]
    },
    {
     "name": "stdout",
     "output_type": "stream",
     "text": [
      "Initial log joint probability = -96.2714\n",
      "    Iter      log prob        ||dx||      ||grad||       alpha      alpha0  # evals  Notes \n",
      "      99       2941.68    0.00487397       133.228           1           1      127   \n",
      "    Iter      log prob        ||dx||      ||grad||       alpha      alpha0  # evals  Notes \n",
      "     173       2944.35   0.000197744       125.982   5.734e-06       0.001      254  LS failed, Hessian reset \n",
      "     199       2944.45    0.00157532       61.1532           1           1      282   \n",
      "    Iter      log prob        ||dx||      ||grad||       alpha      alpha0  # evals  Notes \n",
      "     210       2944.48   0.000173111       72.9842   3.459e-06       0.001      329  LS failed, Hessian reset \n",
      "     257        2944.6   0.000508379        217.12   7.342e-06       0.001      426  LS failed, Hessian reset \n",
      "     299       2944.67   0.000391052       69.6974           1           1      482   \n",
      "    Iter      log prob        ||dx||      ||grad||       alpha      alpha0  # evals  Notes \n",
      "     304       2944.67   3.46267e-05       70.3379   7.808e-07       0.001      544  LS failed, Hessian reset \n",
      "     349       2944.69   2.57536e-06       62.8084   4.198e-08       0.001      647  LS failed, Hessian reset \n",
      "     352       2944.69   2.04144e-07       35.7633      0.3288           1      652   \n",
      "Optimization terminated normally: \n",
      "  Convergence detected: relative gradient magnitude is below tolerance\n"
     ]
    },
    {
     "name": "stderr",
     "output_type": "stream",
     "text": [
      "/Users/rco/opt/anaconda3/envs/tps/lib/python3.9/site-packages/prophet/forecaster.py:896: FutureWarning: The frame.append method is deprecated and will be removed from pandas in a future version. Use pandas.concat instead.\n",
      "  components = components.append(new_comp)\n",
      "/Users/rco/opt/anaconda3/envs/tps/lib/python3.9/site-packages/prophet/forecaster.py:896: FutureWarning: The frame.append method is deprecated and will be removed from pandas in a future version. Use pandas.concat instead.\n",
      "  components = components.append(new_comp)\n",
      "/Users/rco/opt/anaconda3/envs/tps/lib/python3.9/site-packages/prophet/forecaster.py:896: FutureWarning: The frame.append method is deprecated and will be removed from pandas in a future version. Use pandas.concat instead.\n",
      "  components = components.append(new_comp)\n",
      "/Users/rco/opt/anaconda3/envs/tps/lib/python3.9/site-packages/prophet/forecaster.py:896: FutureWarning: The frame.append method is deprecated and will be removed from pandas in a future version. Use pandas.concat instead.\n",
      "  components = components.append(new_comp)\n",
      "INFO:prophet:Disabling daily seasonality. Run prophet with daily_seasonality=True to override this.\n"
     ]
    },
    {
     "name": "stdout",
     "output_type": "stream",
     "text": [
      "\n",
      "--------------------------------------------------------------------------\n",
      "Train Score Norway KaggleMart Kaggle Sticker SMAPE: 5.978552\n",
      "Val Score Norway KaggleMart Kaggle Sticker SMAPE: 6.401493\n",
      "--------------------------------------------------------------------------\n",
      "\n",
      "Norway KaggleRama Kaggle Mug\n"
     ]
    },
    {
     "name": "stderr",
     "output_type": "stream",
     "text": [
      "/Users/rco/opt/anaconda3/envs/tps/lib/python3.9/site-packages/prophet/forecaster.py:896: FutureWarning: The frame.append method is deprecated and will be removed from pandas in a future version. Use pandas.concat instead.\n",
      "  components = components.append(new_comp)\n"
     ]
    },
    {
     "name": "stdout",
     "output_type": "stream",
     "text": [
      "Initial log joint probability = -103.301\n",
      "    Iter      log prob        ||dx||      ||grad||       alpha      alpha0  # evals  Notes \n",
      "      54       3022.95    0.00056192       106.775   1.256e-05       0.001      106  LS failed, Hessian reset \n",
      "      99       3023.57   0.000550256       82.0164      0.4887      0.4887      167   \n",
      "    Iter      log prob        ||dx||      ||grad||       alpha      alpha0  # evals  Notes \n",
      "     165       3024.58   0.000562527       142.319   6.786e-06       0.001      303  LS failed, Hessian reset \n",
      "     199        3024.7   0.000183879       64.7574           1           1      343   \n",
      "    Iter      log prob        ||dx||      ||grad||       alpha      alpha0  # evals  Notes \n",
      "     203        3024.7   1.41167e-05       55.0433   3.039e-07       0.001      386  LS failed, Hessian reset \n",
      "     217        3024.7   3.24817e-06       32.9511   6.614e-08       0.001      441  LS failed, Hessian reset \n",
      "     227        3024.7   7.38033e-08       30.9565     0.07684           1      456   \n",
      "Optimization terminated normally: \n",
      "  Convergence detected: relative gradient magnitude is below tolerance\n"
     ]
    },
    {
     "name": "stderr",
     "output_type": "stream",
     "text": [
      "/Users/rco/opt/anaconda3/envs/tps/lib/python3.9/site-packages/prophet/forecaster.py:896: FutureWarning: The frame.append method is deprecated and will be removed from pandas in a future version. Use pandas.concat instead.\n",
      "  components = components.append(new_comp)\n",
      "/Users/rco/opt/anaconda3/envs/tps/lib/python3.9/site-packages/prophet/forecaster.py:896: FutureWarning: The frame.append method is deprecated and will be removed from pandas in a future version. Use pandas.concat instead.\n",
      "  components = components.append(new_comp)\n",
      "/Users/rco/opt/anaconda3/envs/tps/lib/python3.9/site-packages/prophet/forecaster.py:896: FutureWarning: The frame.append method is deprecated and will be removed from pandas in a future version. Use pandas.concat instead.\n",
      "  components = components.append(new_comp)\n",
      "/Users/rco/opt/anaconda3/envs/tps/lib/python3.9/site-packages/prophet/forecaster.py:896: FutureWarning: The frame.append method is deprecated and will be removed from pandas in a future version. Use pandas.concat instead.\n",
      "  components = components.append(new_comp)\n",
      "INFO:prophet:Disabling daily seasonality. Run prophet with daily_seasonality=True to override this.\n"
     ]
    },
    {
     "name": "stdout",
     "output_type": "stream",
     "text": [
      "\n",
      "--------------------------------------------------------------------------\n",
      "Train Score Norway KaggleRama Kaggle Mug SMAPE: 6.101855\n",
      "Val Score Norway KaggleRama Kaggle Mug SMAPE: 8.092844\n",
      "--------------------------------------------------------------------------\n",
      "\n",
      "Norway KaggleRama Kaggle Hat\n"
     ]
    },
    {
     "name": "stderr",
     "output_type": "stream",
     "text": [
      "/Users/rco/opt/anaconda3/envs/tps/lib/python3.9/site-packages/prophet/forecaster.py:896: FutureWarning: The frame.append method is deprecated and will be removed from pandas in a future version. Use pandas.concat instead.\n",
      "  components = components.append(new_comp)\n"
     ]
    },
    {
     "name": "stdout",
     "output_type": "stream",
     "text": [
      "Initial log joint probability = -81.9126\n",
      "    Iter      log prob        ||dx||      ||grad||       alpha      alpha0  # evals  Notes \n",
      "      99       2975.58   0.000738495        182.76      0.3742      0.8802      122   \n",
      "    Iter      log prob        ||dx||      ||grad||       alpha      alpha0  # evals  Notes \n",
      "     199       2978.68   0.000728826       153.574           1           1      246   \n",
      "    Iter      log prob        ||dx||      ||grad||       alpha      alpha0  # evals  Notes \n",
      "     299       2978.99   3.55193e-05       62.1636      0.9491      0.9491      386   \n",
      "    Iter      log prob        ||dx||      ||grad||       alpha      alpha0  # evals  Notes \n",
      "     399       2979.04    0.00151591       78.6752           1           1      510   \n",
      "    Iter      log prob        ||dx||      ||grad||       alpha      alpha0  # evals  Notes \n",
      "     400       2979.04   6.55864e-05       82.4207   8.336e-07       0.001      565  LS failed, Hessian reset \n",
      "     457       2979.05   7.18098e-08       61.0624      0.2076           1      660   \n",
      "Optimization terminated normally: \n",
      "  Convergence detected: relative gradient magnitude is below tolerance\n"
     ]
    },
    {
     "name": "stderr",
     "output_type": "stream",
     "text": [
      "/Users/rco/opt/anaconda3/envs/tps/lib/python3.9/site-packages/prophet/forecaster.py:896: FutureWarning: The frame.append method is deprecated and will be removed from pandas in a future version. Use pandas.concat instead.\n",
      "  components = components.append(new_comp)\n",
      "/Users/rco/opt/anaconda3/envs/tps/lib/python3.9/site-packages/prophet/forecaster.py:896: FutureWarning: The frame.append method is deprecated and will be removed from pandas in a future version. Use pandas.concat instead.\n",
      "  components = components.append(new_comp)\n",
      "/Users/rco/opt/anaconda3/envs/tps/lib/python3.9/site-packages/prophet/forecaster.py:896: FutureWarning: The frame.append method is deprecated and will be removed from pandas in a future version. Use pandas.concat instead.\n",
      "  components = components.append(new_comp)\n",
      "/Users/rco/opt/anaconda3/envs/tps/lib/python3.9/site-packages/prophet/forecaster.py:896: FutureWarning: The frame.append method is deprecated and will be removed from pandas in a future version. Use pandas.concat instead.\n",
      "  components = components.append(new_comp)\n",
      "INFO:prophet:Disabling daily seasonality. Run prophet with daily_seasonality=True to override this.\n"
     ]
    },
    {
     "name": "stdout",
     "output_type": "stream",
     "text": [
      "\n",
      "--------------------------------------------------------------------------\n",
      "Train Score Norway KaggleRama Kaggle Hat SMAPE: 6.391117\n",
      "Val Score Norway KaggleRama Kaggle Hat SMAPE: 6.452345\n",
      "--------------------------------------------------------------------------\n",
      "\n",
      "Norway KaggleRama Kaggle Sticker\n"
     ]
    },
    {
     "name": "stderr",
     "output_type": "stream",
     "text": [
      "/Users/rco/opt/anaconda3/envs/tps/lib/python3.9/site-packages/prophet/forecaster.py:896: FutureWarning: The frame.append method is deprecated and will be removed from pandas in a future version. Use pandas.concat instead.\n",
      "  components = components.append(new_comp)\n"
     ]
    },
    {
     "name": "stdout",
     "output_type": "stream",
     "text": [
      "Initial log joint probability = -67.9817\n",
      "    Iter      log prob        ||dx||      ||grad||       alpha      alpha0  # evals  Notes \n",
      "      99       3055.39    0.00134124       183.735           1           1      124   \n",
      "    Iter      log prob        ||dx||      ||grad||       alpha      alpha0  # evals  Notes \n",
      "     199       3058.27   0.000989024       233.988           1           1      239   \n",
      "    Iter      log prob        ||dx||      ||grad||       alpha      alpha0  # evals  Notes \n",
      "     230       3058.72   0.000107423       106.025    4.44e-07       0.001      315  LS failed, Hessian reset \n",
      "     299       3058.81   3.26324e-06       41.5979           1           1      414   \n",
      "    Iter      log prob        ||dx||      ||grad||       alpha      alpha0  # evals  Notes \n",
      "     310       3058.81   2.68419e-08       44.2597     0.02711     0.02711      433   \n",
      "Optimization terminated normally: \n",
      "  Convergence detected: relative gradient magnitude is below tolerance\n"
     ]
    },
    {
     "name": "stderr",
     "output_type": "stream",
     "text": [
      "/Users/rco/opt/anaconda3/envs/tps/lib/python3.9/site-packages/prophet/forecaster.py:896: FutureWarning: The frame.append method is deprecated and will be removed from pandas in a future version. Use pandas.concat instead.\n",
      "  components = components.append(new_comp)\n",
      "/Users/rco/opt/anaconda3/envs/tps/lib/python3.9/site-packages/prophet/forecaster.py:896: FutureWarning: The frame.append method is deprecated and will be removed from pandas in a future version. Use pandas.concat instead.\n",
      "  components = components.append(new_comp)\n",
      "/Users/rco/opt/anaconda3/envs/tps/lib/python3.9/site-packages/prophet/forecaster.py:896: FutureWarning: The frame.append method is deprecated and will be removed from pandas in a future version. Use pandas.concat instead.\n",
      "  components = components.append(new_comp)\n",
      "/Users/rco/opt/anaconda3/envs/tps/lib/python3.9/site-packages/prophet/forecaster.py:896: FutureWarning: The frame.append method is deprecated and will be removed from pandas in a future version. Use pandas.concat instead.\n",
      "  components = components.append(new_comp)\n",
      "INFO:prophet:Disabling daily seasonality. Run prophet with daily_seasonality=True to override this.\n"
     ]
    },
    {
     "name": "stdout",
     "output_type": "stream",
     "text": [
      "\n",
      "--------------------------------------------------------------------------\n",
      "Train Score Norway KaggleRama Kaggle Sticker SMAPE: 5.971883\n",
      "Val Score Norway KaggleRama Kaggle Sticker SMAPE: 6.591214\n",
      "--------------------------------------------------------------------------\n",
      "\n",
      "Sweden KaggleMart Kaggle Mug\n"
     ]
    },
    {
     "name": "stderr",
     "output_type": "stream",
     "text": [
      "/Users/rco/opt/anaconda3/envs/tps/lib/python3.9/site-packages/prophet/forecaster.py:896: FutureWarning: The frame.append method is deprecated and will be removed from pandas in a future version. Use pandas.concat instead.\n",
      "  components = components.append(new_comp)\n"
     ]
    },
    {
     "name": "stdout",
     "output_type": "stream",
     "text": [
      "Initial log joint probability = -121.684\n",
      "    Iter      log prob        ||dx||      ||grad||       alpha      alpha0  # evals  Notes \n",
      "      99       2965.44    0.00125305       82.2515           1           1      121   \n",
      "    Iter      log prob        ||dx||      ||grad||       alpha      alpha0  # evals  Notes \n",
      "     135       2965.91    0.00112929       100.628   1.667e-05       0.001      216  LS failed, Hessian reset \n",
      "     197       2966.34   0.000613297       257.479    7.37e-06       0.001      339  LS failed, Hessian reset \n",
      "     199       2966.36   5.21575e-05       86.3202           1           1      341   \n",
      "    Iter      log prob        ||dx||      ||grad||       alpha      alpha0  # evals  Notes \n",
      "     234       2966.43    2.0324e-05       34.5244   3.925e-07       0.001      422  LS failed, Hessian reset \n",
      "     250       2966.44   4.97097e-06       70.5295   1.107e-07       0.001      480  LS failed, Hessian reset \n",
      "     281       2966.44   2.32937e-05       61.1332   2.698e-07       0.001      550  LS failed, Hessian reset \n",
      "     299       2966.44   5.13329e-07       53.8177       1.046      0.3565      579   \n",
      "    Iter      log prob        ||dx||      ||grad||       alpha      alpha0  # evals  Notes \n",
      "     300       2966.44   1.31674e-07       32.4225   2.447e-09       0.001      619  LS failed, Hessian reset \n",
      "Optimization terminated normally: \n",
      "  Convergence detected: relative gradient magnitude is below tolerance\n"
     ]
    },
    {
     "name": "stderr",
     "output_type": "stream",
     "text": [
      "/Users/rco/opt/anaconda3/envs/tps/lib/python3.9/site-packages/prophet/forecaster.py:896: FutureWarning: The frame.append method is deprecated and will be removed from pandas in a future version. Use pandas.concat instead.\n",
      "  components = components.append(new_comp)\n",
      "/Users/rco/opt/anaconda3/envs/tps/lib/python3.9/site-packages/prophet/forecaster.py:896: FutureWarning: The frame.append method is deprecated and will be removed from pandas in a future version. Use pandas.concat instead.\n",
      "  components = components.append(new_comp)\n",
      "/Users/rco/opt/anaconda3/envs/tps/lib/python3.9/site-packages/prophet/forecaster.py:896: FutureWarning: The frame.append method is deprecated and will be removed from pandas in a future version. Use pandas.concat instead.\n",
      "  components = components.append(new_comp)\n",
      "/Users/rco/opt/anaconda3/envs/tps/lib/python3.9/site-packages/prophet/forecaster.py:896: FutureWarning: The frame.append method is deprecated and will be removed from pandas in a future version. Use pandas.concat instead.\n",
      "  components = components.append(new_comp)\n",
      "INFO:prophet:Disabling daily seasonality. Run prophet with daily_seasonality=True to override this.\n"
     ]
    },
    {
     "name": "stdout",
     "output_type": "stream",
     "text": [
      "\n",
      "--------------------------------------------------------------------------\n",
      "Train Score Sweden KaggleMart Kaggle Mug SMAPE: 6.393215\n",
      "Val Score Sweden KaggleMart Kaggle Mug SMAPE: 14.319984\n",
      "--------------------------------------------------------------------------\n",
      "\n",
      "Sweden KaggleMart Kaggle Hat\n"
     ]
    },
    {
     "name": "stderr",
     "output_type": "stream",
     "text": [
      "/Users/rco/opt/anaconda3/envs/tps/lib/python3.9/site-packages/prophet/forecaster.py:896: FutureWarning: The frame.append method is deprecated and will be removed from pandas in a future version. Use pandas.concat instead.\n",
      "  components = components.append(new_comp)\n"
     ]
    },
    {
     "name": "stdout",
     "output_type": "stream",
     "text": [
      "Initial log joint probability = -77.54\n",
      "    Iter      log prob        ||dx||      ||grad||       alpha      alpha0  # evals  Notes \n",
      "      99       2960.59    0.00294094       80.6809      0.3639           1      119   \n",
      "    Iter      log prob        ||dx||      ||grad||       alpha      alpha0  # evals  Notes \n",
      "     157       2961.67   0.000451768       243.177   5.602e-06       0.001      221  LS failed, Hessian reset \n",
      "     199       2961.91   0.000348527       62.3414       1.939      0.1939      273   \n",
      "    Iter      log prob        ||dx||      ||grad||       alpha      alpha0  # evals  Notes \n",
      "     210       2961.92   4.73394e-05       65.4063   9.667e-07       0.001      330  LS failed, Hessian reset \n",
      "     224       2961.92    3.2738e-06        47.868   1.043e-07       0.001      390  LS failed, Hessian reset \n",
      "     228       2961.92   2.89504e-08       47.6733     0.06619     0.06619      400   \n",
      "Optimization terminated normally: \n",
      "  Convergence detected: relative gradient magnitude is below tolerance\n"
     ]
    },
    {
     "name": "stderr",
     "output_type": "stream",
     "text": [
      "/Users/rco/opt/anaconda3/envs/tps/lib/python3.9/site-packages/prophet/forecaster.py:896: FutureWarning: The frame.append method is deprecated and will be removed from pandas in a future version. Use pandas.concat instead.\n",
      "  components = components.append(new_comp)\n",
      "/Users/rco/opt/anaconda3/envs/tps/lib/python3.9/site-packages/prophet/forecaster.py:896: FutureWarning: The frame.append method is deprecated and will be removed from pandas in a future version. Use pandas.concat instead.\n",
      "  components = components.append(new_comp)\n",
      "/Users/rco/opt/anaconda3/envs/tps/lib/python3.9/site-packages/prophet/forecaster.py:896: FutureWarning: The frame.append method is deprecated and will be removed from pandas in a future version. Use pandas.concat instead.\n",
      "  components = components.append(new_comp)\n",
      "/Users/rco/opt/anaconda3/envs/tps/lib/python3.9/site-packages/prophet/forecaster.py:896: FutureWarning: The frame.append method is deprecated and will be removed from pandas in a future version. Use pandas.concat instead.\n",
      "  components = components.append(new_comp)\n",
      "INFO:prophet:Disabling daily seasonality. Run prophet with daily_seasonality=True to override this.\n"
     ]
    },
    {
     "name": "stdout",
     "output_type": "stream",
     "text": [
      "\n",
      "--------------------------------------------------------------------------\n",
      "Train Score Sweden KaggleMart Kaggle Hat SMAPE: 6.702981\n",
      "Val Score Sweden KaggleMart Kaggle Hat SMAPE: 9.345051\n",
      "--------------------------------------------------------------------------\n",
      "\n",
      "Sweden KaggleMart Kaggle Sticker\n"
     ]
    },
    {
     "name": "stderr",
     "output_type": "stream",
     "text": [
      "/Users/rco/opt/anaconda3/envs/tps/lib/python3.9/site-packages/prophet/forecaster.py:896: FutureWarning: The frame.append method is deprecated and will be removed from pandas in a future version. Use pandas.concat instead.\n",
      "  components = components.append(new_comp)\n"
     ]
    },
    {
     "name": "stdout",
     "output_type": "stream",
     "text": [
      "Initial log joint probability = -65.272\n",
      "    Iter      log prob        ||dx||      ||grad||       alpha      alpha0  # evals  Notes \n",
      "      99       3028.82   0.000375842       116.691           1           1      134   \n",
      "    Iter      log prob        ||dx||      ||grad||       alpha      alpha0  # evals  Notes \n",
      "     112       3028.93   0.000131188       146.979   1.595e-06       0.001      191  LS failed, Hessian reset \n",
      "     189       3029.22   0.000108121       130.367   1.105e-06       0.001      321  LS failed, Hessian reset \n",
      "     199       3029.32   0.000847848       69.7852      0.2759           1      333   \n",
      "    Iter      log prob        ||dx||      ||grad||       alpha      alpha0  # evals  Notes \n",
      "     277       3029.46   2.46559e-05       57.4649   3.018e-07       0.001      474  LS failed, Hessian reset \n",
      "     299       3029.46   3.55537e-06       65.1672      0.2922           1      507   \n",
      "    Iter      log prob        ||dx||      ||grad||       alpha      alpha0  # evals  Notes \n",
      "     369       3029.64   0.000784503       161.767   7.438e-06       0.001      632  LS failed, Hessian reset \n",
      "     399       3029.76   0.000216951       67.7447      0.8813      0.8813      668   \n",
      "    Iter      log prob        ||dx||      ||grad||       alpha      alpha0  # evals  Notes \n",
      "     489       3029.81   7.79015e-06       58.5752   1.059e-07       0.001      831  LS failed, Hessian reset \n",
      "     499       3029.81   5.48565e-07       66.0372      0.8751      0.8751      843   \n",
      "    Iter      log prob        ||dx||      ||grad||       alpha      alpha0  # evals  Notes \n",
      "     503       3029.81   9.05113e-08       65.3093     0.06839      0.9283      849   \n",
      "Optimization terminated normally: \n",
      "  Convergence detected: relative gradient magnitude is below tolerance\n"
     ]
    },
    {
     "name": "stderr",
     "output_type": "stream",
     "text": [
      "/Users/rco/opt/anaconda3/envs/tps/lib/python3.9/site-packages/prophet/forecaster.py:896: FutureWarning: The frame.append method is deprecated and will be removed from pandas in a future version. Use pandas.concat instead.\n",
      "  components = components.append(new_comp)\n",
      "/Users/rco/opt/anaconda3/envs/tps/lib/python3.9/site-packages/prophet/forecaster.py:896: FutureWarning: The frame.append method is deprecated and will be removed from pandas in a future version. Use pandas.concat instead.\n",
      "  components = components.append(new_comp)\n",
      "/Users/rco/opt/anaconda3/envs/tps/lib/python3.9/site-packages/prophet/forecaster.py:896: FutureWarning: The frame.append method is deprecated and will be removed from pandas in a future version. Use pandas.concat instead.\n",
      "  components = components.append(new_comp)\n",
      "/Users/rco/opt/anaconda3/envs/tps/lib/python3.9/site-packages/prophet/forecaster.py:896: FutureWarning: The frame.append method is deprecated and will be removed from pandas in a future version. Use pandas.concat instead.\n",
      "  components = components.append(new_comp)\n",
      "INFO:prophet:Disabling daily seasonality. Run prophet with daily_seasonality=True to override this.\n"
     ]
    },
    {
     "name": "stdout",
     "output_type": "stream",
     "text": [
      "\n",
      "--------------------------------------------------------------------------\n",
      "Train Score Sweden KaggleMart Kaggle Sticker SMAPE: 6.576948\n",
      "Val Score Sweden KaggleMart Kaggle Sticker SMAPE: 10.965218\n",
      "--------------------------------------------------------------------------\n",
      "\n",
      "Sweden KaggleRama Kaggle Mug\n"
     ]
    },
    {
     "name": "stderr",
     "output_type": "stream",
     "text": [
      "/Users/rco/opt/anaconda3/envs/tps/lib/python3.9/site-packages/prophet/forecaster.py:896: FutureWarning: The frame.append method is deprecated and will be removed from pandas in a future version. Use pandas.concat instead.\n",
      "  components = components.append(new_comp)\n"
     ]
    },
    {
     "name": "stdout",
     "output_type": "stream",
     "text": [
      "Initial log joint probability = -93.1938\n",
      "    Iter      log prob        ||dx||      ||grad||       alpha      alpha0  # evals  Notes \n",
      "      99       3107.49   3.56911e-05       52.5512      0.9605      0.9605      128   \n",
      "    Iter      log prob        ||dx||      ||grad||       alpha      alpha0  # evals  Notes \n",
      "     118       3107.68   0.000222142       120.406    3.36e-06       0.001      186  LS failed, Hessian reset \n",
      "     199       3107.99    0.00645398       191.401      0.2927           1      291   \n",
      "    Iter      log prob        ||dx||      ||grad||       alpha      alpha0  # evals  Notes \n",
      "     214       3108.41    0.00092002       116.723   1.043e-05       0.001      354  LS failed, Hessian reset \n",
      "     246       3108.54   0.000109378       119.872   1.337e-06       0.001      441  LS failed, Hessian reset \n",
      "     278       3108.56   3.17196e-05       71.1954   5.512e-07       0.001      519  LS failed, Hessian reset \n",
      "     295       3108.56   3.39601e-06       30.8626   7.169e-08       0.001      581  LS failed, Hessian reset \n",
      "     299       3108.56   4.36876e-07       37.4755      0.9512      0.9512      586   \n",
      "    Iter      log prob        ||dx||      ||grad||       alpha      alpha0  # evals  Notes \n",
      "     314       3108.56    2.3356e-07        53.491      0.3878           1      611   \n",
      "Optimization terminated normally: \n",
      "  Convergence detected: relative gradient magnitude is below tolerance\n"
     ]
    },
    {
     "name": "stderr",
     "output_type": "stream",
     "text": [
      "/Users/rco/opt/anaconda3/envs/tps/lib/python3.9/site-packages/prophet/forecaster.py:896: FutureWarning: The frame.append method is deprecated and will be removed from pandas in a future version. Use pandas.concat instead.\n",
      "  components = components.append(new_comp)\n",
      "/Users/rco/opt/anaconda3/envs/tps/lib/python3.9/site-packages/prophet/forecaster.py:896: FutureWarning: The frame.append method is deprecated and will be removed from pandas in a future version. Use pandas.concat instead.\n",
      "  components = components.append(new_comp)\n",
      "/Users/rco/opt/anaconda3/envs/tps/lib/python3.9/site-packages/prophet/forecaster.py:896: FutureWarning: The frame.append method is deprecated and will be removed from pandas in a future version. Use pandas.concat instead.\n",
      "  components = components.append(new_comp)\n",
      "/Users/rco/opt/anaconda3/envs/tps/lib/python3.9/site-packages/prophet/forecaster.py:896: FutureWarning: The frame.append method is deprecated and will be removed from pandas in a future version. Use pandas.concat instead.\n",
      "  components = components.append(new_comp)\n",
      "INFO:prophet:Disabling daily seasonality. Run prophet with daily_seasonality=True to override this.\n"
     ]
    },
    {
     "name": "stdout",
     "output_type": "stream",
     "text": [
      "\n",
      "--------------------------------------------------------------------------\n",
      "Train Score Sweden KaggleRama Kaggle Mug SMAPE: 6.259978\n",
      "Val Score Sweden KaggleRama Kaggle Mug SMAPE: 12.124956\n",
      "--------------------------------------------------------------------------\n",
      "\n",
      "Sweden KaggleRama Kaggle Hat\n"
     ]
    },
    {
     "name": "stderr",
     "output_type": "stream",
     "text": [
      "/Users/rco/opt/anaconda3/envs/tps/lib/python3.9/site-packages/prophet/forecaster.py:896: FutureWarning: The frame.append method is deprecated and will be removed from pandas in a future version. Use pandas.concat instead.\n",
      "  components = components.append(new_comp)\n"
     ]
    },
    {
     "name": "stdout",
     "output_type": "stream",
     "text": [
      "Initial log joint probability = -95.8503\n",
      "    Iter      log prob        ||dx||      ||grad||       alpha      alpha0  # evals  Notes \n",
      "      99       2972.77    0.00227155       63.5362           1           1      127   \n",
      "    Iter      log prob        ||dx||      ||grad||       alpha      alpha0  # evals  Notes \n",
      "     166       2973.18   6.67086e-05       88.4086   6.937e-07       0.001      267  LS failed, Hessian reset \n",
      "     197       2973.43   8.91081e-05        66.931   1.418e-06       0.001      350  LS failed, Hessian reset \n",
      "     199       2973.43   2.04278e-05       40.1832      0.9705      0.9705      352   \n",
      "    Iter      log prob        ||dx||      ||grad||       alpha      alpha0  # evals  Notes \n",
      "     241       2973.48   5.13896e-05       69.2021   7.675e-07       0.001      447  LS failed, Hessian reset \n",
      "     299       2973.63    0.00917713       141.695           1           1      527   \n",
      "    Iter      log prob        ||dx||      ||grad||       alpha      alpha0  # evals  Notes \n",
      "     307        2973.7   0.000120277       123.818    1.25e-06       0.001      583  LS failed, Hessian reset \n",
      "     364       2973.79   7.11178e-06       64.2558   1.363e-07       0.001      715  LS failed, Hessian reset \n",
      "     371        2973.8   2.42477e-07       47.4795      0.2777      0.9619      725   \n",
      "Optimization terminated normally: \n",
      "  Convergence detected: relative gradient magnitude is below tolerance\n"
     ]
    },
    {
     "name": "stderr",
     "output_type": "stream",
     "text": [
      "/Users/rco/opt/anaconda3/envs/tps/lib/python3.9/site-packages/prophet/forecaster.py:896: FutureWarning: The frame.append method is deprecated and will be removed from pandas in a future version. Use pandas.concat instead.\n",
      "  components = components.append(new_comp)\n",
      "/Users/rco/opt/anaconda3/envs/tps/lib/python3.9/site-packages/prophet/forecaster.py:896: FutureWarning: The frame.append method is deprecated and will be removed from pandas in a future version. Use pandas.concat instead.\n",
      "  components = components.append(new_comp)\n",
      "/Users/rco/opt/anaconda3/envs/tps/lib/python3.9/site-packages/prophet/forecaster.py:896: FutureWarning: The frame.append method is deprecated and will be removed from pandas in a future version. Use pandas.concat instead.\n",
      "  components = components.append(new_comp)\n",
      "/Users/rco/opt/anaconda3/envs/tps/lib/python3.9/site-packages/prophet/forecaster.py:896: FutureWarning: The frame.append method is deprecated and will be removed from pandas in a future version. Use pandas.concat instead.\n",
      "  components = components.append(new_comp)\n",
      "INFO:prophet:Disabling daily seasonality. Run prophet with daily_seasonality=True to override this.\n"
     ]
    },
    {
     "name": "stdout",
     "output_type": "stream",
     "text": [
      "\n",
      "--------------------------------------------------------------------------\n",
      "Train Score Sweden KaggleRama Kaggle Hat SMAPE: 6.490299\n",
      "Val Score Sweden KaggleRama Kaggle Hat SMAPE: 8.344772\n",
      "--------------------------------------------------------------------------\n",
      "\n",
      "Sweden KaggleRama Kaggle Sticker\n"
     ]
    },
    {
     "name": "stderr",
     "output_type": "stream",
     "text": [
      "/Users/rco/opt/anaconda3/envs/tps/lib/python3.9/site-packages/prophet/forecaster.py:896: FutureWarning: The frame.append method is deprecated and will be removed from pandas in a future version. Use pandas.concat instead.\n",
      "  components = components.append(new_comp)\n"
     ]
    },
    {
     "name": "stdout",
     "output_type": "stream",
     "text": [
      "Initial log joint probability = -74.6211\n",
      "    Iter      log prob        ||dx||      ||grad||       alpha      alpha0  # evals  Notes \n",
      "      99       3085.95   0.000151745       128.209      0.1488           1      133   \n",
      "    Iter      log prob        ||dx||      ||grad||       alpha      alpha0  # evals  Notes \n",
      "     158       3086.17   7.60646e-05       87.0049   1.046e-06       0.001      261  LS failed, Hessian reset \n",
      "     199       3086.35   0.000544117       79.4073      0.7397      0.7397      308   \n",
      "    Iter      log prob        ||dx||      ||grad||       alpha      alpha0  # evals  Notes \n",
      "     274        3086.6   0.000270047       175.866   2.056e-06       0.001      474  LS failed, Hessian reset \n",
      "     299       3086.71   0.000111647       60.0165           1           1      504   \n",
      "    Iter      log prob        ||dx||      ||grad||       alpha      alpha0  # evals  Notes \n",
      "     372       3086.79   6.82865e-05       77.9832   8.006e-07       0.001      638  LS failed, Hessian reset \n",
      "     399        3086.8   1.65473e-06       44.1615      0.5161      0.5161      673   \n",
      "    Iter      log prob        ||dx||      ||grad||       alpha      alpha0  # evals  Notes \n",
      "     497       3086.83   8.89274e-06       48.1604   1.503e-07       0.001      840  LS failed, Hessian reset \n",
      "     499       3086.83   1.11481e-06       38.5824      0.6315      0.6315      842   \n",
      "    Iter      log prob        ||dx||      ||grad||       alpha      alpha0  # evals  Notes \n",
      "     509       3086.83   2.59473e-07       45.9678      0.2397      0.6918      857   \n",
      "Optimization terminated normally: \n",
      "  Convergence detected: relative gradient magnitude is below tolerance\n"
     ]
    },
    {
     "name": "stderr",
     "output_type": "stream",
     "text": [
      "/Users/rco/opt/anaconda3/envs/tps/lib/python3.9/site-packages/prophet/forecaster.py:896: FutureWarning: The frame.append method is deprecated and will be removed from pandas in a future version. Use pandas.concat instead.\n",
      "  components = components.append(new_comp)\n",
      "/Users/rco/opt/anaconda3/envs/tps/lib/python3.9/site-packages/prophet/forecaster.py:896: FutureWarning: The frame.append method is deprecated and will be removed from pandas in a future version. Use pandas.concat instead.\n",
      "  components = components.append(new_comp)\n",
      "/Users/rco/opt/anaconda3/envs/tps/lib/python3.9/site-packages/prophet/forecaster.py:896: FutureWarning: The frame.append method is deprecated and will be removed from pandas in a future version. Use pandas.concat instead.\n",
      "  components = components.append(new_comp)\n",
      "/Users/rco/opt/anaconda3/envs/tps/lib/python3.9/site-packages/prophet/forecaster.py:896: FutureWarning: The frame.append method is deprecated and will be removed from pandas in a future version. Use pandas.concat instead.\n",
      "  components = components.append(new_comp)\n"
     ]
    },
    {
     "name": "stdout",
     "output_type": "stream",
     "text": [
      "\n",
      "--------------------------------------------------------------------------\n",
      "Train Score Sweden KaggleRama Kaggle Sticker SMAPE: 6.296703\n",
      "Val Score Sweden KaggleRama Kaggle Sticker SMAPE: 11.693071\n",
      "--------------------------------------------------------------------------\n",
      "\n",
      "\n",
      "--------------------------------------------------------------------------\n",
      "Train Score SMAPE: 6.307742\n",
      "Val Score SMAPE: 8.998502\n",
      "--------------------------------------------------------------------------\n",
      "\n"
     ]
    }
   ],
   "source": [
    "for country in train.country.unique():\n",
    "    for store in train.store.unique():\n",
    "        for product in train['product'].unique():    \n",
    "            print(country, store, product)\n",
    "            \n",
    "            # Subsets for current country, stores and product\n",
    "            train_idx = train[(train.country==country) & \n",
    "                              (train.store==store) &\n",
    "                              (train['product']==product)].index\n",
    "            \n",
    "            train_sub = train.loc[train_idx].copy()\n",
    "            \n",
    "            val_idx = val[(val.country==country) & \n",
    "                          (val.store==store) &\n",
    "                          (val['product']==product)].index\n",
    "            \n",
    "            val_sub = val.loc[val_idx].copy()\n",
    "            \n",
    "            # Define the model and fit it on the train subset of data\n",
    "            model = Prophet(holidays=holidays)\n",
    "            model.fit(train_sub)\n",
    "            \n",
    "            # Predict for train e validation datasets\n",
    "            train_preds = model.predict(train_sub)\n",
    "            val_preds = model.predict(val_sub)\n",
    "            \n",
    "            # Calculate scores base on comp metric SMAPE\n",
    "            train_score = SMAPE(train_sub.y.values, train_preds.yhat.values)\n",
    "            val_score = SMAPE(val_sub.y.values, val_preds.yhat.values)\n",
    "            \n",
    "            print()\n",
    "            print('--------------------------------------------------------------------------')\n",
    "            print('Train Score', country, store, product, 'SMAPE: {:f}'.format(train_score))\n",
    "            print('Val Score', country, store, product, 'SMAPE: {:f}'.format(val_score))\n",
    "            print('--------------------------------------------------------------------------')\n",
    "            print()            \n",
    "            \n",
    "            # Add predictions to train and validation datasets\n",
    "            train.loc[train_idx, 'yhat'] = train_preds.yhat.values\n",
    "            val.loc[val_idx, 'yhat'] = val_preds.yhat.values\n",
    "\n",
    "print()\n",
    "print('--------------------------------------------------------------------------')\n",
    "print('Train Score', 'SMAPE: {:f}'.format(SMAPE(train.y.values, train.yhat.values)))\n",
    "print('Val Score', 'SMAPE: {:f}'.format(SMAPE(val.y.values, val.yhat.values)))\n",
    "print('--------------------------------------------------------------------------')\n",
    "print()"
   ]
  },
  {
   "cell_type": "markdown",
   "metadata": {},
   "source": [
    "## Tuned Parameters\n",
    "https://www.kaggle.com/gunesevitan/tabular-playground-series-jan-2022-prophet"
   ]
  },
  {
   "cell_type": "code",
   "execution_count": 32,
   "metadata": {
    "execution": {
     "iopub.execute_input": "2022-01-23T23:22:51.334886Z",
     "iopub.status.busy": "2022-01-23T23:22:51.334352Z",
     "iopub.status.idle": "2022-01-23T23:23:27.200271Z",
     "shell.execute_reply": "2022-01-23T23:23:27.198817Z",
     "shell.execute_reply.started": "2022-01-23T23:22:51.334838Z"
    }
   },
   "outputs": [
    {
     "name": "stdout",
     "output_type": "stream",
     "text": [
      "Finland KaggleMart Kaggle Mug\n"
     ]
    },
    {
     "name": "stderr",
     "output_type": "stream",
     "text": [
      "/Users/rco/opt/anaconda3/envs/tps/lib/python3.9/site-packages/prophet/forecaster.py:896: FutureWarning: The frame.append method is deprecated and will be removed from pandas in a future version. Use pandas.concat instead.\n",
      "  components = components.append(new_comp)\n"
     ]
    },
    {
     "name": "stdout",
     "output_type": "stream",
     "text": [
      "Initial log joint probability = -84.0379\n",
      "    Iter      log prob        ||dx||      ||grad||       alpha      alpha0  # evals  Notes \n",
      "      42       3072.49    0.00140663       587.684   3.469e-06       0.001       89  LS failed, Hessian reset \n",
      "      88       3079.31   0.000378073       421.052   1.116e-06       0.001      190  LS failed, Hessian reset \n",
      "      99       3079.59    0.00118256       313.344     0.06998           1      206   \n",
      "    Iter      log prob        ||dx||      ||grad||       alpha      alpha0  # evals  Notes \n",
      "     185       3080.07   1.76642e-06       227.933   7.351e-09       0.001      387  LS failed, Hessian reset \n",
      "     199       3080.07   5.05411e-08       275.025      0.3864      0.3864      408   \n",
      "    Iter      log prob        ||dx||      ||grad||       alpha      alpha0  # evals  Notes \n",
      "     200       3080.07   2.14045e-08       328.421      0.2013           1      410   \n",
      "Optimization terminated normally: \n",
      "  Convergence detected: relative gradient magnitude is below tolerance\n",
      "\n",
      "--------------------------------------------------------------------------\n",
      "Train Score Finland KaggleMart Kaggle Mug SMAPE: 6.481250\n",
      "Val Score Finland KaggleMart Kaggle Mug SMAPE: 6.465522\n",
      "--------------------------------------------------------------------------\n",
      "\n",
      "Finland KaggleMart Kaggle Hat\n"
     ]
    },
    {
     "name": "stderr",
     "output_type": "stream",
     "text": [
      "/Users/rco/opt/anaconda3/envs/tps/lib/python3.9/site-packages/prophet/forecaster.py:896: FutureWarning: The frame.append method is deprecated and will be removed from pandas in a future version. Use pandas.concat instead.\n",
      "  components = components.append(new_comp)\n",
      "/Users/rco/opt/anaconda3/envs/tps/lib/python3.9/site-packages/prophet/forecaster.py:896: FutureWarning: The frame.append method is deprecated and will be removed from pandas in a future version. Use pandas.concat instead.\n",
      "  components = components.append(new_comp)\n",
      "/Users/rco/opt/anaconda3/envs/tps/lib/python3.9/site-packages/prophet/forecaster.py:896: FutureWarning: The frame.append method is deprecated and will be removed from pandas in a future version. Use pandas.concat instead.\n",
      "  components = components.append(new_comp)\n"
     ]
    },
    {
     "name": "stdout",
     "output_type": "stream",
     "text": [
      "Initial log joint probability = -71.1528\n",
      "    Iter      log prob        ||dx||      ||grad||       alpha      alpha0  # evals  Notes \n",
      "      99       3067.86   3.58601e-06       245.867     0.05575           1      138   \n",
      "    Iter      log prob        ||dx||      ||grad||       alpha      alpha0  # evals  Notes \n",
      "     115       3067.86   1.01215e-06       280.101   3.887e-09       0.001      207  LS failed, Hessian reset \n",
      "     127       3067.86    4.8214e-08       222.676           1           1      229   \n",
      "Optimization terminated normally: \n",
      "  Convergence detected: relative gradient magnitude is below tolerance\n",
      "\n",
      "--------------------------------------------------------------------------\n",
      "Train Score Finland KaggleMart Kaggle Hat SMAPE: 6.479112\n",
      "Val Score Finland KaggleMart Kaggle Hat SMAPE: 6.498625\n",
      "--------------------------------------------------------------------------\n",
      "\n",
      "Finland KaggleMart Kaggle Sticker\n"
     ]
    },
    {
     "name": "stderr",
     "output_type": "stream",
     "text": [
      "/Users/rco/opt/anaconda3/envs/tps/lib/python3.9/site-packages/prophet/forecaster.py:896: FutureWarning: The frame.append method is deprecated and will be removed from pandas in a future version. Use pandas.concat instead.\n",
      "  components = components.append(new_comp)\n",
      "/Users/rco/opt/anaconda3/envs/tps/lib/python3.9/site-packages/prophet/forecaster.py:896: FutureWarning: The frame.append method is deprecated and will be removed from pandas in a future version. Use pandas.concat instead.\n",
      "  components = components.append(new_comp)\n",
      "/Users/rco/opt/anaconda3/envs/tps/lib/python3.9/site-packages/prophet/forecaster.py:896: FutureWarning: The frame.append method is deprecated and will be removed from pandas in a future version. Use pandas.concat instead.\n",
      "  components = components.append(new_comp)\n"
     ]
    },
    {
     "name": "stdout",
     "output_type": "stream",
     "text": [
      "Initial log joint probability = -95.8314\n",
      "    Iter      log prob        ||dx||      ||grad||       alpha      alpha0  # evals  Notes \n",
      "      92       2951.39    0.00045253       282.564   7.118e-07       0.001      152  LS failed, Hessian reset \n",
      "      99       2951.48   7.91734e-05       233.579           1           1      162   \n",
      "    Iter      log prob        ||dx||      ||grad||       alpha      alpha0  # evals  Notes \n",
      "     199       2951.76   0.000124555       282.605      0.5407     0.05407      309   \n",
      "    Iter      log prob        ||dx||      ||grad||       alpha      alpha0  # evals  Notes \n",
      "     240       2951.77   3.14965e-08       314.132      0.2121           1      370   \n",
      "Optimization terminated normally: \n",
      "  Convergence detected: relative gradient magnitude is below tolerance\n",
      "\n",
      "--------------------------------------------------------------------------\n",
      "Train Score Finland KaggleMart Kaggle Sticker SMAPE: 6.205119\n",
      "Val Score Finland KaggleMart Kaggle Sticker SMAPE: 6.341177\n",
      "--------------------------------------------------------------------------\n",
      "\n",
      "Finland KaggleRama Kaggle Mug\n"
     ]
    },
    {
     "name": "stderr",
     "output_type": "stream",
     "text": [
      "/Users/rco/opt/anaconda3/envs/tps/lib/python3.9/site-packages/prophet/forecaster.py:896: FutureWarning: The frame.append method is deprecated and will be removed from pandas in a future version. Use pandas.concat instead.\n",
      "  components = components.append(new_comp)\n",
      "/Users/rco/opt/anaconda3/envs/tps/lib/python3.9/site-packages/prophet/forecaster.py:896: FutureWarning: The frame.append method is deprecated and will be removed from pandas in a future version. Use pandas.concat instead.\n",
      "  components = components.append(new_comp)\n",
      "/Users/rco/opt/anaconda3/envs/tps/lib/python3.9/site-packages/prophet/forecaster.py:896: FutureWarning: The frame.append method is deprecated and will be removed from pandas in a future version. Use pandas.concat instead.\n",
      "  components = components.append(new_comp)\n"
     ]
    },
    {
     "name": "stdout",
     "output_type": "stream",
     "text": [
      "Initial log joint probability = -76.9178\n",
      "    Iter      log prob        ||dx||      ||grad||       alpha      alpha0  # evals  Notes \n",
      "      97        3070.8   6.92802e-05       250.834    2.51e-07       0.001      172  LS failed, Hessian reset \n",
      "      99        3070.8   4.15725e-05       280.773      0.4604           1      175   \n",
      "    Iter      log prob        ||dx||      ||grad||       alpha      alpha0  # evals  Notes \n",
      "     129       3070.81   1.47038e-06       235.426   5.553e-09       0.001      277  LS failed, Hessian reset \n",
      "     136       3070.81   7.90324e-10       246.117    0.001133      0.3259      291   \n",
      "Optimization terminated normally: \n",
      "  Convergence detected: absolute parameter change was below tolerance\n",
      "\n",
      "--------------------------------------------------------------------------\n",
      "Train Score Finland KaggleRama Kaggle Mug SMAPE: 6.334882\n",
      "Val Score Finland KaggleRama Kaggle Mug SMAPE: 6.352965\n",
      "--------------------------------------------------------------------------\n",
      "\n",
      "Finland KaggleRama Kaggle Hat\n"
     ]
    },
    {
     "name": "stderr",
     "output_type": "stream",
     "text": [
      "/Users/rco/opt/anaconda3/envs/tps/lib/python3.9/site-packages/prophet/forecaster.py:896: FutureWarning: The frame.append method is deprecated and will be removed from pandas in a future version. Use pandas.concat instead.\n",
      "  components = components.append(new_comp)\n",
      "/Users/rco/opt/anaconda3/envs/tps/lib/python3.9/site-packages/prophet/forecaster.py:896: FutureWarning: The frame.append method is deprecated and will be removed from pandas in a future version. Use pandas.concat instead.\n",
      "  components = components.append(new_comp)\n",
      "/Users/rco/opt/anaconda3/envs/tps/lib/python3.9/site-packages/prophet/forecaster.py:896: FutureWarning: The frame.append method is deprecated and will be removed from pandas in a future version. Use pandas.concat instead.\n",
      "  components = components.append(new_comp)\n"
     ]
    },
    {
     "name": "stdout",
     "output_type": "stream",
     "text": [
      "Initial log joint probability = -73.2437\n",
      "    Iter      log prob        ||dx||      ||grad||       alpha      alpha0  # evals  Notes \n",
      "      99       3014.31    2.1647e-07       253.423      0.1095      0.1095      131   \n",
      "    Iter      log prob        ||dx||      ||grad||       alpha      alpha0  # evals  Notes \n",
      "     120       3014.31   4.28466e-08       261.157           1           1      164   \n",
      "Optimization terminated normally: \n",
      "  Convergence detected: relative gradient magnitude is below tolerance\n",
      "\n",
      "--------------------------------------------------------------------------\n",
      "Train Score Finland KaggleRama Kaggle Hat SMAPE: 6.311604\n",
      "Val Score Finland KaggleRama Kaggle Hat SMAPE: 6.781024\n",
      "--------------------------------------------------------------------------\n",
      "\n",
      "Finland KaggleRama Kaggle Sticker\n"
     ]
    },
    {
     "name": "stderr",
     "output_type": "stream",
     "text": [
      "/Users/rco/opt/anaconda3/envs/tps/lib/python3.9/site-packages/prophet/forecaster.py:896: FutureWarning: The frame.append method is deprecated and will be removed from pandas in a future version. Use pandas.concat instead.\n",
      "  components = components.append(new_comp)\n",
      "/Users/rco/opt/anaconda3/envs/tps/lib/python3.9/site-packages/prophet/forecaster.py:896: FutureWarning: The frame.append method is deprecated and will be removed from pandas in a future version. Use pandas.concat instead.\n",
      "  components = components.append(new_comp)\n",
      "/Users/rco/opt/anaconda3/envs/tps/lib/python3.9/site-packages/prophet/forecaster.py:896: FutureWarning: The frame.append method is deprecated and will be removed from pandas in a future version. Use pandas.concat instead.\n",
      "  components = components.append(new_comp)\n"
     ]
    },
    {
     "name": "stdout",
     "output_type": "stream",
     "text": [
      "Initial log joint probability = -77.9697\n",
      "    Iter      log prob        ||dx||      ||grad||       alpha      alpha0  # evals  Notes \n",
      "      38          2987   0.000490913       428.492   1.541e-06       0.001       85  LS failed, Hessian reset \n",
      "      99       2990.88    0.00032941       250.188      0.4448      0.4448      179   \n",
      "    Iter      log prob        ||dx||      ||grad||       alpha      alpha0  # evals  Notes \n",
      "     134       2990.98   8.81439e-09        258.51      0.0659           1      237   \n",
      "Optimization terminated normally: \n",
      "  Convergence detected: absolute parameter change was below tolerance\n",
      "\n",
      "--------------------------------------------------------------------------\n",
      "Train Score Finland KaggleRama Kaggle Sticker SMAPE: 6.381218\n",
      "Val Score Finland KaggleRama Kaggle Sticker SMAPE: 6.474568\n",
      "--------------------------------------------------------------------------\n",
      "\n",
      "Norway"
     ]
    },
    {
     "name": "stderr",
     "output_type": "stream",
     "text": [
      "/Users/rco/opt/anaconda3/envs/tps/lib/python3.9/site-packages/prophet/forecaster.py:896: FutureWarning: The frame.append method is deprecated and will be removed from pandas in a future version. Use pandas.concat instead.\n",
      "  components = components.append(new_comp)\n",
      "/Users/rco/opt/anaconda3/envs/tps/lib/python3.9/site-packages/prophet/forecaster.py:896: FutureWarning: The frame.append method is deprecated and will be removed from pandas in a future version. Use pandas.concat instead.\n",
      "  components = components.append(new_comp)\n"
     ]
    },
    {
     "name": "stdout",
     "output_type": "stream",
     "text": [
      " KaggleMart Kaggle Mug\n"
     ]
    },
    {
     "name": "stderr",
     "output_type": "stream",
     "text": [
      "/Users/rco/opt/anaconda3/envs/tps/lib/python3.9/site-packages/prophet/forecaster.py:896: FutureWarning: The frame.append method is deprecated and will be removed from pandas in a future version. Use pandas.concat instead.\n",
      "  components = components.append(new_comp)\n"
     ]
    },
    {
     "name": "stdout",
     "output_type": "stream",
     "text": [
      "Initial log joint probability = -74.8958\n",
      "    Iter      log prob        ||dx||      ||grad||       alpha      alpha0  # evals  Notes \n",
      "      99       3013.23   4.94455e-05       269.536           1           1      140   \n",
      "    Iter      log prob        ||dx||      ||grad||       alpha      alpha0  # evals  Notes \n",
      "     120       3014.23   0.000113098       306.957   3.586e-07       0.001      200  LS failed, Hessian reset \n",
      "     179       3014.32   1.55929e-08       310.875      0.1327      0.3672      284   \n",
      "Optimization terminated normally: \n",
      "  Convergence detected: relative gradient magnitude is below tolerance\n",
      "\n",
      "--------------------------------------------------------------------------\n",
      "Train Score Norway KaggleMart Kaggle Mug SMAPE: 6.431830\n",
      "Val Score Norway KaggleMart Kaggle Mug SMAPE: 6.375486\n",
      "--------------------------------------------------------------------------\n",
      "\n",
      "Norway KaggleMart Kaggle Hat\n"
     ]
    },
    {
     "name": "stderr",
     "output_type": "stream",
     "text": [
      "/Users/rco/opt/anaconda3/envs/tps/lib/python3.9/site-packages/prophet/forecaster.py:896: FutureWarning: The frame.append method is deprecated and will be removed from pandas in a future version. Use pandas.concat instead.\n",
      "  components = components.append(new_comp)\n",
      "/Users/rco/opt/anaconda3/envs/tps/lib/python3.9/site-packages/prophet/forecaster.py:896: FutureWarning: The frame.append method is deprecated and will be removed from pandas in a future version. Use pandas.concat instead.\n",
      "  components = components.append(new_comp)\n",
      "/Users/rco/opt/anaconda3/envs/tps/lib/python3.9/site-packages/prophet/forecaster.py:896: FutureWarning: The frame.append method is deprecated and will be removed from pandas in a future version. Use pandas.concat instead.\n",
      "  components = components.append(new_comp)\n"
     ]
    },
    {
     "name": "stdout",
     "output_type": "stream",
     "text": [
      "Initial log joint probability = -87.255\n",
      "    Iter      log prob        ||dx||      ||grad||       alpha      alpha0  # evals  Notes \n",
      "      99        2990.1   0.000130122       240.475           1           1      125   \n",
      "    Iter      log prob        ||dx||      ||grad||       alpha      alpha0  # evals  Notes \n",
      "     118       2990.62   0.000618224       375.469   1.811e-06       0.001      210  LS failed, Hessian reset \n",
      "     128        2990.8    1.9542e-05       299.554   7.257e-08       0.001      258  LS failed, Hessian reset \n",
      "     161       2990.82   2.31415e-08       256.579      0.6438      0.6438      308   \n",
      "Optimization terminated normally: \n",
      "  Convergence detected: relative gradient magnitude is below tolerance\n"
     ]
    },
    {
     "name": "stderr",
     "output_type": "stream",
     "text": [
      "/Users/rco/opt/anaconda3/envs/tps/lib/python3.9/site-packages/prophet/forecaster.py:896: FutureWarning: The frame.append method is deprecated and will be removed from pandas in a future version. Use pandas.concat instead.\n",
      "  components = components.append(new_comp)\n",
      "/Users/rco/opt/anaconda3/envs/tps/lib/python3.9/site-packages/prophet/forecaster.py:896: FutureWarning: The frame.append method is deprecated and will be removed from pandas in a future version. Use pandas.concat instead.\n",
      "  components = components.append(new_comp)\n"
     ]
    },
    {
     "name": "stdout",
     "output_type": "stream",
     "text": [
      "\n",
      "--------------------------------------------------------------------------\n",
      "Train Score Norway KaggleMart Kaggle Hat SMAPE: 6.497476\n",
      "Val Score Norway KaggleMart Kaggle Hat SMAPE: 7.003430\n",
      "--------------------------------------------------------------------------\n",
      "\n",
      "Norway KaggleMart Kaggle Sticker\n"
     ]
    },
    {
     "name": "stderr",
     "output_type": "stream",
     "text": [
      "/Users/rco/opt/anaconda3/envs/tps/lib/python3.9/site-packages/prophet/forecaster.py:896: FutureWarning: The frame.append method is deprecated and will be removed from pandas in a future version. Use pandas.concat instead.\n",
      "  components = components.append(new_comp)\n"
     ]
    },
    {
     "name": "stdout",
     "output_type": "stream",
     "text": [
      "Initial log joint probability = -96.2714\n",
      "    Iter      log prob        ||dx||      ||grad||       alpha      alpha0  # evals  Notes \n",
      "      99       2923.37    0.00145058       374.347           1           1      143   \n",
      "    Iter      log prob        ||dx||      ||grad||       alpha      alpha0  # evals  Notes \n",
      "     162       2924.01   2.09619e-08       257.616      0.1771      0.5023      228   \n",
      "Optimization terminated normally: \n",
      "  Convergence detected: relative gradient magnitude is below tolerance\n",
      "\n",
      "--------------------------------------------------------------------------\n",
      "Train Score Norway KaggleMart Kaggle Sticker SMAPE: 6.130655\n",
      "Val Score Norway KaggleMart Kaggle Sticker SMAPE: 6.900166\n",
      "--------------------------------------------------------------------------\n",
      "\n",
      "Norway KaggleRama Kaggle Mug\n"
     ]
    },
    {
     "name": "stderr",
     "output_type": "stream",
     "text": [
      "/Users/rco/opt/anaconda3/envs/tps/lib/python3.9/site-packages/prophet/forecaster.py:896: FutureWarning: The frame.append method is deprecated and will be removed from pandas in a future version. Use pandas.concat instead.\n",
      "  components = components.append(new_comp)\n",
      "/Users/rco/opt/anaconda3/envs/tps/lib/python3.9/site-packages/prophet/forecaster.py:896: FutureWarning: The frame.append method is deprecated and will be removed from pandas in a future version. Use pandas.concat instead.\n",
      "  components = components.append(new_comp)\n",
      "/Users/rco/opt/anaconda3/envs/tps/lib/python3.9/site-packages/prophet/forecaster.py:896: FutureWarning: The frame.append method is deprecated and will be removed from pandas in a future version. Use pandas.concat instead.\n",
      "  components = components.append(new_comp)\n"
     ]
    },
    {
     "name": "stdout",
     "output_type": "stream",
     "text": [
      "Initial log joint probability = -103.301\n",
      "    Iter      log prob        ||dx||      ||grad||       alpha      alpha0  # evals  Notes \n",
      "      99       3000.43   4.26482e-05       261.656      0.5026      0.5026      148   \n",
      "    Iter      log prob        ||dx||      ||grad||       alpha      alpha0  # evals  Notes \n",
      "     101       3000.44   2.25634e-05       263.879   8.723e-08       0.001      185  LS failed, Hessian reset \n",
      "     114       3000.47   1.63383e-05       203.436   6.654e-08       0.001      238  LS failed, Hessian reset \n",
      "     198       3000.97   8.34625e-09       308.306     0.01392           1      361   \n",
      "Optimization terminated normally: \n",
      "  Convergence detected: absolute parameter change was below tolerance\n",
      "\n",
      "--------------------------------------------------------------------------\n",
      "Train Score Norway KaggleRama Kaggle Mug SMAPE: 6.277040\n",
      "Val Score Norway KaggleRama Kaggle Mug SMAPE: 6.395324\n",
      "--------------------------------------------------------------------------\n",
      "\n",
      "Norway KaggleRama Kaggle Hat\n"
     ]
    },
    {
     "name": "stderr",
     "output_type": "stream",
     "text": [
      "/Users/rco/opt/anaconda3/envs/tps/lib/python3.9/site-packages/prophet/forecaster.py:896: FutureWarning: The frame.append method is deprecated and will be removed from pandas in a future version. Use pandas.concat instead.\n",
      "  components = components.append(new_comp)\n",
      "/Users/rco/opt/anaconda3/envs/tps/lib/python3.9/site-packages/prophet/forecaster.py:896: FutureWarning: The frame.append method is deprecated and will be removed from pandas in a future version. Use pandas.concat instead.\n",
      "  components = components.append(new_comp)\n",
      "/Users/rco/opt/anaconda3/envs/tps/lib/python3.9/site-packages/prophet/forecaster.py:896: FutureWarning: The frame.append method is deprecated and will be removed from pandas in a future version. Use pandas.concat instead.\n",
      "  components = components.append(new_comp)\n"
     ]
    },
    {
     "name": "stdout",
     "output_type": "stream",
     "text": [
      "Initial log joint probability = -81.9126\n",
      "    Iter      log prob        ||dx||      ||grad||       alpha      alpha0  # evals  Notes \n",
      "      84       2960.05   0.000368059       356.499    1.13e-06       0.001      149  LS failed, Hessian reset \n",
      "      99       2961.09   0.000593947       274.986      0.2768           1      170   \n",
      "    Iter      log prob        ||dx||      ||grad||       alpha      alpha0  # evals  Notes \n",
      "     119       2961.19   1.17912e-05       288.474   4.202e-08       0.001      239  LS failed, Hessian reset \n",
      "     140        2961.2   3.73774e-08       300.668   1.293e-10       0.001      310  LS failed, Hessian reset \n",
      "Optimization terminated normally: \n",
      "  Convergence detected: relative gradient magnitude is below tolerance\n",
      "\n",
      "--------------------------------------------------------------------------\n",
      "Train Score Norway KaggleRama Kaggle Hat SMAPE: 6.474298\n",
      "Val Score Norway KaggleRama Kaggle Hat SMAPE: 6.653235\n",
      "--------------------------------------------------------------------------\n",
      "\n",
      "Norway KaggleRama Kaggle Sticker\n"
     ]
    },
    {
     "name": "stderr",
     "output_type": "stream",
     "text": [
      "/Users/rco/opt/anaconda3/envs/tps/lib/python3.9/site-packages/prophet/forecaster.py:896: FutureWarning: The frame.append method is deprecated and will be removed from pandas in a future version. Use pandas.concat instead.\n",
      "  components = components.append(new_comp)\n",
      "/Users/rco/opt/anaconda3/envs/tps/lib/python3.9/site-packages/prophet/forecaster.py:896: FutureWarning: The frame.append method is deprecated and will be removed from pandas in a future version. Use pandas.concat instead.\n",
      "  components = components.append(new_comp)\n",
      "/Users/rco/opt/anaconda3/envs/tps/lib/python3.9/site-packages/prophet/forecaster.py:896: FutureWarning: The frame.append method is deprecated and will be removed from pandas in a future version. Use pandas.concat instead.\n",
      "  components = components.append(new_comp)\n"
     ]
    },
    {
     "name": "stdout",
     "output_type": "stream",
     "text": [
      "Initial log joint probability = -67.9817\n",
      "    Iter      log prob        ||dx||      ||grad||       alpha      alpha0  # evals  Notes \n",
      "      84       3036.99   0.000317241       320.491   6.539e-07       0.001      158  LS failed, Hessian reset \n",
      "      99        3037.4   0.000161717       373.074      0.1697           1      180   \n",
      "    Iter      log prob        ||dx||      ||grad||       alpha      alpha0  # evals  Notes \n",
      "     112       3038.27   0.000617717       455.475   1.912e-06       0.001      244  LS failed, Hessian reset \n",
      "     145       3038.52   1.59451e-05       317.109   5.593e-08       0.001      340  LS failed, Hessian reset \n",
      "     167       3038.53   2.35707e-08       231.649      0.5798      0.5798      374   \n",
      "Optimization terminated normally: \n",
      "  Convergence detected: relative gradient magnitude is below tolerance\n",
      "\n",
      "--------------------------------------------------------------------------\n",
      "Train Score Norway KaggleRama Kaggle Sticker SMAPE: 6.079284\n",
      "Val Score Norway KaggleRama Kaggle Sticker SMAPE: 6.744734\n",
      "--------------------------------------------------------------------------\n",
      "\n",
      "Sweden KaggleMart Kaggle Mug\n"
     ]
    },
    {
     "name": "stderr",
     "output_type": "stream",
     "text": [
      "/Users/rco/opt/anaconda3/envs/tps/lib/python3.9/site-packages/prophet/forecaster.py:896: FutureWarning: The frame.append method is deprecated and will be removed from pandas in a future version. Use pandas.concat instead.\n",
      "  components = components.append(new_comp)\n",
      "/Users/rco/opt/anaconda3/envs/tps/lib/python3.9/site-packages/prophet/forecaster.py:896: FutureWarning: The frame.append method is deprecated and will be removed from pandas in a future version. Use pandas.concat instead.\n",
      "  components = components.append(new_comp)\n",
      "/Users/rco/opt/anaconda3/envs/tps/lib/python3.9/site-packages/prophet/forecaster.py:896: FutureWarning: The frame.append method is deprecated and will be removed from pandas in a future version. Use pandas.concat instead.\n",
      "  components = components.append(new_comp)\n"
     ]
    },
    {
     "name": "stdout",
     "output_type": "stream",
     "text": [
      "Initial log joint probability = -121.684\n",
      "    Iter      log prob        ||dx||      ||grad||       alpha      alpha0  # evals  Notes \n",
      "      65       2956.24    0.00132232       711.757   3.063e-06       0.001      124  LS failed, Hessian reset \n",
      "      99       2957.39   7.36606e-06       231.055      0.5192      0.1855      169   \n",
      "    Iter      log prob        ||dx||      ||grad||       alpha      alpha0  # evals  Notes \n",
      "     116       2957.39   3.27648e-09       234.954     0.06356           1      199   \n",
      "Optimization terminated normally: \n",
      "  Convergence detected: absolute parameter change was below tolerance\n",
      "\n",
      "--------------------------------------------------------------------------\n",
      "Train Score Sweden KaggleMart Kaggle Mug SMAPE: 6.435180\n",
      "Val Score Sweden KaggleMart Kaggle Mug SMAPE: 7.541054\n",
      "--------------------------------------------------------------------------\n",
      "\n",
      "Sweden KaggleMart Kaggle Hat\n"
     ]
    },
    {
     "name": "stderr",
     "output_type": "stream",
     "text": [
      "/Users/rco/opt/anaconda3/envs/tps/lib/python3.9/site-packages/prophet/forecaster.py:896: FutureWarning: The frame.append method is deprecated and will be removed from pandas in a future version. Use pandas.concat instead.\n",
      "  components = components.append(new_comp)\n",
      "/Users/rco/opt/anaconda3/envs/tps/lib/python3.9/site-packages/prophet/forecaster.py:896: FutureWarning: The frame.append method is deprecated and will be removed from pandas in a future version. Use pandas.concat instead.\n",
      "  components = components.append(new_comp)\n",
      "/Users/rco/opt/anaconda3/envs/tps/lib/python3.9/site-packages/prophet/forecaster.py:896: FutureWarning: The frame.append method is deprecated and will be removed from pandas in a future version. Use pandas.concat instead.\n",
      "  components = components.append(new_comp)\n"
     ]
    },
    {
     "name": "stdout",
     "output_type": "stream",
     "text": [
      "Initial log joint probability = -77.54\n",
      "    Iter      log prob        ||dx||      ||grad||       alpha      alpha0  # evals  Notes \n",
      "      75       2959.01   0.000372627       395.947   1.047e-06       0.001      142  LS failed, Hessian reset \n",
      "      95        2959.1   2.73108e-07       215.138   1.059e-09       0.001      211  LS failed, Hessian reset \n",
      "      99        2959.1   5.58082e-08       228.295     0.05515           1      218   \n",
      "    Iter      log prob        ||dx||      ||grad||       alpha      alpha0  # evals  Notes \n",
      "     104        2959.1   3.58339e-07       236.202   1.319e-09       0.001      262  LS failed, Hessian reset \n",
      "     108        2959.1   3.45431e-08       192.006       0.634       0.634      268   \n",
      "Optimization terminated normally: \n",
      "  Convergence detected: relative gradient magnitude is below tolerance\n"
     ]
    },
    {
     "name": "stderr",
     "output_type": "stream",
     "text": [
      "/Users/rco/opt/anaconda3/envs/tps/lib/python3.9/site-packages/prophet/forecaster.py:896: FutureWarning: The frame.append method is deprecated and will be removed from pandas in a future version. Use pandas.concat instead.\n",
      "  components = components.append(new_comp)\n",
      "/Users/rco/opt/anaconda3/envs/tps/lib/python3.9/site-packages/prophet/forecaster.py:896: FutureWarning: The frame.append method is deprecated and will be removed from pandas in a future version. Use pandas.concat instead.\n",
      "  components = components.append(new_comp)\n",
      "/Users/rco/opt/anaconda3/envs/tps/lib/python3.9/site-packages/prophet/forecaster.py:896: FutureWarning: The frame.append method is deprecated and will be removed from pandas in a future version. Use pandas.concat instead.\n",
      "  components = components.append(new_comp)\n"
     ]
    },
    {
     "name": "stdout",
     "output_type": "stream",
     "text": [
      "\n",
      "--------------------------------------------------------------------------\n",
      "Train Score Sweden KaggleMart Kaggle Hat SMAPE: 6.739847\n",
      "Val Score Sweden KaggleMart Kaggle Hat SMAPE: 6.918154\n",
      "--------------------------------------------------------------------------\n",
      "\n",
      "Sweden KaggleMart Kaggle Sticker\n",
      "Initial log joint probability = -65.272\n",
      "    Iter      log prob        ||dx||      ||grad||       alpha      alpha0  # evals  Notes \n",
      "      86       3022.75   0.000999105       324.152   2.759e-06       0.001      166  LS failed, Hessian reset \n",
      "      93       3022.84   1.67312e-05       268.109     7.6e-08       0.001      214  LS failed, Hessian reset \n",
      "      99       3022.84    9.5062e-06       234.808       2.378      0.2378      224   \n",
      "    Iter      log prob        ||dx||      ||grad||       alpha      alpha0  # evals  Notes \n",
      "     174       3023.38   5.74107e-09       268.892     0.05905           1      341   \n",
      "Optimization terminated normally: \n",
      "  Convergence detected: absolute parameter change was below tolerance\n",
      "\n",
      "--------------------------------------------------------------------------\n",
      "Train Score Sweden KaggleMart Kaggle Sticker SMAPE: 6.593876\n",
      "Val Score Sweden KaggleMart Kaggle Sticker SMAPE: 6.851631\n",
      "--------------------------------------------------------------------------\n",
      "\n",
      "Sweden KaggleRama Kaggle Mug\n"
     ]
    },
    {
     "name": "stderr",
     "output_type": "stream",
     "text": [
      "/Users/rco/opt/anaconda3/envs/tps/lib/python3.9/site-packages/prophet/forecaster.py:896: FutureWarning: The frame.append method is deprecated and will be removed from pandas in a future version. Use pandas.concat instead.\n",
      "  components = components.append(new_comp)\n",
      "/Users/rco/opt/anaconda3/envs/tps/lib/python3.9/site-packages/prophet/forecaster.py:896: FutureWarning: The frame.append method is deprecated and will be removed from pandas in a future version. Use pandas.concat instead.\n",
      "  components = components.append(new_comp)\n",
      "/Users/rco/opt/anaconda3/envs/tps/lib/python3.9/site-packages/prophet/forecaster.py:896: FutureWarning: The frame.append method is deprecated and will be removed from pandas in a future version. Use pandas.concat instead.\n",
      "  components = components.append(new_comp)\n"
     ]
    },
    {
     "name": "stdout",
     "output_type": "stream",
     "text": [
      "Initial log joint probability = -93.1938\n",
      "    Iter      log prob        ||dx||      ||grad||       alpha      alpha0  # evals  Notes \n",
      "      77       3100.84    0.00158394       640.834   5.837e-06       0.001      150  LS failed, Hessian reset \n",
      "      99        3102.1   0.000328977       254.619      0.8329      0.8329      183   \n",
      "    Iter      log prob        ||dx||      ||grad||       alpha      alpha0  # evals  Notes \n",
      "     129       3102.52   3.65724e-06       229.712   1.305e-08       0.001      261  LS failed, Hessian reset \n",
      "     140       3102.52   1.10882e-08        231.83     0.01187           1      286   \n",
      "Optimization terminated normally: \n",
      "  Convergence detected: relative gradient magnitude is below tolerance\n",
      "\n",
      "--------------------------------------------------------------------------\n",
      "Train Score Sweden KaggleRama Kaggle Mug SMAPE: 6.343647\n",
      "Val Score Sweden KaggleRama Kaggle Mug SMAPE: 6.920610\n",
      "--------------------------------------------------------------------------\n",
      "\n",
      "Sweden KaggleRama Kaggle Hat\n"
     ]
    },
    {
     "name": "stderr",
     "output_type": "stream",
     "text": [
      "/Users/rco/opt/anaconda3/envs/tps/lib/python3.9/site-packages/prophet/forecaster.py:896: FutureWarning: The frame.append method is deprecated and will be removed from pandas in a future version. Use pandas.concat instead.\n",
      "  components = components.append(new_comp)\n",
      "/Users/rco/opt/anaconda3/envs/tps/lib/python3.9/site-packages/prophet/forecaster.py:896: FutureWarning: The frame.append method is deprecated and will be removed from pandas in a future version. Use pandas.concat instead.\n",
      "  components = components.append(new_comp)\n",
      "/Users/rco/opt/anaconda3/envs/tps/lib/python3.9/site-packages/prophet/forecaster.py:896: FutureWarning: The frame.append method is deprecated and will be removed from pandas in a future version. Use pandas.concat instead.\n",
      "  components = components.append(new_comp)\n"
     ]
    },
    {
     "name": "stdout",
     "output_type": "stream",
     "text": [
      "Initial log joint probability = -95.8503\n",
      "    Iter      log prob        ||dx||      ||grad||       alpha      alpha0  # evals  Notes \n",
      "      94       2970.27   1.44283e-08       255.748      0.3359      0.8175      141   \n",
      "Optimization terminated normally: \n",
      "  Convergence detected: relative gradient magnitude is below tolerance\n",
      "\n",
      "--------------------------------------------------------------------------\n",
      "Train Score Sweden KaggleRama Kaggle Hat SMAPE: 6.540560\n",
      "Val Score Sweden KaggleRama Kaggle Hat SMAPE: 6.796873\n",
      "--------------------------------------------------------------------------\n",
      "\n",
      "Sweden KaggleRama Kaggle Sticker\n"
     ]
    },
    {
     "name": "stderr",
     "output_type": "stream",
     "text": [
      "/Users/rco/opt/anaconda3/envs/tps/lib/python3.9/site-packages/prophet/forecaster.py:896: FutureWarning: The frame.append method is deprecated and will be removed from pandas in a future version. Use pandas.concat instead.\n",
      "  components = components.append(new_comp)\n",
      "/Users/rco/opt/anaconda3/envs/tps/lib/python3.9/site-packages/prophet/forecaster.py:896: FutureWarning: The frame.append method is deprecated and will be removed from pandas in a future version. Use pandas.concat instead.\n",
      "  components = components.append(new_comp)\n",
      "/Users/rco/opt/anaconda3/envs/tps/lib/python3.9/site-packages/prophet/forecaster.py:896: FutureWarning: The frame.append method is deprecated and will be removed from pandas in a future version. Use pandas.concat instead.\n",
      "  components = components.append(new_comp)\n"
     ]
    },
    {
     "name": "stdout",
     "output_type": "stream",
     "text": [
      "Initial log joint probability = -74.6211\n",
      "    Iter      log prob        ||dx||      ||grad||       alpha      alpha0  # evals  Notes \n",
      "      44       3073.67   0.000565821       608.708   1.291e-06       0.001       97  LS failed, Hessian reset \n",
      "      99       3079.32   1.26159e-05       335.948           1           1      175   \n",
      "    Iter      log prob        ||dx||      ||grad||       alpha      alpha0  # evals  Notes \n",
      "     143       3079.33   1.27582e-07       287.411     0.03878           1      244   \n",
      "Optimization terminated normally: \n",
      "  Convergence detected: relative gradient magnitude is below tolerance\n",
      "\n",
      "--------------------------------------------------------------------------\n",
      "Train Score Sweden KaggleRama Kaggle Sticker SMAPE: 6.324472\n",
      "Val Score Sweden KaggleRama Kaggle Sticker SMAPE: 7.182132\n",
      "--------------------------------------------------------------------------\n",
      "\n",
      "\n",
      "--------------------------------------------------------------------------\n",
      "Train Score SMAPE: 6.392297\n",
      "Val Score SMAPE: 6.733150\n",
      "--------------------------------------------------------------------------\n",
      "\n"
     ]
    },
    {
     "name": "stderr",
     "output_type": "stream",
     "text": [
      "/Users/rco/opt/anaconda3/envs/tps/lib/python3.9/site-packages/prophet/forecaster.py:896: FutureWarning: The frame.append method is deprecated and will be removed from pandas in a future version. Use pandas.concat instead.\n",
      "  components = components.append(new_comp)\n",
      "/Users/rco/opt/anaconda3/envs/tps/lib/python3.9/site-packages/prophet/forecaster.py:896: FutureWarning: The frame.append method is deprecated and will be removed from pandas in a future version. Use pandas.concat instead.\n",
      "  components = components.append(new_comp)\n"
     ]
    }
   ],
   "source": [
    "for country in train.country.unique():\n",
    "    for store in train.store.unique():\n",
    "        for product in train['product'].unique():    \n",
    "            print(country, store, product)\n",
    "            \n",
    "            # Subsets for current country, stores and product\n",
    "            train_idx = train[(train.country==country) & \n",
    "                              (train.store==store) &\n",
    "                              (train['product']==product)].index\n",
    "            \n",
    "            train_sub = train.loc[train_idx].copy()\n",
    "            \n",
    "            val_idx = val[(val.country==country) & \n",
    "                          (val.store==store) &\n",
    "                          (val['product']==product)].index\n",
    "            \n",
    "            val_sub = val.loc[val_idx].copy()\n",
    "            \n",
    "            # Define the model and fit it on the train subset of data\n",
    "            model = Prophet(\n",
    "                growth='linear',\n",
    "                holidays=holidays,\n",
    "                n_changepoints=10,\n",
    "                changepoint_range=0.4,\n",
    "                yearly_seasonality=True,\n",
    "                weekly_seasonality=True,\n",
    "                daily_seasonality=False,\n",
    "                seasonality_mode='additive',\n",
    "                seasonality_prior_scale=25,\n",
    "                holidays_prior_scale=100,\n",
    "                changepoint_prior_scale=0.01,\n",
    "                interval_width=0.5,\n",
    "                uncertainty_samples=False\n",
    "            )\n",
    "            model.fit(train_sub)\n",
    "            \n",
    "            # Predict for train e validation datasets\n",
    "            train_preds = model.predict(train_sub)\n",
    "            val_preds = model.predict(val_sub)\n",
    "            \n",
    "            # Calculate scores base on comp metric SMAPE\n",
    "            train_score = SMAPE(train_sub.y.values, train_preds.yhat.values)\n",
    "            val_score = SMAPE(val_sub.y.values, val_preds.yhat.values)\n",
    "            \n",
    "            print()\n",
    "            print('--------------------------------------------------------------------------')\n",
    "            print('Train Score', country, store, product, 'SMAPE: {:f}'.format(train_score))\n",
    "            print('Val Score', country, store, product, 'SMAPE: {:f}'.format(val_score))\n",
    "            print('--------------------------------------------------------------------------')\n",
    "            print()            \n",
    "            \n",
    "            # Add predictions to train and validation datasets\n",
    "            train.loc[train_idx, 'yhat'] = train_preds.yhat.values\n",
    "            val.loc[val_idx, 'yhat'] = val_preds.yhat.values\n",
    "\n",
    "print()\n",
    "print('--------------------------------------------------------------------------')\n",
    "print('Train Score', 'SMAPE: {:f}'.format(SMAPE(train.y.values, train.yhat.values)))\n",
    "print('Val Score', 'SMAPE: {:f}'.format(SMAPE(val.y.values, val.yhat.values)))\n",
    "print('--------------------------------------------------------------------------')\n",
    "print()"
   ]
  },
  {
   "cell_type": "markdown",
   "metadata": {},
   "source": [
    "# Tunning Parameters"
   ]
  },
  {
   "cell_type": "code",
   "execution_count": 33,
   "metadata": {},
   "outputs": [],
   "source": [
    "# growth='linear',\n",
    "# holidays=holidays,\n",
    "# n_changepoints=10,\n",
    "# changepoint_range=0.4,\n",
    "# yearly_seasonality=True,\n",
    "# weekly_seasonality=True,\n",
    "# daily_seasonality=False,\n",
    "# seasonality_mode='additive',\n",
    "# seasonality_prior_scale=25,\n",
    "# holidays_prior_scale=100,\n",
    "# changepoint_prior_scale=0.01,\n",
    "# interval_width=0.5,\n",
    "# uncertainty_samples=False"
   ]
  },
  {
   "cell_type": "code",
   "execution_count": 34,
   "metadata": {
    "execution": {
     "iopub.execute_input": "2022-01-23T23:53:57.526146Z",
     "iopub.status.busy": "2022-01-23T23:53:57.525835Z",
     "iopub.status.idle": "2022-01-23T23:53:57.560305Z",
     "shell.execute_reply": "2022-01-23T23:53:57.559233Z",
     "shell.execute_reply.started": "2022-01-23T23:53:57.526109Z"
    }
   },
   "outputs": [
    {
     "name": "stdout",
     "output_type": "stream",
     "text": [
      "180\n"
     ]
    }
   ],
   "source": [
    "from prophet.diagnostics import cross_validation\n",
    "from prophet.diagnostics import performance_metrics\n",
    "\n",
    "all_data = pd.concat([train, val], axis=0, ignore_index=True).reset_index(drop=True)\n",
    "\n",
    "df = all_data[(all_data.country=='Finland') & \n",
    "              (all_data.store=='KaggleMart') &\n",
    "              (all_data['product']=='Kaggle Mug')].copy()\n",
    "\n",
    "param_grid = {  \n",
    "    'changepoint_prior_scale': [0.001, 0.01, 0.1],\n",
    "    'seasonality_prior_scale': [0.01, 0.1, 1, 10, 25],\n",
    "    'holidays_prior_scale':[0.01, 0.1, 1, 10],\n",
    "    'changepoint_range':[0.7, 0.8, 0.9],\n",
    "    'holidays':[holidays]\n",
    "}\n",
    "\n",
    "cutoffs = pd.to_datetime(['2015-12-31', '2016-12-31', '2017-12-31'])\n",
    "\n",
    "# Generate all combinations of parameters\n",
    "all_params = [dict(zip(param_grid.keys(), v)) for v in itertools.product(*param_grid.values())]\n",
    "print(len(all_params))\n",
    "smapes = []  # Store the RMSEs for each params here"
   ]
  },
  {
   "cell_type": "code",
   "execution_count": null,
   "metadata": {
    "execution": {
     "iopub.execute_input": "2022-01-23T23:54:06.326786Z",
     "iopub.status.busy": "2022-01-23T23:54:06.326145Z",
     "iopub.status.idle": "2022-01-23T23:54:25.685976Z",
     "shell.execute_reply": "2022-01-23T23:54:25.682114Z",
     "shell.execute_reply.started": "2022-01-23T23:54:06.326741Z"
    }
   },
   "outputs": [
    {
     "name": "stderr",
     "output_type": "stream",
     "text": [
      "INFO:prophet:Disabling daily seasonality. Run prophet with daily_seasonality=True to override this.\n",
      "/Users/rco/opt/anaconda3/envs/tps/lib/python3.9/site-packages/prophet/forecaster.py:896: FutureWarning: The frame.append method is deprecated and will be removed from pandas in a future version. Use pandas.concat instead.\n",
      "  components = components.append(new_comp)\n",
      "WARNING:prophet:Seasonality has period of 365.25 days which is larger than initial window. Consider increasing initial.\n",
      "INFO:prophet:Applying in parallel with <concurrent.futures.process.ProcessPoolExecutor object at 0x1a6e582e0>\n"
     ]
    },
    {
     "name": "stdout",
     "output_type": "stream",
     "text": [
      "Initial log joint probability = -52.1817\n",
      "    Iter      log prob        ||dx||      ||grad||       alpha      alpha0  # evals  Notes \n",
      "      80       3981.38   0.000981268        4586.7    2.12e-07       0.001      146  LS failed, Hessian reset \n",
      "      99       3986.48   5.45908e-06       3560.63      0.1682      0.6695      170   \n",
      "    Iter      log prob        ||dx||      ||grad||       alpha      alpha0  # evals  Notes \n",
      "     199        3993.9   1.03102e-06       5293.49           1           1      288   \n",
      "    Iter      log prob        ||dx||      ||grad||       alpha      alpha0  # evals  Notes \n",
      "     222       3993.91   8.13464e-09       4631.28      0.5751      0.5751      320   \n",
      "Optimization terminated normally: \n",
      "  Convergence detected: absolute parameter change was below tolerance\n"
     ]
    },
    {
     "name": "stderr",
     "output_type": "stream",
     "text": [
      "Importing plotly failed. Interactive plots will not work.\n",
      "Importing plotly failed. Interactive plots will not work.\n",
      "Importing plotly failed. Interactive plots will not work.\n",
      "/Users/rco/opt/anaconda3/envs/tps/lib/python3.9/site-packages/prophet/forecaster.py:896: FutureWarning: The frame.append method is deprecated and will be removed from pandas in a future version. Use pandas.concat instead.\n",
      "  components = components.append(new_comp)\n",
      "WARNING:prophet.models:Optimization terminated abnormally. Falling back to Newton.\n",
      "/Users/rco/opt/anaconda3/envs/tps/lib/python3.9/site-packages/prophet/forecaster.py:896: FutureWarning: The frame.append method is deprecated and will be removed from pandas in a future version. Use pandas.concat instead.\n",
      "  components = components.append(new_comp)\n",
      "WARNING:prophet.models:Optimization terminated abnormally. Falling back to Newton.\n"
     ]
    },
    {
     "name": "stdout",
     "output_type": "stream",
     "text": [
      "Initial log joint probability = -84.0379\n",
      "    Iter      log prob        ||dx||      ||grad||       alpha      alpha0  # evals  Notes \n",
      "       1      -84.0379             0       1216.34       1e-12       0.001       24   \n",
      "Optimization terminated with error: \n",
      "  Line search failed to achieve a sufficient decrease, no more progress can be made\n",
      "\n",
      "Initial log joint probability = -808.408\n",
      "Iteration  1. Log joint probability =    725.221. Improved by 1533.63.\n",
      "Initial log joint probability = -84.4172\n",
      "    Iter      log prob        ||dx||      ||grad||       alpha      alpha0  # evals  Notes \n",
      "       1      -84.4172             0       853.783       1e-12       0.001       22   \n",
      "Optimization terminated with error: \n",
      "  Line search failed to achieve a sufficient decrease, no more progress can be made\n",
      "\n",
      "Initial log joint probability = -473.374\n",
      "Iteration  1. Log joint probability =    493.423. Improved by 966.797.\n",
      "Iteration  2. Log joint probability =    1487.39. Improved by 762.169.\n",
      "Iteration  2. Log joint probability =    1065.71. Improved by 572.289.\n",
      "Initial log joint probability = -29.4418\n",
      "    Iter      log prob        ||dx||      ||grad||       alpha      alpha0  # evals  Notes \n",
      "       1      -29.4418             0       398.026       1e-12       0.001       17   \n",
      "Optimization terminated with error: \n",
      "  Line search failed to achieve a sufficient decrease, no more progress can be made\n",
      "\n",
      "Initial log joint probability = -82.0674\n",
      "Iteration  3. Log joint probability =    2163.35. Improved by 675.964.\n",
      "Iteration  3. Log joint probability =    1393.92. Improved by 328.212.\n",
      "Iteration  1. Log joint probability =    173.319. Improved by 255.387.\n"
     ]
    },
    {
     "name": "stderr",
     "output_type": "stream",
     "text": [
      "/Users/rco/opt/anaconda3/envs/tps/lib/python3.9/site-packages/prophet/forecaster.py:896: FutureWarning: The frame.append method is deprecated and will be removed from pandas in a future version. Use pandas.concat instead.\n",
      "  components = components.append(new_comp)\n",
      "WARNING:prophet.models:Optimization terminated abnormally. Falling back to Newton.\n"
     ]
    },
    {
     "name": "stdout",
     "output_type": "stream",
     "text": [
      "Iteration  2. Log joint probability =    500.758. Improved by 327.439.\n",
      "Iteration  4. Log joint probability =     2307.5. Improved by 144.145.\n",
      "Iteration  4. Log joint probability =    1793.44. Improved by 399.519.\n",
      "Iteration  3. Log joint probability =    798.543. Improved by 297.785.\n",
      "Iteration  4. Log joint probability =    846.708. Improved by 48.1643.\n",
      "Iteration  5. Log joint probability =    1798.86. Improved by 5.41985.\n",
      "Iteration  5. Log joint probability =    847.703. Improved by 0.995672.\n",
      "Iteration  5. Log joint probability =    2542.85. Improved by 235.354.\n",
      "Iteration  6. Log joint probability =    848.513. Improved by 0.810135.\n",
      "Iteration  6. Log joint probability =    1803.66. Improved by 4.7999.\n",
      "Iteration  7. Log joint probability =    850.311. Improved by 1.79769.\n",
      "Iteration  8. Log joint probability =    850.424. Improved by 0.112568.\n",
      "Iteration  6. Log joint probability =    2913.58. Improved by 370.727.\n",
      "Iteration  7. Log joint probability =    1806.19. Improved by 2.52756.\n",
      "Iteration  9. Log joint probability =    850.659. Improved by 0.235511.\n",
      "Iteration 10. Log joint probability =    850.803. Improved by 0.143591.\n",
      "Iteration  8. Log joint probability =    1806.47. Improved by 0.282891.\n",
      "Iteration 11. Log joint probability =    850.915. Improved by 0.112311.\n",
      "Iteration  7. Log joint probability =    2928.16. Improved by 14.5805.\n",
      "Iteration 12. Log joint probability =    850.925. Improved by 0.00982331.\n",
      "Iteration  9. Log joint probability =    1807.14. Improved by 0.662769.\n",
      "Iteration 13. Log joint probability =    850.954. Improved by 0.0291815.\n",
      "Iteration 14. Log joint probability =    851.031. Improved by 0.0765666.\n",
      "Iteration  8. Log joint probability =    2928.93. Improved by 0.765484.\n",
      "Iteration 10. Log joint probability =    1807.36. Improved by 0.220643.\n",
      "Iteration 15. Log joint probability =    851.032. Improved by 0.00121075.\n",
      "Iteration 16. Log joint probability =    851.044. Improved by 0.0119017.\n",
      "Iteration 11. Log joint probability =    1807.42. Improved by 0.0592022.\n",
      "Iteration 17. Log joint probability =    851.045. Improved by 0.0013841.\n",
      "Iteration  9. Log joint probability =     2930.8. Improved by 1.87467.\n",
      "Iteration 18. Log joint probability =    851.053. Improved by 0.00797167.\n",
      "Iteration 19. Log joint probability =    851.059. Improved by 0.00618354.\n",
      "Iteration 12. Log joint probability =    1807.58. Improved by 0.161657.\n",
      "Iteration 20. Log joint probability =    851.061. Improved by 0.0021444.\n",
      "Iteration 10. Log joint probability =     2938.3. Improved by 7.49567.\n",
      "Iteration 21. Log joint probability =    851.073. Improved by 0.01209.\n",
      "Iteration 13. Log joint probability =    1807.63. Improved by 0.0485278.\n",
      "Iteration 22. Log joint probability =    851.111. Improved by 0.0376861.\n",
      "Iteration 23. Log joint probability =    851.115. Improved by 0.00430311.\n",
      "Iteration 14. Log joint probability =    1807.66. Improved by 0.035518.\n",
      "Iteration 11. Log joint probability =    2939.24. Improved by 0.942263.\n",
      "Iteration 24. Log joint probability =    851.115. Improved by 1.44555e-05.\n",
      "Iteration 25. Log joint probability =    851.121. Improved by 0.005492.\n",
      "Iteration 15. Log joint probability =    1807.68. Improved by 0.019733.\n",
      "Iteration 26. Log joint probability =    851.121. Improved by 0.000413244.\n",
      "Iteration 12. Log joint probability =    2942.85. Improved by 3.60791.\n",
      "Iteration 27. Log joint probability =    851.126. Improved by 0.00450659.\n",
      "Iteration 16. Log joint probability =    1807.69. Improved by 0.010832.\n",
      "Iteration 28. Log joint probability =    851.127. Improved by 0.00119268.\n",
      "Iteration 29. Log joint probability =     851.13. Improved by 0.00343389.\n",
      "Iteration 17. Log joint probability =    1807.71. Improved by 0.0177314.\n",
      "Iteration 13. Log joint probability =    2943.56. Improved by 0.709961.\n",
      "Iteration 30. Log joint probability =    851.134. Improved by 0.00315788.\n",
      "Iteration 31. Log joint probability =    851.134. Improved by 0.000272481.\n",
      "Iteration 18. Log joint probability =    1807.72. Improved by 0.00639447.\n",
      "Iteration 32. Log joint probability =    851.141. Improved by 0.00677029.\n",
      "Iteration 14. Log joint probability =    2943.93. Improved by 0.37724.\n",
      "Iteration 33. Log joint probability =    851.161. Improved by 0.0207928.\n",
      "Iteration 19. Log joint probability =    1807.72. Improved by 0.00364539.\n",
      "Iteration 34. Log joint probability =    851.169. Improved by 0.00771201.\n",
      "Iteration 35. Log joint probability =    851.171. Improved by 0.00172623.\n",
      "Iteration 20. Log joint probability =    1807.72. Improved by 0.00409341.\n",
      "Iteration 36. Log joint probability =    851.176. Improved by 0.00485123.\n",
      "Iteration 15. Log joint probability =    2945.06. Improved by 1.12871.\n",
      "Iteration 37. Log joint probability =    851.176. Improved by 0.000239045.\n",
      "Iteration 21. Log joint probability =    1807.73. Improved by 0.00207564.\n",
      "Iteration 38. Log joint probability =    851.176. Improved by 0.000335194.\n",
      "Iteration 16. Log joint probability =    2946.23. Improved by 1.16853.\n",
      "Iteration 39. Log joint probability =    851.177. Improved by 0.000273637.\n",
      "Iteration 22. Log joint probability =    1807.73. Improved by 0.00152258.\n",
      "Iteration 40. Log joint probability =    851.177. Improved by 0.000427982.\n",
      "Iteration 41. Log joint probability =    851.177. Improved by 8.84928e-05.\n",
      "Iteration 17. Log joint probability =     2949.9. Improved by 3.66952.\n",
      "Iteration 23. Log joint probability =    1807.73. Improved by 0.000189116.\n",
      "Iteration 42. Log joint probability =    851.178. Improved by 0.000592039.\n",
      "Iteration 43. Log joint probability =     851.18. Improved by 0.00196212.\n",
      "Iteration 44. Log joint probability =    851.181. Improved by 0.000956686.\n",
      "Iteration 24. Log joint probability =    1807.73. Improved by 0.000332099.\n",
      "Iteration 18. Log joint probability =    2951.65. Improved by 1.74988.\n",
      "Iteration 45. Log joint probability =    851.181. Improved by 0.000789222.\n",
      "Iteration 46. Log joint probability =    851.182. Improved by 0.000547999.\n",
      "Iteration 25. Log joint probability =    1807.73. Improved by 0.000184034.\n",
      "Iteration 47. Log joint probability =    851.182. Improved by 0.000426226.\n",
      "Iteration 19. Log joint probability =    2952.19. Improved by 0.541661.\n",
      "Iteration 48. Log joint probability =    851.182. Improved by 3.95717e-05.\n",
      "Iteration 26. Log joint probability =    1807.73. Improved by 0.000144264.\n",
      "Iteration 49. Log joint probability =    851.182. Improved by 4.16879e-05.\n",
      "Iteration 50. Log joint probability =    851.183. Improved by 3.7299e-05.\n",
      "Iteration 27. Log joint probability =    1807.73. Improved by 8.52336e-05.\n",
      "Iteration 20. Log joint probability =    2953.97. Improved by 1.78146.\n",
      "Iteration 51. Log joint probability =    851.183. Improved by 4.66384e-05.\n",
      "Iteration 52. Log joint probability =    851.183. Improved by 4.7485e-06.\n",
      "Iteration 28. Log joint probability =    1807.73. Improved by 3.20432e-05.\n",
      "Iteration 53. Log joint probability =    851.183. Improved by 0.000101067.\n",
      "Iteration 21. Log joint probability =    2954.55. Improved by 0.581555.\n",
      "Iteration 54. Log joint probability =    851.183. Improved by 0.000275132.\n",
      "Iteration 29. Log joint probability =    1807.73. Improved by 2.25857e-06.\n",
      "Iteration 55. Log joint probability =    851.183. Improved by 5.38494e-05.\n",
      "Iteration 56. Log joint probability =    851.183. Improved by 0.000144709.\n",
      "Iteration 22. Log joint probability =    2954.66. Improved by 0.101906.\n",
      "Iteration 30. Log joint probability =    1807.73. Improved by 2.76545e-07.\n",
      "Iteration 57. Log joint probability =    851.183. Improved by 2.4e-05.\n",
      "Iteration 58. Log joint probability =    851.183. Improved by 4.20759e-05.\n",
      "Iteration 31. Log joint probability =    1807.73. Improved by 2.51147e-06.\n",
      "Iteration 59. Log joint probability =    851.183. Improved by 6.66705e-05.\n",
      "Iteration 23. Log joint probability =    2955.49. Improved by 0.830191.\n",
      "Iteration 60. Log joint probability =    851.183. Improved by 8.58148e-06.\n",
      "Iteration 32. Log joint probability =    1807.73. Improved by 1.79876e-05.\n",
      "Iteration 61. Log joint probability =    851.183. Improved by 6.2556e-06.\n",
      "Iteration 24. Log joint probability =    2955.71. Improved by 0.225638.\n",
      "Iteration 62. Log joint probability =    851.183. Improved by 1.92301e-05.\n",
      "Iteration 33. Log joint probability =    1807.73. Improved by 3.21779e-06.\n",
      "Iteration 63. Log joint probability =    851.183. Improved by 2.4985e-08.\n",
      "Iteration 64. Log joint probability =    851.183. Improved by 2.80004e-06.\n",
      "Iteration 25. Log joint probability =    2956.51. Improved by 0.794521.\n",
      "Iteration 34. Log joint probability =    1807.73. Improved by 9.43229e-06.\n",
      "Iteration 65. Log joint probability =    851.183. Improved by 1.05069e-05.\n"
     ]
    },
    {
     "name": "stdout",
     "output_type": "stream",
     "text": [
      "Iteration 66. Log joint probability =    851.183. Improved by 4.34305e-06.\n",
      "Iteration 67. Log joint probability =    851.183. Improved by 2.43847e-06.\n",
      "Iteration 35. Log joint probability =    1807.73. Improved by 4.42607e-06.\n",
      "Iteration 26. Log joint probability =    2956.99. Improved by 0.482288.\n",
      "Iteration 68. Log joint probability =    851.183. Improved by 5.13902e-08.\n",
      "Iteration 69. Log joint probability =    851.183. Improved by 2.45946e-07.\n",
      "Iteration 36. Log joint probability =    1807.73. Improved by 4.5847e-07.\n",
      "Iteration 70. Log joint probability =    851.183. Improved by 6.2903e-08.\n",
      "Iteration 27. Log joint probability =    2957.21. Improved by 0.22492.\n",
      "Iteration 71. Log joint probability =    851.183. Improved by 2.35214e-07.\n",
      "Iteration 37. Log joint probability =    1807.73. Improved by 1.78819e-06.\n",
      "Iteration 72. Log joint probability =    851.183. Improved by 1.0235e-07.\n",
      "Iteration 73. Log joint probability =    851.183. Improved by 1.81213e-07.\n",
      "Iteration 28. Log joint probability =    2957.39. Improved by 0.180756.\n",
      "Iteration 38. Log joint probability =    1807.73. Improved by 1.24852e-06.\n",
      "Iteration 74. Log joint probability =    851.183. Improved by 8.96712e-08.\n",
      "Iteration 75. Log joint probability =    851.183. Improved by 2.88129e-07.\n",
      "Iteration 39. Log joint probability =    1807.73. Improved by 4.96728e-07.\n",
      "Iteration 29. Log joint probability =    2957.56. Improved by 0.160783.\n",
      "Iteration 76. Log joint probability =    851.183. Improved by 1.09477e-06.\n",
      "Iteration 77. Log joint probability =    851.183. Improved by 2.98805e-07.\n",
      "Iteration 40. Log joint probability =    1807.73. Improved by 3.17225e-07.\n",
      "Iteration 78. Log joint probability =    851.183. Improved by 5.80129e-07.\n",
      "Iteration 30. Log joint probability =    2957.68. Improved by 0.126571.\n",
      "Iteration 79. Log joint probability =    851.183. Improved by 2.25921e-07.\n",
      "Iteration 41. Log joint probability =    1807.73. Improved by 4.70079e-07.\n",
      "Iteration 80. Log joint probability =    851.183. Improved by 1.03976e-07.\n",
      "Iteration 81. Log joint probability =    851.183. Improved by 1.30347e-07.\n",
      "Iteration 31. Log joint probability =    2957.81. Improved by 0.128918.\n",
      "Iteration 42. Log joint probability =    1807.73. Improved by 8.27442e-08.\n",
      "Iteration 82. Log joint probability =    851.183. Improved by 1.55421e-09.\n",
      "Iteration 43. Log joint probability =    1807.73. Improved by 2.80015e-07.\n"
     ]
    },
    {
     "name": "stderr",
     "output_type": "stream",
     "text": [
      "/Users/rco/opt/anaconda3/envs/tps/lib/python3.9/site-packages/prophet/forecaster.py:896: FutureWarning: The frame.append method is deprecated and will be removed from pandas in a future version. Use pandas.concat instead.\n",
      "  components = components.append(new_comp)\n",
      "/Users/rco/opt/anaconda3/envs/tps/lib/python3.9/site-packages/prophet/forecaster.py:896: FutureWarning: The frame.append method is deprecated and will be removed from pandas in a future version. Use pandas.concat instead.\n",
      "  components = components.append(new_comp)\n"
     ]
    },
    {
     "name": "stdout",
     "output_type": "stream",
     "text": [
      "Iteration 32. Log joint probability =    2957.85. Improved by 0.0424305.\n",
      "Iteration 44. Log joint probability =    1807.73. Improved by 9.55333e-09.\n",
      "Iteration 33. Log joint probability =    2957.89. Improved by 0.0325614.\n"
     ]
    },
    {
     "name": "stderr",
     "output_type": "stream",
     "text": [
      "/Users/rco/opt/anaconda3/envs/tps/lib/python3.9/site-packages/prophet/forecaster.py:896: FutureWarning: The frame.append method is deprecated and will be removed from pandas in a future version. Use pandas.concat instead.\n",
      "  components = components.append(new_comp)\n",
      "/Users/rco/opt/anaconda3/envs/tps/lib/python3.9/site-packages/prophet/forecaster.py:896: FutureWarning: The frame.append method is deprecated and will be removed from pandas in a future version. Use pandas.concat instead.\n",
      "  components = components.append(new_comp)\n"
     ]
    },
    {
     "name": "stdout",
     "output_type": "stream",
     "text": [
      "Iteration 34. Log joint probability =     2957.9. Improved by 0.0123111.\n",
      "Iteration 35. Log joint probability =    2957.91. Improved by 0.0161222.\n",
      "Iteration 36. Log joint probability =    2957.93. Improved by 0.0133183.\n",
      "Iteration 37. Log joint probability =    2957.93. Improved by 0.00135491.\n",
      "Iteration 38. Log joint probability =    2957.94. Improved by 0.00876009.\n",
      "Iteration 39. Log joint probability =    2957.94. Improved by 0.00360882.\n",
      "Iteration 40. Log joint probability =    2957.94. Improved by 0.00062521.\n",
      "Iteration 41. Log joint probability =    2957.94. Improved by 0.000490346.\n",
      "Iteration 42. Log joint probability =    2957.94. Improved by 0.00192608.\n",
      "Iteration 43. Log joint probability =    2957.95. Improved by 0.000451221.\n",
      "Iteration 44. Log joint probability =    2957.95. Improved by 0.000887278.\n",
      "Iteration 45. Log joint probability =    2957.95. Improved by 2.96023e-05.\n",
      "Iteration 46. Log joint probability =    2957.95. Improved by 8.86726e-06.\n",
      "Iteration 47. Log joint probability =    2957.95. Improved by 8.50778e-05.\n",
      "Iteration 48. Log joint probability =    2957.95. Improved by 0.000477622.\n",
      "Iteration 49. Log joint probability =    2957.95. Improved by 0.000118113.\n",
      "Iteration 50. Log joint probability =    2957.95. Improved by 0.000299333.\n",
      "Iteration 51. Log joint probability =    2957.95. Improved by 5.59126e-05.\n",
      "Iteration 52. Log joint probability =    2957.95. Improved by 2.83501e-05.\n",
      "Iteration 53. Log joint probability =    2957.95. Improved by 2.98325e-05.\n",
      "Iteration 54. Log joint probability =    2957.95. Improved by 4.91661e-05.\n",
      "Iteration 55. Log joint probability =    2957.95. Improved by 2.52994e-05.\n",
      "Iteration 56. Log joint probability =    2957.95. Improved by 2.52362e-05.\n",
      "Iteration 57. Log joint probability =    2957.95. Improved by 1.78424e-05.\n",
      "Iteration 58. Log joint probability =    2957.95. Improved by 4.76847e-06.\n",
      "Iteration 59. Log joint probability =    2957.95. Improved by 4.21745e-06.\n",
      "Iteration 60. Log joint probability =    2957.95. Improved by 3.51616e-06.\n",
      "Iteration 61. Log joint probability =    2957.95. Improved by 9.01355e-07.\n",
      "Iteration 62. Log joint probability =    2957.95. Improved by 6.12758e-07.\n",
      "Iteration 63. Log joint probability =    2957.95. Improved by 3.4511e-07.\n",
      "Iteration 64. Log joint probability =    2957.95. Improved by 6.62171e-08.\n",
      "Iteration 65. Log joint probability =    2957.95. Improved by 2.93176e-06.\n",
      "Iteration 66. Log joint probability =    2957.95. Improved by 4.90709e-07.\n",
      "Iteration 67. Log joint probability =    2957.95. Improved by 2.48997e-08.\n",
      "Iteration 68. Log joint probability =    2957.95. Improved by 1.89957e-07.\n",
      "Iteration 69. Log joint probability =    2957.95. Improved by 9.52423e-09.\n"
     ]
    },
    {
     "name": "stderr",
     "output_type": "stream",
     "text": [
      "/Users/rco/opt/anaconda3/envs/tps/lib/python3.9/site-packages/prophet/forecaster.py:896: FutureWarning: The frame.append method is deprecated and will be removed from pandas in a future version. Use pandas.concat instead.\n",
      "  components = components.append(new_comp)\n",
      "/Users/rco/opt/anaconda3/envs/tps/lib/python3.9/site-packages/prophet/forecaster.py:896: FutureWarning: The frame.append method is deprecated and will be removed from pandas in a future version. Use pandas.concat instead.\n",
      "  components = components.append(new_comp)\n",
      "INFO:prophet:Disabling daily seasonality. Run prophet with daily_seasonality=True to override this.\n",
      "/Users/rco/opt/anaconda3/envs/tps/lib/python3.9/site-packages/prophet/forecaster.py:896: FutureWarning: The frame.append method is deprecated and will be removed from pandas in a future version. Use pandas.concat instead.\n",
      "  components = components.append(new_comp)\n",
      "WARNING:prophet:Seasonality has period of 365.25 days which is larger than initial window. Consider increasing initial.\n",
      "INFO:prophet:Applying in parallel with <concurrent.futures.process.ProcessPoolExecutor object at 0x1a9af59d0>\n"
     ]
    },
    {
     "name": "stdout",
     "output_type": "stream",
     "text": [
      "Initial log joint probability = -52.1817\n",
      "    Iter      log prob        ||dx||      ||grad||       alpha      alpha0  # evals  Notes \n",
      "      85       3988.23    0.00151046       4714.34   2.641e-07       0.001      151  LS failed, Hessian reset \n",
      "      99       3993.26   5.79132e-05        5099.4      0.2481           1      171   \n",
      "    Iter      log prob        ||dx||      ||grad||       alpha      alpha0  # evals  Notes \n",
      "     139       3993.63   2.33377e-05       4820.68   4.496e-09       0.001      268  LS failed, Hessian reset \n",
      "     176       3993.75    7.0735e-09       5103.31      0.4292      0.4292      314   \n",
      "Optimization terminated normally: \n",
      "  Convergence detected: absolute parameter change was below tolerance\n"
     ]
    },
    {
     "name": "stderr",
     "output_type": "stream",
     "text": [
      "Importing plotly failed. Interactive plots will not work.\n",
      "Importing plotly failed. Interactive plots will not work.\n",
      "Importing plotly failed. Interactive plots will not work.\n",
      "/Users/rco/opt/anaconda3/envs/tps/lib/python3.9/site-packages/prophet/forecaster.py:896: FutureWarning: The frame.append method is deprecated and will be removed from pandas in a future version. Use pandas.concat instead.\n",
      "  components = components.append(new_comp)\n",
      "WARNING:prophet.models:Optimization terminated abnormally. Falling back to Newton.\n",
      "/Users/rco/opt/anaconda3/envs/tps/lib/python3.9/site-packages/prophet/forecaster.py:896: FutureWarning: The frame.append method is deprecated and will be removed from pandas in a future version. Use pandas.concat instead.\n",
      "  components = components.append(new_comp)\n",
      "WARNING:prophet.models:Optimization terminated abnormally. Falling back to Newton.\n"
     ]
    },
    {
     "name": "stdout",
     "output_type": "stream",
     "text": [
      "Initial log joint probability = -84.0379\n",
      "    Iter      log prob        ||dx||      ||grad||       alpha      alpha0  # evals  Notes \n",
      "       1      -84.0379             0       1195.55       1e-12       0.001       22   \n",
      "Optimization terminated with error: \n",
      "  Line search failed to achieve a sufficient decrease, no more progress can be made\n",
      "\n",
      "Initial log joint probability = -808.408\n",
      "Iteration  1. Log joint probability =    725.424. Improved by 1533.83.\n",
      "Initial log joint probability = -84.4172\n",
      "    Iter      log prob        ||dx||      ||grad||       alpha      alpha0  # evals  Notes \n",
      "       1      -84.4172             0        833.79       1e-12       0.001       24   \n",
      "Optimization terminated with error: \n",
      "  Line search failed to achieve a sufficient decrease, no more progress can be made\n",
      "\n",
      "Initial log joint probability = -473.374\n",
      "Iteration  1. Log joint probability =     493.54. Improved by 966.914.\n",
      "Iteration  2. Log joint probability =    1487.09. Improved by 761.668.\n",
      "Initial log joint probability = -29.4418\n",
      "    Iter      log prob        ||dx||      ||grad||       alpha      alpha0  # evals  Notes \n",
      "       1      -29.4418             0        391.95       1e-12       0.001       19   \n",
      "Optimization terminated with error: \n",
      "  Line search failed to achieve a sufficient decrease, no more progress can be made\n",
      "\n",
      "Initial log joint probability = -82.0674\n",
      "Iteration  2. Log joint probability =    1065.68. Improved by 572.14.\n",
      "Iteration  1. Log joint probability =    173.368. Improved by 255.436.\n",
      "Iteration  3. Log joint probability =     2162.5. Improved by 675.412.\n",
      "Iteration  2. Log joint probability =    500.792. Improved by 327.424.\n",
      "Iteration  3. Log joint probability =    1394.63. Improved by 328.954.\n"
     ]
    },
    {
     "name": "stderr",
     "output_type": "stream",
     "text": [
      "/Users/rco/opt/anaconda3/envs/tps/lib/python3.9/site-packages/prophet/forecaster.py:896: FutureWarning: The frame.append method is deprecated and will be removed from pandas in a future version. Use pandas.concat instead.\n",
      "  components = components.append(new_comp)\n",
      "WARNING:prophet.models:Optimization terminated abnormally. Falling back to Newton.\n"
     ]
    },
    {
     "name": "stdout",
     "output_type": "stream",
     "text": [
      "Iteration  3. Log joint probability =    798.301. Improved by 297.509.\n",
      "Iteration  4. Log joint probability =    846.118. Improved by 47.8168.\n",
      "Iteration  4. Log joint probability =    2317.37. Improved by 154.868.\n",
      "Iteration  4. Log joint probability =    1793.22. Improved by 398.591.\n",
      "Iteration  5. Log joint probability =    847.617. Improved by 1.4985.\n",
      "Iteration  6. Log joint probability =    848.325. Improved by 0.70796.\n",
      "Iteration  5. Log joint probability =    1799.03. Improved by 5.80979.\n",
      "Iteration  7. Log joint probability =    850.274. Improved by 1.94928.\n",
      "Iteration  5. Log joint probability =    2420.53. Improved by 103.163.\n",
      "Iteration  8. Log joint probability =    850.298. Improved by 0.0239516.\n",
      "Iteration  6. Log joint probability =    1803.44. Improved by 4.40547.\n",
      "Iteration  9. Log joint probability =    850.346. Improved by 0.0483844.\n",
      "Iteration 10. Log joint probability =    850.442. Improved by 0.0955537.\n",
      "Iteration  6. Log joint probability =    2530.76. Improved by 110.228.\n",
      "Iteration  7. Log joint probability =    1806.25. Improved by 2.81171.\n",
      "Iteration 11. Log joint probability =    850.711. Improved by 0.268808.\n",
      "Iteration 12. Log joint probability =    850.841. Improved by 0.130217.\n",
      "Iteration  8. Log joint probability =    1806.43. Improved by 0.182418.\n",
      "Iteration 13. Log joint probability =    850.997. Improved by 0.156219.\n",
      "Iteration  7. Log joint probability =    2536.03. Improved by 5.26981.\n",
      "Iteration 14. Log joint probability =     851.05. Improved by 0.0531874.\n",
      "Iteration  9. Log joint probability =     1807.2. Improved by 0.766608.\n",
      "Iteration 15. Log joint probability =    851.051. Improved by 0.000541202.\n",
      "Iteration 16. Log joint probability =    851.063. Improved by 0.0123678.\n",
      "Iteration 10. Log joint probability =    1807.33. Improved by 0.12813.\n",
      "Iteration  8. Log joint probability =     2539.7. Improved by 3.66787.\n",
      "Iteration 17. Log joint probability =    851.105. Improved by 0.0416086.\n",
      "Iteration 18. Log joint probability =    851.123. Improved by 0.018358.\n",
      "Iteration 11. Log joint probability =    1807.45. Improved by 0.119412.\n",
      "Iteration 19. Log joint probability =    851.126. Improved by 0.00251995.\n",
      "Iteration  9. Log joint probability =    2540.06. Improved by 0.356749.\n",
      "Iteration 20. Log joint probability =    851.126. Improved by 0.000678184.\n",
      "Iteration 12. Log joint probability =    1807.57. Improved by 0.119.\n",
      "Iteration 21. Log joint probability =    851.128. Improved by 0.00179298.\n",
      "Iteration 22. Log joint probability =    851.129. Improved by 0.00126206.\n",
      "Iteration 13. Log joint probability =    1807.64. Improved by 0.0700054.\n",
      "Iteration 23. Log joint probability =    851.131. Improved by 0.00126773.\n",
      "Iteration 10. Log joint probability =    2543.83. Improved by 3.77565.\n",
      "Iteration 24. Log joint probability =    851.132. Improved by 0.00171204.\n",
      "Iteration 14. Log joint probability =    1807.65. Improved by 0.013344.\n",
      "Iteration 25. Log joint probability =    851.133. Improved by 0.000588836.\n",
      "Iteration 26. Log joint probability =    851.136. Improved by 0.00290047.\n",
      "Iteration 11. Log joint probability =     2548.5. Improved by 4.66901.\n",
      "Iteration 15. Log joint probability =    1807.68. Improved by 0.0293556.\n",
      "Iteration 27. Log joint probability =    851.145. Improved by 0.00907739.\n",
      "Iteration 28. Log joint probability =    851.146. Improved by 0.00119796.\n",
      "Iteration 16. Log joint probability =    1807.69. Improved by 0.0143622.\n",
      "Iteration 29. Log joint probability =    851.146. Improved by 0.000254893.\n",
      "Iteration 12. Log joint probability =    2549.83. Improved by 1.3237.\n",
      "Iteration 30. Log joint probability =    851.148. Improved by 0.00139314.\n",
      "Iteration 17. Log joint probability =    1807.71. Improved by 0.0127383.\n",
      "Iteration 31. Log joint probability =    851.154. Improved by 0.00598774.\n",
      "Iteration 32. Log joint probability =    851.156. Improved by 0.00184219.\n",
      "Iteration 18. Log joint probability =    1807.71. Improved by 0.00316455.\n",
      "Iteration 13. Log joint probability =     2550.3. Improved by 0.476102.\n",
      "Iteration 33. Log joint probability =    851.157. Improved by 0.00113604.\n",
      "Iteration 34. Log joint probability =    851.157. Improved by 0.000521492.\n",
      "Iteration 19. Log joint probability =    1807.72. Improved by 0.00963642.\n",
      "Iteration 35. Log joint probability =    851.157. Improved by 0.000157152.\n",
      "Iteration 36. Log joint probability =    851.157. Improved by 2.36305e-05.\n",
      "Iteration 14. Log joint probability =    2552.61. Improved by 2.30645.\n",
      "Iteration 20. Log joint probability =    1807.72. Improved by 0.00381441.\n",
      "Iteration 37. Log joint probability =    851.157. Improved by 7.28175e-05.\n",
      "Iteration 38. Log joint probability =    851.157. Improved by 8.2326e-06.\n",
      "Iteration 21. Log joint probability =    1807.73. Improved by 0.00173052.\n",
      "Iteration 39. Log joint probability =    851.158. Improved by 8.37482e-05.\n",
      "Iteration 15. Log joint probability =    2556.31. Improved by 3.70195.\n",
      "Iteration 40. Log joint probability =    851.158. Improved by 0.000281482.\n",
      "Iteration 22. Log joint probability =    1807.73. Improved by 0.00115481.\n",
      "Iteration 41. Log joint probability =    851.158. Improved by 7.00026e-05.\n",
      "Iteration 42. Log joint probability =    851.158. Improved by 0.000130075.\n",
      "Iteration 16. Log joint probability =    2563.28. Improved by 6.97175.\n",
      "Iteration 23. Log joint probability =    1807.73. Improved by 0.00123494.\n",
      "Iteration 43. Log joint probability =    851.158. Improved by 3.33866e-05.\n",
      "Iteration 44. Log joint probability =    851.158. Improved by 5.66297e-05.\n",
      "Iteration 24. Log joint probability =    1807.73. Improved by 0.000583889.\n",
      "Iteration 45. Log joint probability =    851.158. Improved by 3.17648e-05.\n",
      "Iteration 17. Log joint probability =    2579.83. Improved by 16.5453.\n",
      "Iteration 46. Log joint probability =    851.158. Improved by 2.31078e-05.\n",
      "Iteration 47. Log joint probability =    851.158. Improved by 1.36091e-05.\n",
      "Iteration 25. Log joint probability =    1807.73. Improved by 0.000320271.\n",
      "Iteration 48. Log joint probability =    851.158. Improved by 1.54748e-05.\n",
      "Iteration 18. Log joint probability =    2585.73. Improved by 5.89944.\n",
      "Iteration 49. Log joint probability =    851.158. Improved by 9.26122e-07.\n",
      "Iteration 26. Log joint probability =    1807.73. Improved by 0.000470382.\n",
      "Iteration 50. Log joint probability =    851.158. Improved by 2.23104e-06.\n",
      "Iteration 51. Log joint probability =    851.158. Improved by 1.32956e-08.\n",
      "Iteration 27. Log joint probability =    1807.73. Improved by 9.49323e-05.\n",
      "Iteration 19. Log joint probability =    2619.93. Improved by 34.2029.\n",
      "Iteration 52. Log joint probability =    851.158. Improved by 2.9015e-06.\n",
      "Iteration 53. Log joint probability =    851.158. Improved by 8.44767e-06.\n",
      "Iteration 28. Log joint probability =    1807.73. Improved by 0.000325314.\n",
      "Iteration 54. Log joint probability =    851.158. Improved by 2.25881e-06.\n",
      "Iteration 20. Log joint probability =    2623.37. Improved by 3.44454.\n",
      "Iteration 55. Log joint probability =    851.158. Improved by 4.72805e-06.\n",
      "Iteration 29. Log joint probability =    1807.73. Improved by 0.00012307.\n",
      "Iteration 56. Log joint probability =    851.158. Improved by 3.80873e-08.\n",
      "Iteration 57. Log joint probability =    851.158. Improved by 7.74235e-07.\n",
      "Iteration 30. Log joint probability =    1807.73. Improved by 7.43773e-05.\n",
      "Iteration 21. Log joint probability =    2674.36. Improved by 50.9829.\n",
      "Iteration 58. Log joint probability =    851.158. Improved by 2.40898e-06.\n",
      "Iteration 59. Log joint probability =    851.158. Improved by 1.78582e-08.\n",
      "Iteration 31. Log joint probability =    1807.73. Improved by 7.69328e-06.\n",
      "Iteration 60. Log joint probability =    851.158. Improved by 1.85849e-07.\n",
      "Iteration 22. Log joint probability =    2679.06. Improved by 4.70518.\n",
      "Iteration 61. Log joint probability =    851.158. Improved by 2.77076e-07.\n",
      "Iteration 32. Log joint probability =    1807.73. Improved by 1.0085e-06.\n",
      "Iteration 62. Log joint probability =    851.158. Improved by 1.27708e-06.\n",
      "Iteration 63. Log joint probability =    851.158. Improved by 5.73883e-07.\n",
      "Iteration 33. Log joint probability =    1807.73. Improved by 2.49075e-06.\n",
      "Iteration 23. Log joint probability =    2735.04. Improved by 55.9804.\n",
      "Iteration 64. Log joint probability =    851.158. Improved by 7.92636e-08.\n",
      "Iteration 65. Log joint probability =    851.158. Improved by 7.89578e-09.\n",
      "Iteration 34. Log joint probability =    1807.73. Improved by 4.77767e-06.\n",
      "Iteration 24. Log joint probability =    2838.47. Improved by 103.426.\n",
      "Iteration 35. Log joint probability =    1807.73. Improved by 3.64765e-05.\n"
     ]
    },
    {
     "name": "stderr",
     "output_type": "stream",
     "text": [
      "/Users/rco/opt/anaconda3/envs/tps/lib/python3.9/site-packages/prophet/forecaster.py:896: FutureWarning: The frame.append method is deprecated and will be removed from pandas in a future version. Use pandas.concat instead.\n",
      "  components = components.append(new_comp)\n",
      "/Users/rco/opt/anaconda3/envs/tps/lib/python3.9/site-packages/prophet/forecaster.py:896: FutureWarning: The frame.append method is deprecated and will be removed from pandas in a future version. Use pandas.concat instead.\n",
      "  components = components.append(new_comp)\n"
     ]
    },
    {
     "name": "stdout",
     "output_type": "stream",
     "text": [
      "Iteration 36. Log joint probability =    1807.73. Improved by 5.60294e-06.\n",
      "Iteration 25. Log joint probability =    2845.82. Improved by 7.35348.\n",
      "Iteration 37. Log joint probability =    1807.73. Improved by 2.03281e-05.\n",
      "Iteration 26. Log joint probability =    2878.58. Improved by 32.7548.\n",
      "Iteration 38. Log joint probability =    1807.73. Improved by 6.08338e-06.\n",
      "Iteration 27. Log joint probability =    2896.32. Improved by 17.7466.\n",
      "Iteration 39. Log joint probability =    1807.73. Improved by 3.26362e-06.\n",
      "Iteration 40. Log joint probability =    1807.73. Improved by 3.25965e-06.\n",
      "Iteration 28. Log joint probability =     2939.6. Improved by 43.277.\n",
      "Iteration 41. Log joint probability =    1807.73. Improved by 6.44852e-07.\n",
      "Iteration 29. Log joint probability =    2953.88. Improved by 14.2827.\n",
      "Iteration 42. Log joint probability =    1807.73. Improved by 2.18857e-06.\n",
      "Iteration 30. Log joint probability =    2954.62. Improved by 0.740252.\n",
      "Iteration 43. Log joint probability =    1807.73. Improved by 3.65942e-07.\n",
      "Iteration 44. Log joint probability =    1807.73. Improved by 1.16344e-06.\n",
      "Iteration 31. Log joint probability =    2956.08. Improved by 1.46083.\n",
      "Iteration 45. Log joint probability =    1807.73. Improved by 2.06228e-10.\n",
      "Iteration 32. Log joint probability =    2956.74. Improved by 0.655207.\n"
     ]
    },
    {
     "name": "stderr",
     "output_type": "stream",
     "text": [
      "/Users/rco/opt/anaconda3/envs/tps/lib/python3.9/site-packages/prophet/forecaster.py:896: FutureWarning: The frame.append method is deprecated and will be removed from pandas in a future version. Use pandas.concat instead.\n",
      "  components = components.append(new_comp)\n",
      "/Users/rco/opt/anaconda3/envs/tps/lib/python3.9/site-packages/prophet/forecaster.py:896: FutureWarning: The frame.append method is deprecated and will be removed from pandas in a future version. Use pandas.concat instead.\n",
      "  components = components.append(new_comp)\n"
     ]
    },
    {
     "name": "stdout",
     "output_type": "stream",
     "text": [
      "Iteration 33. Log joint probability =    2957.22. Improved by 0.478973.\n",
      "Iteration 34. Log joint probability =    2957.26. Improved by 0.0436995.\n",
      "Iteration 35. Log joint probability =    2957.33. Improved by 0.0679636.\n",
      "Iteration 36. Log joint probability =    2957.37. Improved by 0.0401589.\n",
      "Iteration 37. Log joint probability =    2957.67. Improved by 0.29614.\n",
      "Iteration 38. Log joint probability =    2957.75. Improved by 0.0877518.\n",
      "Iteration 39. Log joint probability =    2957.81. Improved by 0.0576489.\n",
      "Iteration 40. Log joint probability =    2957.89. Improved by 0.0799224.\n",
      "Iteration 41. Log joint probability =    2957.91. Improved by 0.0150553.\n",
      "Iteration 42. Log joint probability =    2957.92. Improved by 0.016236.\n",
      "Iteration 43. Log joint probability =    2957.93. Improved by 0.00545002.\n",
      "Iteration 44. Log joint probability =    2957.93. Improved by 0.004945.\n",
      "Iteration 45. Log joint probability =    2957.94. Improved by 0.00447964.\n",
      "Iteration 46. Log joint probability =    2957.94. Improved by 0.0043617.\n",
      "Iteration 47. Log joint probability =    2957.94. Improved by 0.00135142.\n",
      "Iteration 48. Log joint probability =    2957.94. Improved by 0.000317159.\n",
      "Iteration 49. Log joint probability =    2957.94. Improved by 0.000188442.\n",
      "Iteration 50. Log joint probability =    2957.94. Improved by 0.000169632.\n",
      "Iteration 51. Log joint probability =    2957.94. Improved by 0.000172945.\n",
      "Iteration 52. Log joint probability =    2957.95. Improved by 0.000930017.\n",
      "Iteration 53. Log joint probability =    2957.95. Improved by 0.000262187.\n",
      "Iteration 54. Log joint probability =    2957.95. Improved by 0.000251007.\n",
      "Iteration 55. Log joint probability =    2957.95. Improved by 0.000424282.\n",
      "Iteration 56. Log joint probability =    2957.95. Improved by 6.32161e-05.\n",
      "Iteration 57. Log joint probability =    2957.95. Improved by 4.91407e-05.\n",
      "Iteration 58. Log joint probability =    2957.95. Improved by 0.000324079.\n",
      "Iteration 59. Log joint probability =    2957.95. Improved by 0.000100731.\n",
      "Iteration 60. Log joint probability =    2957.95. Improved by 1.63673e-05.\n",
      "Iteration 61. Log joint probability =    2957.95. Improved by 1.36606e-05.\n",
      "Iteration 62. Log joint probability =    2957.95. Improved by 9.09843e-06.\n",
      "Iteration 63. Log joint probability =    2957.95. Improved by 2.07238e-05.\n",
      "Iteration 64. Log joint probability =    2957.95. Improved by 7.88139e-05.\n",
      "Iteration 65. Log joint probability =    2957.95. Improved by 1.67233e-05.\n",
      "Iteration 66. Log joint probability =    2957.95. Improved by 1.21346e-06.\n",
      "Iteration 67. Log joint probability =    2957.95. Improved by 1.54768e-05.\n",
      "Iteration 68. Log joint probability =    2957.95. Improved by 1.5625e-05.\n",
      "Iteration 69. Log joint probability =    2957.95. Improved by 8.4551e-07.\n",
      "Iteration 70. Log joint probability =    2957.95. Improved by 2.27676e-06.\n",
      "Iteration 71. Log joint probability =    2957.95. Improved by 6.77782e-06.\n",
      "Iteration 72. Log joint probability =    2957.95. Improved by 4.40268e-06.\n",
      "Iteration 73. Log joint probability =    2957.95. Improved by 2.91686e-06.\n",
      "Iteration 74. Log joint probability =    2957.95. Improved by 1.59114e-06.\n",
      "Iteration 75. Log joint probability =    2957.95. Improved by 8.56803e-07.\n",
      "Iteration 76. Log joint probability =    2957.95. Improved by 8.82057e-07.\n",
      "Iteration 77. Log joint probability =    2957.95. Improved by 1.48812e-07.\n",
      "Iteration 78. Log joint probability =    2957.95. Improved by 4.69236e-08.\n",
      "Iteration 79. Log joint probability =    2957.95. Improved by 4.54903e-07.\n",
      "Iteration 80. Log joint probability =    2957.95. Improved by 1.20545e-07.\n",
      "Iteration 81. Log joint probability =    2957.95. Improved by 1.30256e-07.\n",
      "Iteration 82. Log joint probability =    2957.95. Improved by 2.27036e-07.\n",
      "Iteration 83. Log joint probability =    2957.95. Improved by 8.5065e-09.\n"
     ]
    },
    {
     "name": "stderr",
     "output_type": "stream",
     "text": [
      "/Users/rco/opt/anaconda3/envs/tps/lib/python3.9/site-packages/prophet/forecaster.py:896: FutureWarning: The frame.append method is deprecated and will be removed from pandas in a future version. Use pandas.concat instead.\n",
      "  components = components.append(new_comp)\n",
      "/Users/rco/opt/anaconda3/envs/tps/lib/python3.9/site-packages/prophet/forecaster.py:896: FutureWarning: The frame.append method is deprecated and will be removed from pandas in a future version. Use pandas.concat instead.\n",
      "  components = components.append(new_comp)\n",
      "INFO:prophet:Disabling daily seasonality. Run prophet with daily_seasonality=True to override this.\n",
      "/Users/rco/opt/anaconda3/envs/tps/lib/python3.9/site-packages/prophet/forecaster.py:896: FutureWarning: The frame.append method is deprecated and will be removed from pandas in a future version. Use pandas.concat instead.\n",
      "  components = components.append(new_comp)\n",
      "WARNING:prophet:Seasonality has period of 365.25 days which is larger than initial window. Consider increasing initial.\n",
      "INFO:prophet:Applying in parallel with <concurrent.futures.process.ProcessPoolExecutor object at 0x1a854c2e0>\n"
     ]
    },
    {
     "name": "stdout",
     "output_type": "stream",
     "text": [
      "Initial log joint probability = -52.1817\n",
      "    Iter      log prob        ||dx||      ||grad||       alpha      alpha0  # evals  Notes \n",
      "      49       3921.35    0.00134462       4952.61   2.684e-07       0.001       93  LS failed, Hessian reset \n",
      "      99        3945.6    0.00237664       5479.14      0.6546      0.6546      154   \n",
      "    Iter      log prob        ||dx||      ||grad||       alpha      alpha0  # evals  Notes \n",
      "     112       3971.61    0.00161452       5617.94    2.72e-07       0.001      213  LS failed, Hessian reset \n",
      "     199        3992.3   2.05706e-07       5357.36           1           1      314   \n",
      "    Iter      log prob        ||dx||      ||grad||       alpha      alpha0  # evals  Notes \n",
      "     228       3992.31   1.97303e-07       4728.93   4.137e-11       0.001      390  LS failed, Hessian reset \n",
      "     240       3992.31   5.79542e-09       4887.02      0.4277           1      407   \n",
      "Optimization terminated normally: \n",
      "  Convergence detected: absolute parameter change was below tolerance\n"
     ]
    },
    {
     "name": "stderr",
     "output_type": "stream",
     "text": [
      "Importing plotly failed. Interactive plots will not work.\n",
      "Importing plotly failed. Interactive plots will not work.\n",
      "Importing plotly failed. Interactive plots will not work.\n",
      "/Users/rco/opt/anaconda3/envs/tps/lib/python3.9/site-packages/prophet/forecaster.py:896: FutureWarning: The frame.append method is deprecated and will be removed from pandas in a future version. Use pandas.concat instead.\n",
      "  components = components.append(new_comp)\n",
      "WARNING:prophet.models:Optimization terminated abnormally. Falling back to Newton.\n",
      "/Users/rco/opt/anaconda3/envs/tps/lib/python3.9/site-packages/prophet/forecaster.py:896: FutureWarning: The frame.append method is deprecated and will be removed from pandas in a future version. Use pandas.concat instead.\n",
      "  components = components.append(new_comp)\n",
      "WARNING:prophet.models:Optimization terminated abnormally. Falling back to Newton.\n"
     ]
    },
    {
     "name": "stdout",
     "output_type": "stream",
     "text": [
      "Initial log joint probability = -29.4418\n",
      "    Iter      log prob        ||dx||      ||grad||       alpha      alpha0  # evals  Notes \n",
      "       1      -29.4418             0       387.344       1e-12       0.001       21   \n",
      "Optimization terminated with error: \n",
      "  Line search failed to achieve a sufficient decrease, no more progress can be made\n",
      "\n",
      "Initial log joint probability = -82.0674\n",
      "Iteration  1. Log joint probability =    173.405. Improved by 255.472.\n",
      "Iteration  2. Log joint probability =    500.816. Improved by 327.411.\n",
      "Iteration  3. Log joint probability =    798.103. Improved by 297.287.\n",
      "Initial log joint probability = -84.4172\n",
      "    Iter      log prob        ||dx||      ||grad||       alpha      alpha0  # evals  Notes \n",
      "       1      -84.4172             0        817.81       1e-12       0.001       21   \n",
      "Optimization terminated with error: \n",
      "  Line search failed to achieve a sufficient decrease, no more progress can be made\n",
      "\n",
      "Initial log joint probability = -473.374\n",
      "Iteration  4. Log joint probability =    845.646. Improved by 47.543.\n",
      "Iteration  5. Log joint probability =    847.631. Improved by 1.98522.\n",
      "Iteration  1. Log joint probability =    493.643. Improved by 967.017.\n",
      "Iteration  6. Log joint probability =    848.061. Improved by 0.429964.\n",
      "Iteration  7. Log joint probability =    848.212. Improved by 0.150693.\n",
      "Initial log joint probability = -84.0379\n",
      "    Iter      log prob        ||dx||      ||grad||       alpha      alpha0  # evals  Notes \n",
      "       1      -84.0379             0       1178.74       1e-12       0.001       26   \n",
      "Optimization terminated with error: \n",
      "  Line search failed to achieve a sufficient decrease, no more progress can be made\n",
      "\n",
      "Initial log joint probability = -808.408\n",
      "Iteration  2. Log joint probability =    1065.64. Improved by 571.995.\n",
      "Iteration  8. Log joint probability =    849.139. Improved by 0.927795.\n",
      "Iteration  9. Log joint probability =    850.333. Improved by 1.19399.\n"
     ]
    },
    {
     "name": "stderr",
     "output_type": "stream",
     "text": [
      "/Users/rco/opt/anaconda3/envs/tps/lib/python3.9/site-packages/prophet/forecaster.py:896: FutureWarning: The frame.append method is deprecated and will be removed from pandas in a future version. Use pandas.concat instead.\n",
      "  components = components.append(new_comp)\n",
      "WARNING:prophet.models:Optimization terminated abnormally. Falling back to Newton.\n"
     ]
    },
    {
     "name": "stdout",
     "output_type": "stream",
     "text": [
      "Iteration 10. Log joint probability =    850.654. Improved by 0.320589.\n",
      "Iteration  3. Log joint probability =    1395.11. Improved by 329.471.\n",
      "Iteration  1. Log joint probability =    725.604. Improved by 1534.01.\n",
      "Iteration 11. Log joint probability =    850.711. Improved by 0.0569199.\n",
      "Iteration 12. Log joint probability =    851.038. Improved by 0.327441.\n",
      "Iteration  4. Log joint probability =    1793.07. Improved by 397.956.\n",
      "Iteration 13. Log joint probability =    851.203. Improved by 0.164757.\n",
      "Iteration 14. Log joint probability =    851.258. Improved by 0.0550705.\n",
      "Iteration  2. Log joint probability =     1486.8. Improved by 761.198.\n",
      "Iteration  5. Log joint probability =    1799.13. Improved by 6.06507.\n",
      "Iteration 15. Log joint probability =     851.27. Improved by 0.0116009.\n",
      "Iteration 16. Log joint probability =    851.296. Improved by 0.0257993.\n",
      "Iteration  6. Log joint probability =    1803.33. Improved by 4.19591.\n",
      "Iteration 17. Log joint probability =    851.317. Improved by 0.021252.\n",
      "Iteration  3. Log joint probability =    2161.68. Improved by 674.882.\n",
      "Iteration 18. Log joint probability =     851.33. Improved by 0.0133534.\n",
      "Iteration  7. Log joint probability =    1806.35. Improved by 3.02362.\n",
      "Iteration 19. Log joint probability =    851.336. Improved by 0.00636386.\n",
      "Iteration 20. Log joint probability =     851.34. Improved by 0.00317569.\n",
      "Iteration  4. Log joint probability =     2326.8. Improved by 165.117.\n",
      "Iteration  8. Log joint probability =    1807.04. Improved by 0.688634.\n",
      "Iteration 21. Log joint probability =    851.344. Improved by 0.00434436.\n",
      "Iteration 22. Log joint probability =    851.346. Improved by 0.00208904.\n",
      "Iteration  9. Log joint probability =    1807.27. Improved by 0.229735.\n",
      "Iteration 23. Log joint probability =    851.346. Improved by 0.000176469.\n",
      "Iteration  5. Log joint probability =    2689.42. Improved by 362.617.\n",
      "Iteration 24. Log joint probability =    851.348. Improved by 0.00122011.\n",
      "Iteration 10. Log joint probability =    1807.37. Improved by 0.102794.\n",
      "Iteration 25. Log joint probability =    851.348. Improved by 4.94625e-05.\n",
      "Iteration 26. Log joint probability =    851.348. Improved by 1.93271e-06.\n",
      "Iteration  6. Log joint probability =     2916.6. Improved by 227.183.\n",
      "Iteration 11. Log joint probability =    1807.51. Improved by 0.13356.\n",
      "Iteration 27. Log joint probability =    851.348. Improved by 0.000121107.\n",
      "Iteration 28. Log joint probability =    851.348. Improved by 0.000505666.\n",
      "Iteration 29. Log joint probability =    851.348. Improved by 0.000196055.\n",
      "Iteration 12. Log joint probability =    1807.51. Improved by 0.00620486.\n",
      "Iteration  7. Log joint probability =    2919.62. Improved by 3.01893.\n",
      "Iteration 30. Log joint probability =    851.349. Improved by 0.000218131.\n",
      "Iteration 31. Log joint probability =    851.349. Improved by 3.14876e-05.\n",
      "Iteration 13. Log joint probability =    1807.52. Improved by 0.00876558.\n",
      "Iteration 32. Log joint probability =    851.349. Improved by 0.000138211.\n",
      "Iteration  8. Log joint probability =    2920.11. Improved by 0.496083.\n",
      "Iteration 33. Log joint probability =    851.349. Improved by 2.42591e-05.\n",
      "Iteration 14. Log joint probability =    1807.53. Improved by 0.00620477.\n",
      "Iteration 34. Log joint probability =    851.349. Improved by 8.84297e-05.\n",
      "Iteration 35. Log joint probability =    851.349. Improved by 3.26771e-05.\n",
      "Iteration  9. Log joint probability =    2921.19. Improved by 1.07282.\n",
      "Iteration 15. Log joint probability =    1807.53. Improved by 0.00616091.\n",
      "Iteration 36. Log joint probability =    851.349. Improved by 8.7945e-06.\n",
      "Iteration 37. Log joint probability =    851.349. Improved by 9.72664e-06.\n",
      "Iteration 16. Log joint probability =    1807.54. Improved by 0.00588534.\n",
      "Iteration 10. Log joint probability =    2921.77. Improved by 0.584028.\n",
      "Iteration 38. Log joint probability =    851.349. Improved by 5.03489e-06.\n",
      "Iteration 39. Log joint probability =    851.349. Improved by 8.593e-07.\n",
      "Iteration 17. Log joint probability =    1807.55. Improved by 0.00839685.\n",
      "Iteration 40. Log joint probability =    851.349. Improved by 4.34819e-06.\n",
      "Iteration 11. Log joint probability =    2924.43. Improved by 2.66204.\n",
      "Iteration 41. Log joint probability =    851.349. Improved by 6.9559e-07.\n",
      "Iteration 18. Log joint probability =    1807.55. Improved by 0.000599498.\n",
      "Iteration 42. Log joint probability =    851.349. Improved by 2.42058e-06.\n",
      "Iteration 43. Log joint probability =    851.349. Improved by 9.43352e-07.\n",
      "Iteration 19. Log joint probability =    1807.56. Improved by 0.0137838.\n",
      "Iteration 12. Log joint probability =    2928.65. Improved by 4.21836.\n",
      "Iteration 44. Log joint probability =    851.349. Improved by 2.61238e-07.\n",
      "Iteration 45. Log joint probability =    851.349. Improved by 3.58479e-07.\n",
      "Iteration 20. Log joint probability =    1807.63. Improved by 0.0658158.\n",
      "Iteration 46. Log joint probability =    851.349. Improved by 2.90736e-07.\n",
      "Iteration 13. Log joint probability =    2930.25. Improved by 1.60046.\n",
      "Iteration 21. Log joint probability =    1807.65. Improved by 0.0256341.\n",
      "Iteration 47. Log joint probability =    851.349. Improved by 1.56076e-07.\n",
      "Iteration 48. Log joint probability =    851.349. Improved by 6.20057e-08.\n",
      "Iteration 22. Log joint probability =    1807.68. Improved by 0.0232047.\n",
      "Iteration 49. Log joint probability =    851.349. Improved by 1.6375e-07.\n",
      "Iteration 14. Log joint probability =    2932.02. Improved by 1.76786.\n",
      "Iteration 50. Log joint probability =    851.349. Improved by 3.74645e-08.\n",
      "Iteration 23. Log joint probability =    1807.69. Improved by 0.01734.\n",
      "Iteration 51. Log joint probability =    851.349. Improved by 1.91962e-08.\n",
      "Iteration 15. Log joint probability =    2937.85. Improved by 5.82741.\n",
      "Iteration 52. Log joint probability =    851.349. Improved by 2.86097e-08.\n",
      "Iteration 24. Log joint probability =    1807.71. Improved by 0.0120558.\n",
      "Iteration 53. Log joint probability =    851.349. Improved by 8.47774e-09.\n"
     ]
    },
    {
     "name": "stderr",
     "output_type": "stream",
     "text": [
      "/Users/rco/opt/anaconda3/envs/tps/lib/python3.9/site-packages/prophet/forecaster.py:896: FutureWarning: The frame.append method is deprecated and will be removed from pandas in a future version. Use pandas.concat instead.\n",
      "  components = components.append(new_comp)\n",
      "/Users/rco/opt/anaconda3/envs/tps/lib/python3.9/site-packages/prophet/forecaster.py:896: FutureWarning: The frame.append method is deprecated and will be removed from pandas in a future version. Use pandas.concat instead.\n",
      "  components = components.append(new_comp)\n"
     ]
    },
    {
     "name": "stdout",
     "output_type": "stream",
     "text": [
      "Iteration 25. Log joint probability =    1807.71. Improved by 0.00147768.\n",
      "Iteration 16. Log joint probability =    2938.33. Improved by 0.478274.\n",
      "Iteration 26. Log joint probability =    1807.71. Improved by 0.000660367.\n",
      "Iteration 17. Log joint probability =    2940.28. Improved by 1.95898.\n",
      "Iteration 27. Log joint probability =    1807.71. Improved by 9.87927e-05.\n",
      "Iteration 18. Log joint probability =    2942.52. Improved by 2.23121.\n",
      "Iteration 28. Log joint probability =    1807.71. Improved by 0.00178034.\n",
      "Iteration 29. Log joint probability =    1807.72. Improved by 0.00850169.\n",
      "Iteration 19. Log joint probability =    2942.64. Improved by 0.128109.\n",
      "Iteration 30. Log joint probability =    1807.72. Improved by 0.00243096.\n",
      "Iteration 20. Log joint probability =    2943.93. Improved by 1.28398.\n",
      "Iteration 31. Log joint probability =    1807.72. Improved by 0.00464528.\n",
      "Iteration 21. Log joint probability =    2946.03. Improved by 2.10482.\n",
      "Iteration 32. Log joint probability =    1807.73. Improved by 0.00184704.\n",
      "Iteration 33. Log joint probability =    1807.73. Improved by 0.000582532.\n",
      "Iteration 22. Log joint probability =    2951.78. Improved by 5.74732.\n",
      "Iteration 34. Log joint probability =    1807.73. Improved by 0.00117595.\n",
      "Iteration 23. Log joint probability =    2955.14. Improved by 3.3639.\n",
      "Iteration 35. Log joint probability =    1807.73. Improved by 0.00050449.\n",
      "Iteration 24. Log joint probability =    2955.65. Improved by 0.50601.\n",
      "Iteration 36. Log joint probability =    1807.73. Improved by 4.97928e-06.\n",
      "Iteration 37. Log joint probability =    1807.73. Improved by 4.21894e-05.\n",
      "Iteration 25. Log joint probability =    2956.12. Improved by 0.469713.\n",
      "Iteration 38. Log joint probability =    1807.73. Improved by 2.34852e-06.\n",
      "Iteration 26. Log joint probability =    2956.37. Improved by 0.245984.\n",
      "Iteration 39. Log joint probability =    1807.73. Improved by 3.18726e-05.\n",
      "Iteration 27. Log joint probability =     2956.9. Improved by 0.537889.\n",
      "Iteration 40. Log joint probability =    1807.73. Improved by 1.4103e-05.\n",
      "Iteration 41. Log joint probability =    1807.73. Improved by 2.9419e-05.\n",
      "Iteration 28. Log joint probability =    2957.18. Improved by 0.279324.\n",
      "Iteration 42. Log joint probability =    1807.73. Improved by 1.3544e-05.\n",
      "Iteration 29. Log joint probability =    2957.22. Improved by 0.0363783.\n",
      "Iteration 43. Log joint probability =    1807.73. Improved by 1.80995e-05.\n",
      "Iteration 30. Log joint probability =    2957.32. Improved by 0.0959988.\n",
      "Iteration 44. Log joint probability =    1807.73. Improved by 2.9395e-05.\n",
      "Iteration 45. Log joint probability =    1807.73. Improved by 5.82073e-06.\n",
      "Iteration 31. Log joint probability =    2957.35. Improved by 0.0383604.\n",
      "Iteration 46. Log joint probability =    1807.73. Improved by 3.51198e-05.\n",
      "Iteration 32. Log joint probability =     2957.5. Improved by 0.142746.\n",
      "Iteration 47. Log joint probability =    1807.73. Improved by 1.42082e-05.\n",
      "Iteration 48. Log joint probability =    1807.73. Improved by 2.05998e-05.\n",
      "Iteration 33. Log joint probability =    2957.52. Improved by 0.0240667.\n",
      "Iteration 49. Log joint probability =    1807.73. Improved by 3.29684e-05.\n",
      "Iteration 34. Log joint probability =    2957.53. Improved by 0.0125257.\n",
      "Iteration 50. Log joint probability =    1807.73. Improved by 3.70429e-06.\n",
      "Iteration 35. Log joint probability =    2957.55. Improved by 0.0125765.\n",
      "Iteration 51. Log joint probability =    1807.73. Improved by 4.87141e-05.\n",
      "Iteration 52. Log joint probability =    1807.73. Improved by 0.000373112.\n",
      "Iteration 36. Log joint probability =    2957.59. Improved by 0.0411963.\n",
      "Iteration 53. Log joint probability =    1807.73. Improved by 8.10678e-05.\n",
      "Iteration 37. Log joint probability =    2957.64. Improved by 0.0572826.\n",
      "Iteration 54. Log joint probability =    1807.73. Improved by 3.19965e-05.\n",
      "Iteration 38. Log joint probability =    2957.65. Improved by 0.00557701.\n",
      "Iteration 55. Log joint probability =    1807.73. Improved by 7.08008e-05.\n",
      "Iteration 56. Log joint probability =    1807.73. Improved by 3.80597e-05.\n",
      "Iteration 39. Log joint probability =    2957.67. Improved by 0.0194936.\n",
      "Iteration 57. Log joint probability =    1807.73. Improved by 1.57592e-05.\n",
      "Iteration 40. Log joint probability =    2957.67. Improved by 0.00342272.\n",
      "Iteration 58. Log joint probability =    1807.73. Improved by 2.8822e-06.\n",
      "Iteration 41. Log joint probability =    2957.69. Improved by 0.0168653.\n",
      "Iteration 59. Log joint probability =    1807.73. Improved by 1.01195e-05.\n",
      "Iteration 60. Log joint probability =    1807.73. Improved by 3.07115e-06.\n",
      "Iteration 42. Log joint probability =    2957.72. Improved by 0.0273541.\n",
      "Iteration 61. Log joint probability =    1807.73. Improved by 1.57969e-06.\n",
      "Iteration 43. Log joint probability =    2957.73. Improved by 0.0145756.\n",
      "Iteration 62. Log joint probability =    1807.73. Improved by 1.91603e-06.\n",
      "Iteration 44. Log joint probability =    2957.73. Improved by 0.000455793.\n",
      "Iteration 63. Log joint probability =    1807.73. Improved by 1.09477e-06.\n",
      "Iteration 64. Log joint probability =    1807.73. Improved by 1.89914e-07.\n",
      "Iteration 45. Log joint probability =    2957.73. Improved by 0.00100515.\n",
      "Iteration 65. Log joint probability =    1807.73. Improved by 6.02851e-07.\n",
      "Iteration 46. Log joint probability =    2957.75. Improved by 0.0147054.\n",
      "Iteration 66. Log joint probability =    1807.73. Improved by 3.10469e-07.\n",
      "Iteration 47. Log joint probability =    2957.76. Improved by 0.0081454.\n",
      "Iteration 67. Log joint probability =    1807.73. Improved by 1.56511e-07.\n",
      "Iteration 68. Log joint probability =    1807.73. Improved by 7.22325e-08.\n",
      "Iteration 48. Log joint probability =    2957.76. Improved by 0.00851135.\n",
      "Iteration 69. Log joint probability =    1807.73. Improved by 2.8223e-08.\n",
      "Iteration 49. Log joint probability =    2957.77. Improved by 0.000893822.\n",
      "Iteration 70. Log joint probability =    1807.73. Improved by 1.51188e-08.\n",
      "Iteration 50. Log joint probability =    2957.77. Improved by 0.000371488.\n",
      "Iteration 71. Log joint probability =    1807.73. Improved by 2.01269e-08.\n",
      "Iteration 72. Log joint probability =    1807.73. Improved by 5.80371e-09.\n",
      "Iteration 51. Log joint probability =    2957.77. Improved by 0.00663959.\n"
     ]
    },
    {
     "name": "stderr",
     "output_type": "stream",
     "text": [
      "/Users/rco/opt/anaconda3/envs/tps/lib/python3.9/site-packages/prophet/forecaster.py:896: FutureWarning: The frame.append method is deprecated and will be removed from pandas in a future version. Use pandas.concat instead.\n",
      "  components = components.append(new_comp)\n",
      "/Users/rco/opt/anaconda3/envs/tps/lib/python3.9/site-packages/prophet/forecaster.py:896: FutureWarning: The frame.append method is deprecated and will be removed from pandas in a future version. Use pandas.concat instead.\n",
      "  components = components.append(new_comp)\n"
     ]
    },
    {
     "name": "stdout",
     "output_type": "stream",
     "text": [
      "Iteration 52. Log joint probability =    2957.78. Improved by 0.00486061.\n",
      "Iteration 53. Log joint probability =    2957.78. Improved by 0.00347048.\n",
      "Iteration 54. Log joint probability =    2957.78. Improved by 0.00171451.\n",
      "Iteration 55. Log joint probability =    2957.79. Improved by 0.00498258.\n",
      "Iteration 56. Log joint probability =    2957.79. Improved by 0.0016083.\n",
      "Iteration 57. Log joint probability =    2957.79. Improved by 0.000557915.\n",
      "Iteration 58. Log joint probability =    2957.79. Improved by 0.00116.\n",
      "Iteration 59. Log joint probability =    2957.79. Improved by 0.000439325.\n",
      "Iteration 60. Log joint probability =    2957.79. Improved by 0.000263207.\n",
      "Iteration 61. Log joint probability =    2957.79. Improved by 0.000245624.\n",
      "Iteration 62. Log joint probability =    2957.79. Improved by 4.41613e-05.\n",
      "Iteration 63. Log joint probability =    2957.79. Improved by 9.28859e-05.\n",
      "Iteration 64. Log joint probability =    2957.79. Improved by 0.000130056.\n",
      "Iteration 65. Log joint probability =    2957.79. Improved by 3.25906e-05.\n",
      "Iteration 66. Log joint probability =    2957.79. Improved by 6.33024e-05.\n",
      "Iteration 67. Log joint probability =    2957.79. Improved by 2.36256e-05.\n",
      "Iteration 68. Log joint probability =    2957.79. Improved by 3.86996e-05.\n",
      "Iteration 69. Log joint probability =    2957.79. Improved by 1.09061e-05.\n",
      "Iteration 70. Log joint probability =    2957.79. Improved by 4.90151e-06.\n",
      "Iteration 71. Log joint probability =    2957.79. Improved by 1.38041e-06.\n",
      "Iteration 72. Log joint probability =    2957.79. Improved by 1.86573e-06.\n",
      "Iteration 73. Log joint probability =    2957.79. Improved by 1.27164e-06.\n",
      "Iteration 74. Log joint probability =    2957.79. Improved by 4.7957e-06.\n",
      "Iteration 75. Log joint probability =    2957.79. Improved by 7.1045e-06.\n",
      "Iteration 76. Log joint probability =    2957.79. Improved by 2.49146e-06.\n",
      "Iteration 77. Log joint probability =    2957.79. Improved by 4.24065e-06.\n",
      "Iteration 78. Log joint probability =    2957.79. Improved by 4.53842e-08.\n",
      "Iteration 79. Log joint probability =    2957.79. Improved by 1.84651e-06.\n",
      "Iteration 80. Log joint probability =    2957.79. Improved by 1.81018e-06.\n",
      "Iteration 81. Log joint probability =    2957.79. Improved by 6.07349e-07.\n",
      "Iteration 82. Log joint probability =    2957.79. Improved by 9.15226e-07.\n",
      "Iteration 83. Log joint probability =    2957.79. Improved by 2.50433e-07.\n",
      "Iteration 84. Log joint probability =    2957.79. Improved by 5.23226e-07.\n",
      "Iteration 85. Log joint probability =    2957.79. Improved by 5.5938e-08.\n",
      "Iteration 86. Log joint probability =    2957.79. Improved by 1.9095e-07.\n",
      "Iteration 87. Log joint probability =    2957.79. Improved by 2.27662e-07.\n",
      "Iteration 88. Log joint probability =    2957.79. Improved by 3.94198e-08.\n",
      "Iteration 89. Log joint probability =    2957.79. Improved by 4.4588e-08.\n",
      "Iteration 90. Log joint probability =    2957.79. Improved by 7.34508e-09.\n"
     ]
    },
    {
     "name": "stderr",
     "output_type": "stream",
     "text": [
      "/Users/rco/opt/anaconda3/envs/tps/lib/python3.9/site-packages/prophet/forecaster.py:896: FutureWarning: The frame.append method is deprecated and will be removed from pandas in a future version. Use pandas.concat instead.\n",
      "  components = components.append(new_comp)\n",
      "/Users/rco/opt/anaconda3/envs/tps/lib/python3.9/site-packages/prophet/forecaster.py:896: FutureWarning: The frame.append method is deprecated and will be removed from pandas in a future version. Use pandas.concat instead.\n",
      "  components = components.append(new_comp)\n",
      "INFO:prophet:Disabling daily seasonality. Run prophet with daily_seasonality=True to override this.\n",
      "/Users/rco/opt/anaconda3/envs/tps/lib/python3.9/site-packages/prophet/forecaster.py:896: FutureWarning: The frame.append method is deprecated and will be removed from pandas in a future version. Use pandas.concat instead.\n",
      "  components = components.append(new_comp)\n",
      "WARNING:prophet:Seasonality has period of 365.25 days which is larger than initial window. Consider increasing initial.\n",
      "INFO:prophet:Applying in parallel with <concurrent.futures.process.ProcessPoolExecutor object at 0x1a9cd59a0>\n"
     ]
    },
    {
     "name": "stdout",
     "output_type": "stream",
     "text": [
      "Initial log joint probability = -52.1817\n",
      "    Iter      log prob        ||dx||      ||grad||       alpha      alpha0  # evals  Notes \n",
      "      99       4035.69   0.000529384       5243.31      0.3104           1      132   \n",
      "    Iter      log prob        ||dx||      ||grad||       alpha      alpha0  # evals  Notes \n",
      "     199       4042.36   6.09011e-07       4457.68      0.7978      0.7978      250   \n",
      "    Iter      log prob        ||dx||      ||grad||       alpha      alpha0  # evals  Notes \n",
      "     216       4042.36   6.37009e-09       5003.22      0.4372      0.4372      270   \n",
      "Optimization terminated normally: \n",
      "  Convergence detected: absolute parameter change was below tolerance\n"
     ]
    },
    {
     "name": "stderr",
     "output_type": "stream",
     "text": [
      "Importing plotly failed. Interactive plots will not work.\n",
      "Importing plotly failed. Interactive plots will not work.\n",
      "Importing plotly failed. Interactive plots will not work.\n",
      "/Users/rco/opt/anaconda3/envs/tps/lib/python3.9/site-packages/prophet/forecaster.py:896: FutureWarning: The frame.append method is deprecated and will be removed from pandas in a future version. Use pandas.concat instead.\n",
      "  components = components.append(new_comp)\n",
      "WARNING:prophet.models:Optimization terminated abnormally. Falling back to Newton.\n",
      "/Users/rco/opt/anaconda3/envs/tps/lib/python3.9/site-packages/prophet/forecaster.py:896: FutureWarning: The frame.append method is deprecated and will be removed from pandas in a future version. Use pandas.concat instead.\n",
      "  components = components.append(new_comp)\n",
      "WARNING:prophet.models:Optimization terminated abnormally. Falling back to Newton.\n"
     ]
    },
    {
     "name": "stdout",
     "output_type": "stream",
     "text": [
      "Initial log joint probability = -29.4418\n",
      "    Iter      log prob        ||dx||      ||grad||       alpha      alpha0  # evals  Notes \n",
      "       1      -29.4418             0       398.026       1e-12       0.001       17   \n",
      "Optimization terminated with error: \n",
      "  Line search failed to achieve a sufficient decrease, no more progress can be made\n",
      "\n",
      "Initial log joint probability = -105.093\n",
      "Iteration  1. Log joint probability =    173.414. Improved by 278.507.\n",
      "Iteration  2. Log joint probability =    500.736. Improved by 327.322.\n",
      "Initial log joint probability = -84.4172\n",
      "    Iter      log prob        ||dx||      ||grad||       alpha      alpha0  # evals  Notes \n",
      "       1      -84.4172             0       853.783       1e-12       0.001       22   \n",
      "Optimization terminated with error: \n",
      "  Line search failed to achieve a sufficient decrease, no more progress can be made\n",
      "Iteration  3. Log joint probability =    810.787. Improved by 310.052.\n",
      "\n",
      "Initial log joint probability = -496.4\n",
      "Iteration  4. Log joint probability =    860.295. Improved by 49.5077.\n",
      "Iteration  5. Log joint probability =    862.969. Improved by 2.67351.\n",
      "Iteration  1. Log joint probability =    493.393. Improved by 989.793.\n",
      "Iteration  6. Log joint probability =    864.932. Improved by 1.96303.\n",
      "Initial log joint probability = -84.0379\n",
      "    Iter      log prob        ||dx||      ||grad||       alpha      alpha0  # evals  Notes \n",
      "       1      -84.0379             0       1216.34       1e-12       0.001       24   \n",
      "Optimization terminated with error: \n",
      "  Line search failed to achieve a sufficient decrease, no more progress can be made\n",
      "Iteration  7. Log joint probability =    865.183. Improved by 0.251053.\n",
      "\n",
      "Initial log joint probability = -831.433\n",
      "Iteration  2. Log joint probability =    1063.39. Improved by 569.996.\n",
      "Iteration  8. Log joint probability =    867.039. Improved by 1.85606.\n"
     ]
    },
    {
     "name": "stderr",
     "output_type": "stream",
     "text": [
      "/Users/rco/opt/anaconda3/envs/tps/lib/python3.9/site-packages/prophet/forecaster.py:896: FutureWarning: The frame.append method is deprecated and will be removed from pandas in a future version. Use pandas.concat instead.\n",
      "  components = components.append(new_comp)\n",
      "WARNING:prophet.models:Optimization terminated abnormally. Falling back to Newton.\n"
     ]
    },
    {
     "name": "stdout",
     "output_type": "stream",
     "text": [
      "Iteration  9. Log joint probability =    867.994. Improved by 0.955028.\n",
      "Iteration  3. Log joint probability =    1379.14. Improved by 315.75.\n",
      "Iteration 10. Log joint probability =    868.458. Improved by 0.464273.\n",
      "Iteration  1. Log joint probability =     725.09. Improved by 1556.52.\n",
      "Iteration 11. Log joint probability =    868.578. Improved by 0.119613.\n",
      "Iteration 12. Log joint probability =    868.919. Improved by 0.34125.\n",
      "Iteration  4. Log joint probability =    1805.72. Improved by 426.579.\n",
      "Iteration 13. Log joint probability =    869.101. Improved by 0.181851.\n",
      "Iteration  2. Log joint probability =    1485.81. Improved by 760.716.\n",
      "Iteration 14. Log joint probability =    869.149. Improved by 0.0480604.\n",
      "Iteration  5. Log joint probability =    1822.39. Improved by 16.6709.\n",
      "Iteration 15. Log joint probability =    869.166. Improved by 0.0166542.\n",
      "Iteration  6. Log joint probability =    1837.08. Improved by 14.6879.\n",
      "Iteration 16. Log joint probability =    869.204. Improved by 0.0381769.\n",
      "Iteration  3. Log joint probability =    2158.19. Improved by 672.38.\n",
      "Iteration 17. Log joint probability =     869.21. Improved by 0.00667321.\n",
      "Iteration 18. Log joint probability =    869.212. Improved by 0.00113294.\n",
      "Iteration  7. Log joint probability =    1848.95. Improved by 11.8735.\n",
      "Iteration 19. Log joint probability =    869.217. Improved by 0.00521434.\n",
      "Iteration  4. Log joint probability =    2169.46. Improved by 11.2787.\n",
      "Iteration 20. Log joint probability =    869.221. Improved by 0.0040309.\n",
      "Iteration  8. Log joint probability =    1862.15. Improved by 13.1956.\n",
      "Iteration 21. Log joint probability =    869.223. Improved by 0.00197903.\n",
      "Iteration 22. Log joint probability =     869.23. Improved by 0.0067425.\n",
      "Iteration  9. Log joint probability =    1862.86. Improved by 0.708925.\n",
      "Iteration 23. Log joint probability =    869.248. Improved by 0.0180208.\n",
      "Iteration  5. Log joint probability =    2826.32. Improved by 656.859.\n",
      "Iteration 24. Log joint probability =    869.253. Improved by 0.00538748.\n",
      "Iteration 10. Log joint probability =    1866.12. Improved by 3.26059.\n",
      "Iteration 25. Log joint probability =    869.262. Improved by 0.00879729.\n",
      "Iteration  6. Log joint probability =    3000.55. Improved by 174.225.\n",
      "Iteration 11. Log joint probability =    1866.38. Improved by 0.264101.\n",
      "Iteration 26. Log joint probability =    869.263. Improved by 0.000854426.\n",
      "Iteration 27. Log joint probability =    869.264. Improved by 0.000975238.\n",
      "Iteration 12. Log joint probability =    1866.47. Improved by 0.0934049.\n",
      "Iteration 28. Log joint probability =    869.264. Improved by 0.000775838.\n",
      "Iteration  7. Log joint probability =    3006.95. Improved by 6.39691.\n",
      "Iteration 29. Log joint probability =    869.265. Improved by 0.00100118.\n",
      "Iteration 13. Log joint probability =    1867.15. Improved by 0.677539.\n",
      "Iteration 30. Log joint probability =    869.266. Improved by 0.00081212.\n",
      "Iteration 31. Log joint probability =    869.267. Improved by 0.000765712.\n",
      "Iteration 14. Log joint probability =    1867.43. Improved by 0.280627.\n",
      "Iteration 32. Log joint probability =    869.268. Improved by 0.000853299.\n",
      "Iteration  8. Log joint probability =    3020.37. Improved by 13.4233.\n",
      "Iteration 33. Log joint probability =    869.269. Improved by 0.00118208.\n",
      "Iteration 15. Log joint probability =    1867.56. Improved by 0.125337.\n",
      "Iteration 34. Log joint probability =    869.269. Improved by 0.000376875.\n",
      "Iteration 35. Log joint probability =    869.271. Improved by 0.00156405.\n",
      "Iteration  9. Log joint probability =    3025.97. Improved by 5.59901.\n",
      "Iteration 16. Log joint probability =    1867.63. Improved by 0.0750054.\n",
      "Iteration 36. Log joint probability =    869.271. Improved by 0.000212559.\n",
      "Iteration 37. Log joint probability =    869.273. Improved by 0.0017106.\n",
      "Iteration 17. Log joint probability =    1867.67. Improved by 0.0394838.\n",
      "Iteration 10. Log joint probability =    3027.45. Improved by 1.48467.\n",
      "Iteration 38. Log joint probability =    869.278. Improved by 0.00543349.\n",
      "Iteration 39. Log joint probability =     869.28. Improved by 0.00165007.\n",
      "Iteration 18. Log joint probability =    1867.69. Improved by 0.0184097.\n",
      "Iteration 40. Log joint probability =    869.281. Improved by 0.00106047.\n",
      "Iteration 11. Log joint probability =    3032.29. Improved by 4.83768.\n",
      "Iteration 41. Log joint probability =    869.282. Improved by 0.00109811.\n",
      "Iteration 19. Log joint probability =    1867.69. Improved by 0.00124095.\n",
      "Iteration 42. Log joint probability =    869.283. Improved by 0.000603819.\n",
      "Iteration 43. Log joint probability =    869.283. Improved by 9.35899e-05.\n",
      "Iteration 20. Log joint probability =     1867.7. Improved by 0.00701857.\n",
      "Iteration 12. Log joint probability =    3033.16. Improved by 0.875203.\n",
      "Iteration 44. Log joint probability =    869.283. Improved by 1.87131e-05.\n",
      "Iteration 21. Log joint probability =     1867.7. Improved by 0.00455861.\n",
      "Iteration 45. Log joint probability =    869.283. Improved by 9.65058e-05.\n",
      "Iteration 46. Log joint probability =    869.283. Improved by 5.64867e-06.\n",
      "Iteration 13. Log joint probability =    3034.82. Improved by 1.6595.\n",
      "Iteration 22. Log joint probability =     1867.7. Improved by 0.00199739.\n",
      "Iteration 47. Log joint probability =    869.283. Improved by 0.000121527.\n",
      "Iteration 48. Log joint probability =    869.283. Improved by 0.000310072.\n",
      "Iteration 23. Log joint probability =    1867.71. Improved by 0.00147765.\n",
      "Iteration 49. Log joint probability =    869.283. Improved by 1.44217e-05.\n",
      "Iteration 14. Log joint probability =    3037.05. Improved by 2.22194.\n",
      "Iteration 50. Log joint probability =    869.283. Improved by 5.02475e-05.\n",
      "Iteration 24. Log joint probability =    1867.71. Improved by 0.00127441.\n",
      "Iteration 51. Log joint probability =    869.283. Improved by 0.000134723.\n",
      "Iteration 52. Log joint probability =    869.284. Improved by 4.98868e-05.\n",
      "Iteration 15. Log joint probability =    3039.32. Improved by 2.27514.\n",
      "Iteration 25. Log joint probability =    1867.71. Improved by 0.00096552.\n",
      "Iteration 53. Log joint probability =    869.284. Improved by 5.07821e-05.\n",
      "Iteration 54. Log joint probability =    869.284. Improved by 3.52835e-05.\n",
      "Iteration 26. Log joint probability =    1867.71. Improved by 0.000749687.\n",
      "Iteration 55. Log joint probability =    869.284. Improved by 3.93654e-05.\n",
      "Iteration 16. Log joint probability =    3040.99. Improved by 1.67296.\n",
      "Iteration 56. Log joint probability =    869.284. Improved by 8.31421e-06.\n",
      "Iteration 27. Log joint probability =    1867.71. Improved by 7.69417e-05.\n",
      "Iteration 57. Log joint probability =    869.284. Improved by 4.69446e-06.\n",
      "Iteration 17. Log joint probability =    3041.85. Improved by 0.856555.\n",
      "Iteration 58. Log joint probability =    869.284. Improved by 8.88579e-06.\n",
      "Iteration 28. Log joint probability =    1867.71. Improved by 0.000627407.\n",
      "Iteration 59. Log joint probability =    869.284. Improved by 1.4026e-06.\n",
      "Iteration 29. Log joint probability =    1867.71. Improved by 0.000209574.\n",
      "Iteration 60. Log joint probability =    869.284. Improved by 5.05711e-07.\n",
      "Iteration 18. Log joint probability =     3042.3. Improved by 0.449877.\n",
      "Iteration 61. Log joint probability =    869.284. Improved by 1.24942e-06.\n",
      "Iteration 30. Log joint probability =    1867.71. Improved by 0.000117623.\n",
      "Iteration 62. Log joint probability =    869.284. Improved by 4.92638e-07.\n",
      "Iteration 63. Log joint probability =    869.284. Improved by 1.24682e-06.\n",
      "Iteration 19. Log joint probability =     3042.8. Improved by 0.502538.\n",
      "Iteration 31. Log joint probability =    1867.71. Improved by 8.19863e-05.\n",
      "Iteration 64. Log joint probability =    869.284. Improved by 4.99312e-07.\n",
      "Iteration 65. Log joint probability =    869.284. Improved by 1.2688e-06.\n",
      "Iteration 32. Log joint probability =    1867.71. Improved by 2.63646e-05.\n",
      "Iteration 66. Log joint probability =    869.284. Improved by 2.6952e-07.\n",
      "Iteration 20. Log joint probability =    3043.14. Improved by 0.340332.\n",
      "Iteration 67. Log joint probability =    869.284. Improved by 1.57497e-06.\n",
      "Iteration 33. Log joint probability =    1867.71. Improved by 4.13248e-05.\n",
      "Iteration 68. Log joint probability =    869.284. Improved by 1.50134e-07.\n",
      "Iteration 69. Log joint probability =    869.284. Improved by 1.24707e-06.\n",
      "Iteration 21. Log joint probability =    3043.17. Improved by 0.0294381.\n",
      "Iteration 34. Log joint probability =    1867.71. Improved by 4.24509e-05.\n",
      "Iteration 70. Log joint probability =    869.284. Improved by 8.47806e-07.\n",
      "Iteration 71. Log joint probability =    869.284. Improved by 4.83078e-07.\n",
      "Iteration 35. Log joint probability =    1867.71. Improved by 2.214e-05.\n",
      "Iteration 22. Log joint probability =    3043.18. Improved by 0.00261627.\n",
      "Iteration 72. Log joint probability =    869.284. Improved by 1.47188e-06.\n",
      "Iteration 73. Log joint probability =    869.284. Improved by 4.72518e-06.\n",
      "Iteration 36. Log joint probability =    1867.71. Improved by 1.85853e-05.\n"
     ]
    },
    {
     "name": "stdout",
     "output_type": "stream",
     "text": [
      "Iteration 74. Log joint probability =    869.284. Improved by 5.98382e-07.\n",
      "Iteration 23. Log joint probability =    3043.23. Improved by 0.0534346.\n",
      "Iteration 75. Log joint probability =    869.284. Improved by 5.13095e-07.\n",
      "Iteration 37. Log joint probability =    1867.71. Improved by 7.26515e-06.\n",
      "Iteration 76. Log joint probability =    869.284. Improved by 1.4689e-07.\n",
      "Iteration 77. Log joint probability =    869.284. Improved by 9.56959e-07.\n",
      "Iteration 38. Log joint probability =    1867.71. Improved by 5.55533e-06.\n",
      "Iteration 24. Log joint probability =    3043.46. Improved by 0.230151.\n",
      "Iteration 78. Log joint probability =    869.284. Improved by 2.30672e-06.\n",
      "Iteration 79. Log joint probability =    869.284. Improved by 2.62897e-07.\n",
      "Iteration 39. Log joint probability =    1867.71. Improved by 1.76566e-06.\n",
      "Iteration 80. Log joint probability =    869.284. Improved by 1.15877e-07.\n",
      "Iteration 25. Log joint probability =     3043.5. Improved by 0.0412269.\n",
      "Iteration 81. Log joint probability =    869.284. Improved by 3.46528e-07.\n",
      "Iteration 40. Log joint probability =    1867.71. Improved by 1.04076e-06.\n",
      "Iteration 82. Log joint probability =    869.284. Improved by 2.38413e-08.\n",
      "Iteration 83. Log joint probability =    869.284. Improved by 4.86385e-07.\n",
      "Iteration 26. Log joint probability =    3043.62. Improved by 0.118011.\n",
      "Iteration 41. Log joint probability =    1867.71. Improved by 1.83987e-07.\n",
      "Iteration 84. Log joint probability =    869.284. Improved by 1.051e-06.\n",
      "Iteration 85. Log joint probability =    869.284. Improved by 3.14628e-07.\n",
      "Iteration 42. Log joint probability =    1867.71. Improved by 5.09207e-07.\n",
      "Iteration 27. Log joint probability =    3043.66. Improved by 0.0423071.\n",
      "Iteration 86. Log joint probability =    869.284. Improved by 5.74399e-07.\n",
      "Iteration 87. Log joint probability =    869.284. Improved by 3.19004e-08.\n",
      "Iteration 43. Log joint probability =    1867.71. Improved by 3.99018e-09.\n",
      "Iteration 88. Log joint probability =    869.284. Improved by 7.46882e-08.\n"
     ]
    },
    {
     "name": "stderr",
     "output_type": "stream",
     "text": [
      "/Users/rco/opt/anaconda3/envs/tps/lib/python3.9/site-packages/prophet/forecaster.py:896: FutureWarning: The frame.append method is deprecated and will be removed from pandas in a future version. Use pandas.concat instead.\n",
      "  components = components.append(new_comp)\n",
      "/Users/rco/opt/anaconda3/envs/tps/lib/python3.9/site-packages/prophet/forecaster.py:896: FutureWarning: The frame.append method is deprecated and will be removed from pandas in a future version. Use pandas.concat instead.\n",
      "  components = components.append(new_comp)\n"
     ]
    },
    {
     "name": "stdout",
     "output_type": "stream",
     "text": [
      "Iteration 28. Log joint probability =    3043.71. Improved by 0.0519023.\n",
      "Iteration 89. Log joint probability =    869.284. Improved by 2.52035e-08.\n",
      "Iteration 90. Log joint probability =    869.284. Improved by 9.23098e-08.\n",
      "Iteration 91. Log joint probability =    869.284. Improved by 1.31911e-09.\n",
      "Iteration 29. Log joint probability =    3043.73. Improved by 0.0160762.\n"
     ]
    },
    {
     "name": "stderr",
     "output_type": "stream",
     "text": [
      "/Users/rco/opt/anaconda3/envs/tps/lib/python3.9/site-packages/prophet/forecaster.py:896: FutureWarning: The frame.append method is deprecated and will be removed from pandas in a future version. Use pandas.concat instead.\n",
      "  components = components.append(new_comp)\n",
      "/Users/rco/opt/anaconda3/envs/tps/lib/python3.9/site-packages/prophet/forecaster.py:896: FutureWarning: The frame.append method is deprecated and will be removed from pandas in a future version. Use pandas.concat instead.\n",
      "  components = components.append(new_comp)\n"
     ]
    },
    {
     "name": "stdout",
     "output_type": "stream",
     "text": [
      "Iteration 30. Log joint probability =    3043.77. Improved by 0.0383188.\n",
      "Iteration 31. Log joint probability =    3043.78. Improved by 0.0120327.\n",
      "Iteration 32. Log joint probability =    3043.78. Improved by 0.0001367.\n",
      "Iteration 33. Log joint probability =    3043.79. Improved by 0.00816464.\n"
     ]
    }
   ],
   "source": [
    "# Use cross validation to evaluate all parameters\n",
    "for params in all_params:\n",
    "    m = Prophet(**params).fit(df)  # Fit model with given params\n",
    "    df_cv = cross_validation(m, initial=1095, cutoffs=cutoffs, horizon='365 days', parallel=\"processes\")\n",
    "    df_p = performance_metrics(df_cv, rolling_window=1)\n",
    "    smapes.append(df_p['smape'].values[0])\n",
    "\n",
    "# Find the best parameters\n",
    "tuning_results = pd.DataFrame(all_params)\n",
    "tuning_results['smape'] = smapes"
   ]
  },
  {
   "cell_type": "code",
   "execution_count": null,
   "metadata": {
    "execution": {
     "iopub.status.busy": "2022-01-23T23:46:15.838469Z",
     "iopub.status.idle": "2022-01-23T23:46:15.839229Z",
     "shell.execute_reply": "2022-01-23T23:46:15.838933Z",
     "shell.execute_reply.started": "2022-01-23T23:46:15.838898Z"
    }
   },
   "outputs": [],
   "source": [
    "tuning_results"
   ]
  },
  {
   "cell_type": "code",
   "execution_count": null,
   "metadata": {},
   "outputs": [],
   "source": [
    "tuning_results"
   ]
  },
  {
   "cell_type": "code",
   "execution_count": null,
   "metadata": {
    "execution": {
     "iopub.execute_input": "2022-01-23T23:07:24.399806Z",
     "iopub.status.busy": "2022-01-23T23:07:24.399010Z",
     "iopub.status.idle": "2022-01-23T23:07:24.408548Z",
     "shell.execute_reply": "2022-01-23T23:07:24.407895Z",
     "shell.execute_reply.started": "2022-01-23T23:07:24.399763Z"
    }
   },
   "outputs": [],
   "source": [
    "df_cv[df_cv.cutoff=='2017-12-31T00:00:00.000000000'].ds.max()"
   ]
  },
  {
   "cell_type": "code",
   "execution_count": null,
   "metadata": {
    "execution": {
     "iopub.execute_input": "2022-01-23T20:34:30.259452Z",
     "iopub.status.busy": "2022-01-23T20:34:30.259187Z",
     "iopub.status.idle": "2022-01-23T20:34:30.281164Z",
     "shell.execute_reply": "2022-01-23T20:34:30.280239Z",
     "shell.execute_reply.started": "2022-01-23T20:34:30.259424Z"
    }
   },
   "outputs": [],
   "source": [
    "submission = test[['row_id']]\n",
    "submission = pd.concat([submission, test_preds[['yhat']]], axis=0)\n",
    "submission.rename({'yhat':'num_sold'}, axis=1, inplace=True)\n",
    "# submission['num_sold'] = np.ceil(submission.num_sold)\n",
    "submission.describe()"
   ]
  },
  {
   "cell_type": "code",
   "execution_count": null,
   "metadata": {
    "execution": {
     "iopub.execute_input": "2022-01-23T20:31:07.627806Z",
     "iopub.status.busy": "2022-01-23T20:31:07.627068Z",
     "iopub.status.idle": "2022-01-23T20:31:07.674736Z",
     "shell.execute_reply": "2022-01-23T20:31:07.673963Z",
     "shell.execute_reply.started": "2022-01-23T20:31:07.627757Z"
    }
   },
   "outputs": [],
   "source": [
    "submission.to_csv('submission.csv', index=False)"
   ]
  }
 ],
 "metadata": {
  "kernelspec": {
   "display_name": "tps",
   "language": "python",
   "name": "tps"
  },
  "language_info": {
   "codemirror_mode": {
    "name": "ipython",
    "version": 3
   },
   "file_extension": ".py",
   "mimetype": "text/x-python",
   "name": "python",
   "nbconvert_exporter": "python",
   "pygments_lexer": "ipython3",
   "version": "3.9.9"
  }
 },
 "nbformat": 4,
 "nbformat_minor": 4
}
